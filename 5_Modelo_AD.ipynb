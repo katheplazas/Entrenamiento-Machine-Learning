{
 "cells": [
  {
   "cell_type": "markdown",
   "metadata": {},
   "source": [
    "<h1> Librerias Necesarias </h1>"
   ]
  },
  {
   "cell_type": "code",
   "execution_count": 24,
   "metadata": {},
   "outputs": [],
   "source": [
    "import pandas as pd\n",
    "import numpy as np\n",
    "from sklearn import metrics\n",
    "import matplotlib.pyplot as plt\n",
    "import seaborn as sns\n",
    "import pickle\n",
    "from sklearn.model_selection import GridSearchCV\n",
    "from sklearn.tree import DecisionTreeClassifier\n"
   ]
  },
  {
   "cell_type": "markdown",
   "metadata": {},
   "source": [
    "<h1> Cargando base de datos de entrenamiento y prueba estandarizados </h1>"
   ]
  },
  {
   "cell_type": "code",
   "execution_count": 2,
   "metadata": {},
   "outputs": [],
   "source": [
    "def confusion_matrix_graf(y_true, y_pred, dataset = 'Train'):\n",
    "    # Confusion martix of train and test\n",
    "    # Train confusion matrix\n",
    "    labels= ['non-attack', 'attack']\n",
    "    plt.figure(figsize=(16,5))\n",
    "    plt.subplot(1,2,1)\n",
    "    sns.heatmap(metrics.confusion_matrix(y_true, y_pred),\n",
    "                annot=True, cmap=sns.light_palette(\"blue\"), fmt='d',\n",
    "                xticklabels=labels, yticklabels=labels)\n",
    "    plt.xlabel(\"Predicted\")\n",
    "    plt.ylabel(\"Actual\")\n",
    "    plt.title(dataset + \" Confusion Matrix\")\n"
   ]
  },
  {
   "cell_type": "code",
   "execution_count": 3,
   "metadata": {},
   "outputs": [],
   "source": [
    "def metrics_train_test(y_train_true,y_train_pred,y_test_true, y_test_pred):\n",
    "        # auc curve\n",
    "        train_fpr, train_tpr, tr_thresholds = metrics.roc_curve(y_train_true, y_train_pred)\n",
    "        test_fpr, test_tpr, te_thresholds = metrics.roc_curve(y_test_true, y_test_pred)\n",
    "\n",
    "        # Scores of train dataset\n",
    "        train_auc = metrics.auc(train_fpr, train_tpr)\n",
    "        train_acc = metrics.accuracy_score(y_train_true, y_train_pred)\n",
    "        train_precision = metrics.precision_score(y_train_true, y_train_pred)\n",
    "        train_precision_avg = metrics.precision_score(y_train_true, y_train_pred, average='macro')\n",
    "        train_recall = metrics.recall_score(y_train_true, y_train_pred)\n",
    "        train_recall_avg = metrics.recall_score(y_train_true, y_train_pred, average='macro')\n",
    "        train_f1 = metrics.f1_score(y_train_true, y_train_pred)\n",
    "        train_f1_avg = metrics.f1_score(y_train_true, y_train_pred, average='macro')\n",
    "\n",
    "        # Scores of test dataset\n",
    "        test_auc = metrics.auc(test_fpr, test_tpr)\n",
    "        test_acc = metrics.accuracy_score(y_test_true, y_test_pred)\n",
    "        test_precision = metrics.precision_score(y_test_true, y_test_pred)\n",
    "        test_precision_avg = metrics.precision_score(y_test_true, y_test_pred, average='macro')\n",
    "        test_recall = metrics.recall_score(y_test_true, y_test_pred)\n",
    "        test_recall_avg = metrics.recall_score(y_test_true, y_test_pred, average='macro')\n",
    "        test_f1 = metrics.f1_score(y_test_true, y_test_pred)\n",
    "        test_f1_avg = metrics.f1_score(y_test_true, y_test_pred, average='macro')\n",
    "\n",
    "        col = ['DataSet','Model','AUC','ACC','Precision','Precision_avg', 'recall', 'recall_avg', 'f1','f1_avg']\n",
    "        data = [['Train', 'AD', train_auc, train_acc,train_precision,train_precision_avg,train_recall,train_recall_avg,train_f1,train_f1_avg],\n",
    "                ['Test', 'AD', test_auc, test_acc,test_precision,test_precision_avg,test_recall,test_recall_avg,test_f1,test_f1_avg]]\n",
    "        df_metrics = pd.DataFrame(data, columns = col)\n",
    "\n",
    "        # Plot AUC curve\n",
    "        plt.figure()\n",
    "        plt.plot(train_fpr, train_tpr, label=f\"Train AUC: {train_auc}\")\n",
    "        plt.plot(test_fpr, test_tpr, label=f\"Test AUC: {test_auc}\")\n",
    "        plt.xlabel('False Positive Rate')\n",
    "        plt.ylabel('True Positive Rate')\n",
    "        plt.grid()\n",
    "        plt.title(\"Train Curve ROC\")\n",
    "        plt.legend()\n",
    "        plt.show()\n",
    "\n",
    "        return df_metrics"
   ]
  },
  {
   "cell_type": "code",
   "execution_count": 25,
   "metadata": {},
   "outputs": [],
   "source": [
    "# Train and Test data\n",
    "x_train, y_train = pickle.load(open('final_train_all_stand.pkl', 'rb'))\n",
    "x_test, y_test = pickle.load(open('final_test_all_stand.pkl', 'rb'))"
   ]
  },
  {
   "cell_type": "code",
   "execution_count": 26,
   "metadata": {},
   "outputs": [],
   "source": [
    "pickle_model = pickle.load(open('model_clf_DT.pkl','rb'))\n"
   ]
  },
  {
   "cell_type": "code",
   "execution_count": 28,
   "metadata": {},
   "outputs": [],
   "source": [
    "x_train = x_train.iloc[:, 0:11]\n",
    "x_test = x_test.iloc[:, 0:11]"
   ]
  },
  {
   "cell_type": "code",
   "execution_count": 37,
   "metadata": {},
   "outputs": [],
   "source": [
    "prob = pickle_model.predict_proba(x_test)"
   ]
  },
  {
   "cell_type": "code",
   "execution_count": 38,
   "metadata": {},
   "outputs": [
    {
     "data": {
      "text/plain": [
       "array([1., 1., 1., ..., 0., 1., 0.])"
      ]
     },
     "execution_count": 38,
     "metadata": {},
     "output_type": "execute_result"
    }
   ],
   "source": [
    "prob = prob[:,1]\n",
    "prob"
   ]
  },
  {
   "cell_type": "code",
   "execution_count": 41,
   "metadata": {},
   "outputs": [
    {
     "data": {
      "text/plain": [
       "array([0.        , 0.0625    , 0.95238095, 1.        ])"
      ]
     },
     "execution_count": 41,
     "metadata": {},
     "output_type": "execute_result"
    }
   ],
   "source": [
    "np.unique(prob)"
   ]
  },
  {
   "cell_type": "code",
   "execution_count": 9,
   "metadata": {},
   "outputs": [],
   "source": [
    "# Entrenamiento del modelo\n",
    "model = DecisionTreeClassifier(max_depth = 5, min_samples_split=2, random_state=0)\n",
    "model.fit(x_train,y_train)\n",
    "y_train_pred = model.predict(x_train)\n",
    "y_test_pred = model.predict(x_test)"
   ]
  },
  {
   "cell_type": "code",
   "execution_count": 10,
   "metadata": {},
   "outputs": [
    {
     "data": {
      "image/png": "[encoded data removed]",
      "text/plain": [
       "<Figure size 1152x360 with 2 Axes>"
      ]
     },
     "metadata": {
      "needs_background": "light"
     },
     "output_type": "display_data"
    }
   ],
   "source": [
    "confusion_matrix_graf(y_train,y_train_pred,'Train')"
   ]
  },
  {
   "cell_type": "code",
   "execution_count": 11,
   "metadata": {},
   "outputs": [
    {
     "data": {
      "image/png": "[encoded data removed]",
      "text/plain": [
       "<Figure size 1152x360 with 2 Axes>"
      ]
     },
     "metadata": {
      "needs_background": "light"
     },
     "output_type": "display_data"
    }
   ],
   "source": [
    "confusion_matrix_graf(y_test,y_test_pred,'Train')"
   ]
  },
  {
   "cell_type": "code",
   "execution_count": 12,
   "metadata": {},
   "outputs": [
    {
     "data": {
      "image/png": "[encoded data removed]",
      "text/plain": [
       "<Figure size 432x288 with 1 Axes>"
      ]
     },
     "metadata": {
      "needs_background": "light"
     },
     "output_type": "display_data"
    },
    {
     "data": {
      "text/html": [
       "<div>\n",
       "<style scoped>\n",
       "    .dataframe tbody tr th:only-of-type {\n",
       "        vertical-align: middle;\n",
       "    }\n",
       "\n",
       "    .dataframe tbody tr th {\n",
       "        vertical-align: top;\n",
       "    }\n",
       "\n",
       "    .dataframe thead th {\n",
       "        text-align: right;\n",
       "    }\n",
       "</style>\n",
       "<table border=\"1\" class=\"dataframe\">\n",
       "  <thead>\n",
       "    <tr style=\"text-align: right;\">\n",
       "      <th></th>\n",
       "      <th>DataSet</th>\n",
       "      <th>Model</th>\n",
       "      <th>AUC</th>\n",
       "      <th>ACC</th>\n",
       "      <th>Precision</th>\n",
       "      <th>Precision_avg</th>\n",
       "      <th>recall</th>\n",
       "      <th>recall_avg</th>\n",
       "      <th>f1</th>\n",
       "      <th>f1_avg</th>\n",
       "    </tr>\n",
       "  </thead>\n",
       "  <tbody>\n",
       "    <tr>\n",
       "      <th>0</th>\n",
       "      <td>Train</td>\n",
       "      <td>AD</td>\n",
       "      <td>0.999607</td>\n",
       "      <td>0.999607</td>\n",
       "      <td>0.999215</td>\n",
       "      <td>0.999607</td>\n",
       "      <td>1.0</td>\n",
       "      <td>0.999607</td>\n",
       "      <td>0.999607</td>\n",
       "      <td>0.999607</td>\n",
       "    </tr>\n",
       "    <tr>\n",
       "      <th>1</th>\n",
       "      <td>Test</td>\n",
       "      <td>AD</td>\n",
       "      <td>0.999633</td>\n",
       "      <td>0.999633</td>\n",
       "      <td>0.999268</td>\n",
       "      <td>0.999634</td>\n",
       "      <td>1.0</td>\n",
       "      <td>0.999633</td>\n",
       "      <td>0.999634</td>\n",
       "      <td>0.999633</td>\n",
       "    </tr>\n",
       "  </tbody>\n",
       "</table>\n",
       "</div>"
      ],
      "text/plain": [
       "  DataSet Model       AUC       ACC  Precision  Precision_avg  recall  \\\n",
       "0   Train    AD  0.999607  0.999607   0.999215       0.999607     1.0   \n",
       "1    Test    AD  0.999633  0.999633   0.999268       0.999634     1.0   \n",
       "\n",
       "   recall_avg        f1    f1_avg  \n",
       "0    0.999607  0.999607  0.999607  \n",
       "1    0.999633  0.999634  0.999633  "
      ]
     },
     "execution_count": 12,
     "metadata": {},
     "output_type": "execute_result"
    }
   ],
   "source": [
    "metrics_AD = metrics_train_test(y_train,y_train_pred,y_test, y_test_pred)\n",
    "metrics_AD"
   ]
  },
  {
   "cell_type": "code",
   "execution_count": 13,
   "metadata": {},
   "outputs": [
    {
     "name": "stdout",
     "output_type": "stream",
     "text": [
      "Fitting 3 folds for each of 15 candidates, totalling 45 fits\n",
      "[CV 1/3] END max_depth=5, min_samples_split=2; acc: (train=1.000, test=1.000) auc: (train=1.000, test=1.000) f1: (train=1.000, test=1.000) precision: (train=0.999, test=0.999) recall: (train=1.000, test=1.000) total time=   0.9s\n",
      "[CV 2/3] END max_depth=5, min_samples_split=2; acc: (train=1.000, test=1.000) auc: (train=1.000, test=1.000) f1: (train=1.000, test=1.000) precision: (train=0.999, test=0.999) recall: (train=1.000, test=1.000) total time=   0.8s\n",
      "[CV 3/3] END max_depth=5, min_samples_split=2; acc: (train=1.000, test=1.000) auc: (train=1.000, test=1.000) f1: (train=1.000, test=1.000) precision: (train=0.999, test=0.999) recall: (train=1.000, test=1.000) total time=   0.9s\n",
      "[CV 1/3] END max_depth=5, min_samples_split=4; acc: (train=1.000, test=1.000) auc: (train=1.000, test=1.000) f1: (train=1.000, test=1.000) precision: (train=0.999, test=0.999) recall: (train=1.000, test=1.000) total time=   0.8s\n",
      "[CV 2/3] END max_depth=5, min_samples_split=4; acc: (train=1.000, test=1.000) auc: (train=1.000, test=1.000) f1: (train=1.000, test=1.000) precision: (train=0.999, test=0.999) recall: (train=1.000, test=1.000) total time=   0.9s\n",
      "[CV 3/3] END max_depth=5, min_samples_split=4; acc: (train=1.000, test=1.000) auc: (train=1.000, test=1.000) f1: (train=1.000, test=1.000) precision: (train=0.999, test=0.999) recall: (train=1.000, test=1.000) total time=   0.8s\n",
      "[CV 1/3] END max_depth=5, min_samples_split=6; acc: (train=1.000, test=1.000) auc: (train=1.000, test=1.000) f1: (train=1.000, test=1.000) precision: (train=0.999, test=0.999) recall: (train=1.000, test=1.000) total time=   0.8s\n",
      "[CV 2/3] END max_depth=5, min_samples_split=6; acc: (train=1.000, test=1.000) auc: (train=1.000, test=1.000) f1: (train=1.000, test=1.000) precision: (train=0.999, test=0.999) recall: (train=1.000, test=1.000) total time=   0.9s\n",
      "[CV 3/3] END max_depth=5, min_samples_split=6; acc: (train=1.000, test=1.000) auc: (train=1.000, test=1.000) f1: (train=1.000, test=1.000) precision: (train=0.999, test=0.999) recall: (train=1.000, test=1.000) total time=   0.8s\n",
      "[CV 1/3] END max_depth=8, min_samples_split=2; acc: (train=1.000, test=1.000) auc: (train=1.000, test=1.000) f1: (train=1.000, test=1.000) precision: (train=1.000, test=1.000) recall: (train=1.000, test=1.000) total time=   0.9s\n",
      "[CV 2/3] END max_depth=8, min_samples_split=2; acc: (train=1.000, test=1.000) auc: (train=1.000, test=1.000) f1: (train=1.000, test=1.000) precision: (train=1.000, test=1.000) recall: (train=1.000, test=1.000) total time=   1.4s\n",
      "[CV 3/3] END max_depth=8, min_samples_split=2; acc: (train=1.000, test=1.000) auc: (train=1.000, test=1.000) f1: (train=1.000, test=1.000) precision: (train=1.000, test=1.000) recall: (train=1.000, test=1.000) total time=   0.9s\n",
      "[CV 1/3] END max_depth=8, min_samples_split=4; acc: (train=1.000, test=1.000) auc: (train=1.000, test=1.000) f1: (train=1.000, test=1.000) precision: (train=1.000, test=1.000) recall: (train=1.000, test=1.000) total time=   0.8s\n",
      "[CV 2/3] END max_depth=8, min_samples_split=4; acc: (train=1.000, test=1.000) auc: (train=1.000, test=1.000) f1: (train=1.000, test=1.000) precision: (train=1.000, test=1.000) recall: (train=1.000, test=1.000) total time=   0.9s\n",
      "[CV 3/3] END max_depth=8, min_samples_split=4; acc: (train=1.000, test=1.000) auc: (train=1.000, test=1.000) f1: (train=1.000, test=1.000) precision: (train=1.000, test=1.000) recall: (train=1.000, test=1.000) total time=   1.0s\n",
      "[CV 1/3] END max_depth=8, min_samples_split=6; acc: (train=1.000, test=1.000) auc: (train=1.000, test=1.000) f1: (train=1.000, test=1.000) precision: (train=1.000, test=1.000) recall: (train=1.000, test=1.000) total time=   0.8s\n",
      "[CV 2/3] END max_depth=8, min_samples_split=6; acc: (train=1.000, test=1.000) auc: (train=1.000, test=1.000) f1: (train=1.000, test=1.000) precision: (train=1.000, test=1.000) recall: (train=1.000, test=1.000) total time=   0.9s\n",
      "[CV 3/3] END max_depth=8, min_samples_split=6; acc: (train=1.000, test=1.000) auc: (train=1.000, test=1.000) f1: (train=1.000, test=1.000) precision: (train=1.000, test=1.000) recall: (train=1.000, test=1.000) total time=   0.9s\n",
      "[CV 1/3] END max_depth=10, min_samples_split=2; acc: (train=1.000, test=1.000) auc: (train=1.000, test=1.000) f1: (train=1.000, test=1.000) precision: (train=1.000, test=1.000) recall: (train=1.000, test=1.000) total time=   0.8s\n",
      "[CV 2/3] END max_depth=10, min_samples_split=2; acc: (train=1.000, test=1.000) auc: (train=1.000, test=1.000) f1: (train=1.000, test=1.000) precision: (train=1.000, test=1.000) recall: (train=1.000, test=1.000) total time=   0.9s\n",
      "[CV 3/3] END max_depth=10, min_samples_split=2; acc: (train=1.000, test=1.000) auc: (train=1.000, test=1.000) f1: (train=1.000, test=1.000) precision: (train=1.000, test=1.000) recall: (train=1.000, test=1.000) total time=   0.8s\n",
      "[CV 1/3] END max_depth=10, min_samples_split=4; acc: (train=1.000, test=1.000) auc: (train=1.000, test=1.000) f1: (train=1.000, test=1.000) precision: (train=1.000, test=1.000) recall: (train=1.000, test=1.000) total time=   0.8s\n",
      "[CV 2/3] END max_depth=10, min_samples_split=4; acc: (train=1.000, test=1.000) auc: (train=1.000, test=1.000) f1: (train=1.000, test=1.000) precision: (train=1.000, test=1.000) recall: (train=1.000, test=1.000) total time=   0.8s\n",
      "[CV 3/3] END max_depth=10, min_samples_split=4; acc: (train=1.000, test=1.000) auc: (train=1.000, test=1.000) f1: (train=1.000, test=1.000) precision: (train=1.000, test=1.000) recall: (train=1.000, test=1.000) total time=   0.8s\n",
      "[CV 1/3] END max_depth=10, min_samples_split=6; acc: (train=1.000, test=1.000) auc: (train=1.000, test=1.000) f1: (train=1.000, test=1.000) precision: (train=1.000, test=1.000) recall: (train=1.000, test=1.000) total time=   0.9s\n",
      "[CV 2/3] END max_depth=10, min_samples_split=6; acc: (train=1.000, test=1.000) auc: (train=1.000, test=1.000) f1: (train=1.000, test=1.000) precision: (train=1.000, test=1.000) recall: (train=1.000, test=1.000) total time=   0.8s\n",
      "[CV 3/3] END max_depth=10, min_samples_split=6; acc: (train=1.000, test=1.000) auc: (train=1.000, test=1.000) f1: (train=1.000, test=1.000) precision: (train=1.000, test=1.000) recall: (train=1.000, test=1.000) total time=   0.8s\n",
      "[CV 1/3] END max_depth=12, min_samples_split=2; acc: (train=1.000, test=1.000) auc: (train=1.000, test=1.000) f1: (train=1.000, test=1.000) precision: (train=1.000, test=1.000) recall: (train=1.000, test=1.000) total time=   0.8s\n",
      "[CV 2/3] END max_depth=12, min_samples_split=2; acc: (train=1.000, test=1.000) auc: (train=1.000, test=1.000) f1: (train=1.000, test=1.000) precision: (train=1.000, test=1.000) recall: (train=1.000, test=1.000) total time=   0.8s\n",
      "[CV 3/3] END max_depth=12, min_samples_split=2; acc: (train=1.000, test=1.000) auc: (train=1.000, test=1.000) f1: (train=1.000, test=1.000) precision: (train=1.000, test=1.000) recall: (train=1.000, test=1.000) total time=   0.8s\n",
      "[CV 1/3] END max_depth=12, min_samples_split=4; acc: (train=1.000, test=1.000) auc: (train=1.000, test=1.000) f1: (train=1.000, test=1.000) precision: (train=1.000, test=1.000) recall: (train=1.000, test=1.000) total time=   0.8s\n",
      "[CV 2/3] END max_depth=12, min_samples_split=4; acc: (train=1.000, test=1.000) auc: (train=1.000, test=1.000) f1: (train=1.000, test=1.000) precision: (train=1.000, test=1.000) recall: (train=1.000, test=1.000) total time=   0.7s\n",
      "[CV 3/3] END max_depth=12, min_samples_split=4; acc: (train=1.000, test=1.000) auc: (train=1.000, test=1.000) f1: (train=1.000, test=1.000) precision: (train=1.000, test=1.000) recall: (train=1.000, test=1.000) total time=   0.8s\n",
      "[CV 1/3] END max_depth=12, min_samples_split=6; acc: (train=1.000, test=1.000) auc: (train=1.000, test=1.000) f1: (train=1.000, test=1.000) precision: (train=1.000, test=1.000) recall: (train=1.000, test=1.000) total time=   0.8s\n",
      "[CV 2/3] END max_depth=12, min_samples_split=6; acc: (train=1.000, test=1.000) auc: (train=1.000, test=1.000) f1: (train=1.000, test=1.000) precision: (train=1.000, test=1.000) recall: (train=1.000, test=1.000) total time=   0.8s\n",
      "[CV 3/3] END max_depth=12, min_samples_split=6; acc: (train=1.000, test=1.000) auc: (train=1.000, test=1.000) f1: (train=1.000, test=1.000) precision: (train=1.000, test=1.000) recall: (train=1.000, test=1.000) total time=   0.8s\n",
      "[CV 1/3] END max_depth=14, min_samples_split=2; acc: (train=1.000, test=1.000) auc: (train=1.000, test=1.000) f1: (train=1.000, test=1.000) precision: (train=1.000, test=1.000) recall: (train=1.000, test=1.000) total time=   0.9s\n",
      "[CV 2/3] END max_depth=14, min_samples_split=2; acc: (train=1.000, test=1.000) auc: (train=1.000, test=1.000) f1: (train=1.000, test=1.000) precision: (train=1.000, test=1.000) recall: (train=1.000, test=1.000) total time=   0.8s\n",
      "[CV 3/3] END max_depth=14, min_samples_split=2; acc: (train=1.000, test=1.000) auc: (train=1.000, test=1.000) f1: (train=1.000, test=1.000) precision: (train=1.000, test=1.000) recall: (train=1.000, test=1.000) total time=   0.8s\n",
      "[CV 1/3] END max_depth=14, min_samples_split=4; acc: (train=1.000, test=1.000) auc: (train=1.000, test=1.000) f1: (train=1.000, test=1.000) precision: (train=1.000, test=1.000) recall: (train=1.000, test=1.000) total time=   0.8s\n",
      "[CV 2/3] END max_depth=14, min_samples_split=4; acc: (train=1.000, test=1.000) auc: (train=1.000, test=1.000) f1: (train=1.000, test=1.000) precision: (train=1.000, test=1.000) recall: (train=1.000, test=1.000) total time=   0.8s\n",
      "[CV 3/3] END max_depth=14, min_samples_split=4; acc: (train=1.000, test=1.000) auc: (train=1.000, test=1.000) f1: (train=1.000, test=1.000) precision: (train=1.000, test=1.000) recall: (train=1.000, test=1.000) total time=   0.8s\n",
      "[CV 1/3] END max_depth=14, min_samples_split=6; acc: (train=1.000, test=1.000) auc: (train=1.000, test=1.000) f1: (train=1.000, test=1.000) precision: (train=1.000, test=1.000) recall: (train=1.000, test=1.000) total time=   0.8s\n",
      "[CV 2/3] END max_depth=14, min_samples_split=6; acc: (train=1.000, test=1.000) auc: (train=1.000, test=1.000) f1: (train=1.000, test=1.000) precision: (train=1.000, test=1.000) recall: (train=1.000, test=1.000) total time=   0.8s\n",
      "[CV 3/3] END max_depth=14, min_samples_split=6; acc: (train=1.000, test=1.000) auc: (train=1.000, test=1.000) f1: (train=1.000, test=1.000) precision: (train=1.000, test=1.000) recall: (train=1.000, test=1.000) total time=   1.1s\n"
     ]
    }
   ],
   "source": [
    "clf = DecisionTreeClassifier(random_state=0)\n",
    "param = {'max_depth':[5, 8, 10, 12, 14],\n",
    "         'min_samples_split':[2, 4, 6]}\n",
    "\n",
    "# initialization\n",
    "scoring = {'auc':'roc_auc',\n",
    "        'acc' : 'accuracy',\n",
    "        'precision' : 'precision',\n",
    "        'recall' : 'recall',\n",
    "        'f1':'f1'}\n",
    "\n",
    "tuning_clf = GridSearchCV(clf, param, scoring=scoring, refit='acc', cv=3, verbose=3, return_train_score=True)\n",
    "hyperparam_tuning = tuning_clf.fit(x_train,y_train)\n"
   ]
  },
  {
   "cell_type": "code",
   "execution_count": 23,
   "metadata": {},
   "outputs": [
    {
     "name": "stdout",
     "output_type": "stream",
     "text": [
      "DecisionTreeClassifier(max_depth=12, random_state=0)\n"
     ]
    }
   ],
   "source": [
    "print(hyperparam_tuning.best_estimator_)"
   ]
  },
  {
   "cell_type": "code",
   "execution_count": 15,
   "metadata": {},
   "outputs": [
    {
     "name": "stdout",
     "output_type": "stream",
     "text": [
      "{'max_depth': 12, 'min_samples_split': 2}\n"
     ]
    }
   ],
   "source": [
    "print(hyperparam_tuning.best_params_)"
   ]
  },
  {
   "cell_type": "code",
   "execution_count": 16,
   "metadata": {},
   "outputs": [
    {
     "name": "stdout",
     "output_type": "stream",
     "text": [
      "0.9999500000127538\n"
     ]
    }
   ],
   "source": [
    "print(hyperparam_tuning.best_score_)"
   ]
  },
  {
   "cell_type": "code",
   "execution_count": 17,
   "metadata": {},
   "outputs": [
    {
     "data": {
      "text/html": [
       "<div>\n",
       "<style scoped>\n",
       "    .dataframe tbody tr th:only-of-type {\n",
       "        vertical-align: middle;\n",
       "    }\n",
       "\n",
       "    .dataframe tbody tr th {\n",
       "        vertical-align: top;\n",
       "    }\n",
       "\n",
       "    .dataframe thead th {\n",
       "        text-align: right;\n",
       "    }\n",
       "</style>\n",
       "<table border=\"1\" class=\"dataframe\">\n",
       "  <thead>\n",
       "    <tr style=\"text-align: right;\">\n",
       "      <th></th>\n",
       "      <th>mean_fit_time</th>\n",
       "      <th>std_fit_time</th>\n",
       "      <th>mean_score_time</th>\n",
       "      <th>std_score_time</th>\n",
       "      <th>param_max_depth</th>\n",
       "      <th>param_min_samples_split</th>\n",
       "      <th>params</th>\n",
       "      <th>split0_test_auc</th>\n",
       "      <th>split1_test_auc</th>\n",
       "      <th>split2_test_auc</th>\n",
       "      <th>...</th>\n",
       "      <th>split1_test_f1</th>\n",
       "      <th>split2_test_f1</th>\n",
       "      <th>mean_test_f1</th>\n",
       "      <th>std_test_f1</th>\n",
       "      <th>rank_test_f1</th>\n",
       "      <th>split0_train_f1</th>\n",
       "      <th>split1_train_f1</th>\n",
       "      <th>split2_train_f1</th>\n",
       "      <th>mean_train_f1</th>\n",
       "      <th>std_train_f1</th>\n",
       "    </tr>\n",
       "  </thead>\n",
       "  <tbody>\n",
       "    <tr>\n",
       "      <th>0</th>\n",
       "      <td>0.624381</td>\n",
       "      <td>0.070882</td>\n",
       "      <td>0.345078</td>\n",
       "      <td>0.017332</td>\n",
       "      <td>5</td>\n",
       "      <td>2</td>\n",
       "      <td>{'max_depth': 5, 'min_samples_split': 2}</td>\n",
       "      <td>0.999985</td>\n",
       "      <td>0.999970</td>\n",
       "      <td>0.999971</td>\n",
       "      <td>...</td>\n",
       "      <td>0.999582</td>\n",
       "      <td>0.999582</td>\n",
       "      <td>0.999611</td>\n",
       "      <td>0.000040</td>\n",
       "      <td>13</td>\n",
       "      <td>0.999571</td>\n",
       "      <td>0.999700</td>\n",
       "      <td>0.999609</td>\n",
       "      <td>0.999627</td>\n",
       "      <td>0.000054</td>\n",
       "    </tr>\n",
       "    <tr>\n",
       "      <th>1</th>\n",
       "      <td>0.602258</td>\n",
       "      <td>0.011671</td>\n",
       "      <td>0.338972</td>\n",
       "      <td>0.019510</td>\n",
       "      <td>5</td>\n",
       "      <td>4</td>\n",
       "      <td>{'max_depth': 5, 'min_samples_split': 4}</td>\n",
       "      <td>0.999985</td>\n",
       "      <td>0.999970</td>\n",
       "      <td>0.999971</td>\n",
       "      <td>...</td>\n",
       "      <td>0.999582</td>\n",
       "      <td>0.999582</td>\n",
       "      <td>0.999611</td>\n",
       "      <td>0.000040</td>\n",
       "      <td>13</td>\n",
       "      <td>0.999571</td>\n",
       "      <td>0.999700</td>\n",
       "      <td>0.999609</td>\n",
       "      <td>0.999627</td>\n",
       "      <td>0.000054</td>\n",
       "    </tr>\n",
       "    <tr>\n",
       "      <th>2</th>\n",
       "      <td>0.620641</td>\n",
       "      <td>0.009219</td>\n",
       "      <td>0.340091</td>\n",
       "      <td>0.041299</td>\n",
       "      <td>5</td>\n",
       "      <td>6</td>\n",
       "      <td>{'max_depth': 5, 'min_samples_split': 6}</td>\n",
       "      <td>0.999985</td>\n",
       "      <td>0.999970</td>\n",
       "      <td>0.999971</td>\n",
       "      <td>...</td>\n",
       "      <td>0.999582</td>\n",
       "      <td>0.999582</td>\n",
       "      <td>0.999611</td>\n",
       "      <td>0.000040</td>\n",
       "      <td>13</td>\n",
       "      <td>0.999571</td>\n",
       "      <td>0.999700</td>\n",
       "      <td>0.999604</td>\n",
       "      <td>0.999625</td>\n",
       "      <td>0.000055</td>\n",
       "    </tr>\n",
       "    <tr>\n",
       "      <th>3</th>\n",
       "      <td>0.801477</td>\n",
       "      <td>0.252740</td>\n",
       "      <td>0.329620</td>\n",
       "      <td>0.018694</td>\n",
       "      <td>8</td>\n",
       "      <td>2</td>\n",
       "      <td>{'max_depth': 8, 'min_samples_split': 2}</td>\n",
       "      <td>0.999989</td>\n",
       "      <td>0.999988</td>\n",
       "      <td>0.999977</td>\n",
       "      <td>...</td>\n",
       "      <td>0.999904</td>\n",
       "      <td>0.999775</td>\n",
       "      <td>0.999868</td>\n",
       "      <td>0.000066</td>\n",
       "      <td>10</td>\n",
       "      <td>0.999920</td>\n",
       "      <td>0.999925</td>\n",
       "      <td>0.999802</td>\n",
       "      <td>0.999882</td>\n",
       "      <td>0.000057</td>\n",
       "    </tr>\n",
       "    <tr>\n",
       "      <th>4</th>\n",
       "      <td>0.718081</td>\n",
       "      <td>0.081030</td>\n",
       "      <td>0.302653</td>\n",
       "      <td>0.009551</td>\n",
       "      <td>8</td>\n",
       "      <td>4</td>\n",
       "      <td>{'max_depth': 8, 'min_samples_split': 4}</td>\n",
       "      <td>0.999989</td>\n",
       "      <td>0.999988</td>\n",
       "      <td>0.999977</td>\n",
       "      <td>...</td>\n",
       "      <td>0.999904</td>\n",
       "      <td>0.999775</td>\n",
       "      <td>0.999868</td>\n",
       "      <td>0.000066</td>\n",
       "      <td>10</td>\n",
       "      <td>0.999920</td>\n",
       "      <td>0.999925</td>\n",
       "      <td>0.999802</td>\n",
       "      <td>0.999882</td>\n",
       "      <td>0.000057</td>\n",
       "    </tr>\n",
       "    <tr>\n",
       "      <th>5</th>\n",
       "      <td>0.612947</td>\n",
       "      <td>0.023626</td>\n",
       "      <td>0.341134</td>\n",
       "      <td>0.030564</td>\n",
       "      <td>8</td>\n",
       "      <td>6</td>\n",
       "      <td>{'max_depth': 8, 'min_samples_split': 6}</td>\n",
       "      <td>0.999989</td>\n",
       "      <td>0.999988</td>\n",
       "      <td>0.999977</td>\n",
       "      <td>...</td>\n",
       "      <td>0.999904</td>\n",
       "      <td>0.999775</td>\n",
       "      <td>0.999868</td>\n",
       "      <td>0.000066</td>\n",
       "      <td>10</td>\n",
       "      <td>0.999920</td>\n",
       "      <td>0.999925</td>\n",
       "      <td>0.999796</td>\n",
       "      <td>0.999880</td>\n",
       "      <td>0.000059</td>\n",
       "    </tr>\n",
       "    <tr>\n",
       "      <th>6</th>\n",
       "      <td>0.641619</td>\n",
       "      <td>0.020279</td>\n",
       "      <td>0.289893</td>\n",
       "      <td>0.019819</td>\n",
       "      <td>10</td>\n",
       "      <td>2</td>\n",
       "      <td>{'max_depth': 10, 'min_samples_split': 2}</td>\n",
       "      <td>0.999989</td>\n",
       "      <td>0.999978</td>\n",
       "      <td>0.999968</td>\n",
       "      <td>...</td>\n",
       "      <td>0.999936</td>\n",
       "      <td>0.999925</td>\n",
       "      <td>0.999936</td>\n",
       "      <td>0.000009</td>\n",
       "      <td>7</td>\n",
       "      <td>0.999984</td>\n",
       "      <td>0.999962</td>\n",
       "      <td>0.999968</td>\n",
       "      <td>0.999971</td>\n",
       "      <td>0.000009</td>\n",
       "    </tr>\n",
       "    <tr>\n",
       "      <th>7</th>\n",
       "      <td>0.594742</td>\n",
       "      <td>0.016953</td>\n",
       "      <td>0.299532</td>\n",
       "      <td>0.013437</td>\n",
       "      <td>10</td>\n",
       "      <td>4</td>\n",
       "      <td>{'max_depth': 10, 'min_samples_split': 4}</td>\n",
       "      <td>0.999989</td>\n",
       "      <td>0.999978</td>\n",
       "      <td>0.999968</td>\n",
       "      <td>...</td>\n",
       "      <td>0.999936</td>\n",
       "      <td>0.999925</td>\n",
       "      <td>0.999936</td>\n",
       "      <td>0.000009</td>\n",
       "      <td>7</td>\n",
       "      <td>0.999984</td>\n",
       "      <td>0.999962</td>\n",
       "      <td>0.999968</td>\n",
       "      <td>0.999971</td>\n",
       "      <td>0.000009</td>\n",
       "    </tr>\n",
       "    <tr>\n",
       "      <th>8</th>\n",
       "      <td>0.595408</td>\n",
       "      <td>0.036244</td>\n",
       "      <td>0.322206</td>\n",
       "      <td>0.015746</td>\n",
       "      <td>10</td>\n",
       "      <td>6</td>\n",
       "      <td>{'max_depth': 10, 'min_samples_split': 6}</td>\n",
       "      <td>0.999989</td>\n",
       "      <td>0.999978</td>\n",
       "      <td>0.999968</td>\n",
       "      <td>...</td>\n",
       "      <td>0.999936</td>\n",
       "      <td>0.999925</td>\n",
       "      <td>0.999936</td>\n",
       "      <td>0.000009</td>\n",
       "      <td>7</td>\n",
       "      <td>0.999984</td>\n",
       "      <td>0.999962</td>\n",
       "      <td>0.999962</td>\n",
       "      <td>0.999970</td>\n",
       "      <td>0.000010</td>\n",
       "    </tr>\n",
       "    <tr>\n",
       "      <th>12</th>\n",
       "      <td>0.597409</td>\n",
       "      <td>0.020557</td>\n",
       "      <td>0.333442</td>\n",
       "      <td>0.024664</td>\n",
       "      <td>14</td>\n",
       "      <td>2</td>\n",
       "      <td>{'max_depth': 14, 'min_samples_split': 2}</td>\n",
       "      <td>0.999957</td>\n",
       "      <td>0.999957</td>\n",
       "      <td>0.999946</td>\n",
       "      <td>...</td>\n",
       "      <td>0.999946</td>\n",
       "      <td>0.999946</td>\n",
       "      <td>0.999950</td>\n",
       "      <td>0.000005</td>\n",
       "      <td>2</td>\n",
       "      <td>1.000000</td>\n",
       "      <td>0.999984</td>\n",
       "      <td>0.999995</td>\n",
       "      <td>0.999993</td>\n",
       "      <td>0.000007</td>\n",
       "    </tr>\n",
       "    <tr>\n",
       "      <th>13</th>\n",
       "      <td>0.585767</td>\n",
       "      <td>0.017202</td>\n",
       "      <td>0.298868</td>\n",
       "      <td>0.009543</td>\n",
       "      <td>14</td>\n",
       "      <td>4</td>\n",
       "      <td>{'max_depth': 14, 'min_samples_split': 4}</td>\n",
       "      <td>0.999968</td>\n",
       "      <td>0.999957</td>\n",
       "      <td>0.999946</td>\n",
       "      <td>...</td>\n",
       "      <td>0.999946</td>\n",
       "      <td>0.999946</td>\n",
       "      <td>0.999939</td>\n",
       "      <td>0.000010</td>\n",
       "      <td>3</td>\n",
       "      <td>0.999995</td>\n",
       "      <td>0.999984</td>\n",
       "      <td>0.999995</td>\n",
       "      <td>0.999991</td>\n",
       "      <td>0.000005</td>\n",
       "    </tr>\n",
       "    <tr>\n",
       "      <th>14</th>\n",
       "      <td>0.643278</td>\n",
       "      <td>0.088604</td>\n",
       "      <td>0.340123</td>\n",
       "      <td>0.040245</td>\n",
       "      <td>14</td>\n",
       "      <td>6</td>\n",
       "      <td>{'max_depth': 14, 'min_samples_split': 6}</td>\n",
       "      <td>0.999968</td>\n",
       "      <td>0.999957</td>\n",
       "      <td>0.999946</td>\n",
       "      <td>...</td>\n",
       "      <td>0.999946</td>\n",
       "      <td>0.999946</td>\n",
       "      <td>0.999939</td>\n",
       "      <td>0.000010</td>\n",
       "      <td>3</td>\n",
       "      <td>0.999995</td>\n",
       "      <td>0.999984</td>\n",
       "      <td>0.999989</td>\n",
       "      <td>0.999989</td>\n",
       "      <td>0.000004</td>\n",
       "    </tr>\n",
       "    <tr>\n",
       "      <th>9</th>\n",
       "      <td>0.591089</td>\n",
       "      <td>0.025976</td>\n",
       "      <td>0.302527</td>\n",
       "      <td>0.011588</td>\n",
       "      <td>12</td>\n",
       "      <td>2</td>\n",
       "      <td>{'max_depth': 12, 'min_samples_split': 2}</td>\n",
       "      <td>0.999968</td>\n",
       "      <td>0.999968</td>\n",
       "      <td>0.999946</td>\n",
       "      <td>...</td>\n",
       "      <td>0.999957</td>\n",
       "      <td>0.999946</td>\n",
       "      <td>0.999950</td>\n",
       "      <td>0.000005</td>\n",
       "      <td>1</td>\n",
       "      <td>0.999995</td>\n",
       "      <td>0.999979</td>\n",
       "      <td>0.999979</td>\n",
       "      <td>0.999984</td>\n",
       "      <td>0.000008</td>\n",
       "    </tr>\n",
       "    <tr>\n",
       "      <th>10</th>\n",
       "      <td>0.576790</td>\n",
       "      <td>0.013852</td>\n",
       "      <td>0.297543</td>\n",
       "      <td>0.014305</td>\n",
       "      <td>12</td>\n",
       "      <td>4</td>\n",
       "      <td>{'max_depth': 12, 'min_samples_split': 4}</td>\n",
       "      <td>0.999968</td>\n",
       "      <td>0.999968</td>\n",
       "      <td>0.999946</td>\n",
       "      <td>...</td>\n",
       "      <td>0.999957</td>\n",
       "      <td>0.999946</td>\n",
       "      <td>0.999936</td>\n",
       "      <td>0.000023</td>\n",
       "      <td>5</td>\n",
       "      <td>0.999989</td>\n",
       "      <td>0.999979</td>\n",
       "      <td>0.999979</td>\n",
       "      <td>0.999982</td>\n",
       "      <td>0.000005</td>\n",
       "    </tr>\n",
       "    <tr>\n",
       "      <th>11</th>\n",
       "      <td>0.585436</td>\n",
       "      <td>0.015534</td>\n",
       "      <td>0.299200</td>\n",
       "      <td>0.010680</td>\n",
       "      <td>12</td>\n",
       "      <td>6</td>\n",
       "      <td>{'max_depth': 12, 'min_samples_split': 6}</td>\n",
       "      <td>0.999968</td>\n",
       "      <td>0.999968</td>\n",
       "      <td>0.999946</td>\n",
       "      <td>...</td>\n",
       "      <td>0.999957</td>\n",
       "      <td>0.999946</td>\n",
       "      <td>0.999936</td>\n",
       "      <td>0.000023</td>\n",
       "      <td>5</td>\n",
       "      <td>0.999989</td>\n",
       "      <td>0.999979</td>\n",
       "      <td>0.999973</td>\n",
       "      <td>0.999980</td>\n",
       "      <td>0.000007</td>\n",
       "    </tr>\n",
       "  </tbody>\n",
       "</table>\n",
       "<p>15 rows × 62 columns</p>\n",
       "</div>"
      ],
      "text/plain": [
       "    mean_fit_time  std_fit_time  mean_score_time  std_score_time  \\\n",
       "0        0.624381      0.070882         0.345078        0.017332   \n",
       "1        0.602258      0.011671         0.338972        0.019510   \n",
       "2        0.620641      0.009219         0.340091        0.041299   \n",
       "3        0.801477      0.252740         0.329620        0.018694   \n",
       "4        0.718081      0.081030         0.302653        0.009551   \n",
       "5        0.612947      0.023626         0.341134        0.030564   \n",
       "6        0.641619      0.020279         0.289893        0.019819   \n",
       "7        0.594742      0.016953         0.299532        0.013437   \n",
       "8        0.595408      0.036244         0.322206        0.015746   \n",
       "12       0.597409      0.020557         0.333442        0.024664   \n",
       "13       0.585767      0.017202         0.298868        0.009543   \n",
       "14       0.643278      0.088604         0.340123        0.040245   \n",
       "9        0.591089      0.025976         0.302527        0.011588   \n",
       "10       0.576790      0.013852         0.297543        0.014305   \n",
       "11       0.585436      0.015534         0.299200        0.010680   \n",
       "\n",
       "   param_max_depth param_min_samples_split  \\\n",
       "0                5                       2   \n",
       "1                5                       4   \n",
       "2                5                       6   \n",
       "3                8                       2   \n",
       "4                8                       4   \n",
       "5                8                       6   \n",
       "6               10                       2   \n",
       "7               10                       4   \n",
       "8               10                       6   \n",
       "12              14                       2   \n",
       "13              14                       4   \n",
       "14              14                       6   \n",
       "9               12                       2   \n",
       "10              12                       4   \n",
       "11              12                       6   \n",
       "\n",
       "                                       params  split0_test_auc  \\\n",
       "0    {'max_depth': 5, 'min_samples_split': 2}         0.999985   \n",
       "1    {'max_depth': 5, 'min_samples_split': 4}         0.999985   \n",
       "2    {'max_depth': 5, 'min_samples_split': 6}         0.999985   \n",
       "3    {'max_depth': 8, 'min_samples_split': 2}         0.999989   \n",
       "4    {'max_depth': 8, 'min_samples_split': 4}         0.999989   \n",
       "5    {'max_depth': 8, 'min_samples_split': 6}         0.999989   \n",
       "6   {'max_depth': 10, 'min_samples_split': 2}         0.999989   \n",
       "7   {'max_depth': 10, 'min_samples_split': 4}         0.999989   \n",
       "8   {'max_depth': 10, 'min_samples_split': 6}         0.999989   \n",
       "12  {'max_depth': 14, 'min_samples_split': 2}         0.999957   \n",
       "13  {'max_depth': 14, 'min_samples_split': 4}         0.999968   \n",
       "14  {'max_depth': 14, 'min_samples_split': 6}         0.999968   \n",
       "9   {'max_depth': 12, 'min_samples_split': 2}         0.999968   \n",
       "10  {'max_depth': 12, 'min_samples_split': 4}         0.999968   \n",
       "11  {'max_depth': 12, 'min_samples_split': 6}         0.999968   \n",
       "\n",
       "    split1_test_auc  split2_test_auc  ...  split1_test_f1  split2_test_f1  \\\n",
       "0          0.999970         0.999971  ...        0.999582        0.999582   \n",
       "1          0.999970         0.999971  ...        0.999582        0.999582   \n",
       "2          0.999970         0.999971  ...        0.999582        0.999582   \n",
       "3          0.999988         0.999977  ...        0.999904        0.999775   \n",
       "4          0.999988         0.999977  ...        0.999904        0.999775   \n",
       "5          0.999988         0.999977  ...        0.999904        0.999775   \n",
       "6          0.999978         0.999968  ...        0.999936        0.999925   \n",
       "7          0.999978         0.999968  ...        0.999936        0.999925   \n",
       "8          0.999978         0.999968  ...        0.999936        0.999925   \n",
       "12         0.999957         0.999946  ...        0.999946        0.999946   \n",
       "13         0.999957         0.999946  ...        0.999946        0.999946   \n",
       "14         0.999957         0.999946  ...        0.999946        0.999946   \n",
       "9          0.999968         0.999946  ...        0.999957        0.999946   \n",
       "10         0.999968         0.999946  ...        0.999957        0.999946   \n",
       "11         0.999968         0.999946  ...        0.999957        0.999946   \n",
       "\n",
       "    mean_test_f1  std_test_f1  rank_test_f1  split0_train_f1  split1_train_f1  \\\n",
       "0       0.999611     0.000040            13         0.999571         0.999700   \n",
       "1       0.999611     0.000040            13         0.999571         0.999700   \n",
       "2       0.999611     0.000040            13         0.999571         0.999700   \n",
       "3       0.999868     0.000066            10         0.999920         0.999925   \n",
       "4       0.999868     0.000066            10         0.999920         0.999925   \n",
       "5       0.999868     0.000066            10         0.999920         0.999925   \n",
       "6       0.999936     0.000009             7         0.999984         0.999962   \n",
       "7       0.999936     0.000009             7         0.999984         0.999962   \n",
       "8       0.999936     0.000009             7         0.999984         0.999962   \n",
       "12      0.999950     0.000005             2         1.000000         0.999984   \n",
       "13      0.999939     0.000010             3         0.999995         0.999984   \n",
       "14      0.999939     0.000010             3         0.999995         0.999984   \n",
       "9       0.999950     0.000005             1         0.999995         0.999979   \n",
       "10      0.999936     0.000023             5         0.999989         0.999979   \n",
       "11      0.999936     0.000023             5         0.999989         0.999979   \n",
       "\n",
       "    split2_train_f1  mean_train_f1  std_train_f1  \n",
       "0          0.999609       0.999627      0.000054  \n",
       "1          0.999609       0.999627      0.000054  \n",
       "2          0.999604       0.999625      0.000055  \n",
       "3          0.999802       0.999882      0.000057  \n",
       "4          0.999802       0.999882      0.000057  \n",
       "5          0.999796       0.999880      0.000059  \n",
       "6          0.999968       0.999971      0.000009  \n",
       "7          0.999968       0.999971      0.000009  \n",
       "8          0.999962       0.999970      0.000010  \n",
       "12         0.999995       0.999993      0.000007  \n",
       "13         0.999995       0.999991      0.000005  \n",
       "14         0.999989       0.999989      0.000004  \n",
       "9          0.999979       0.999984      0.000008  \n",
       "10         0.999979       0.999982      0.000005  \n",
       "11         0.999973       0.999980      0.000007  \n",
       "\n",
       "[15 rows x 62 columns]"
      ]
     },
     "execution_count": 17,
     "metadata": {},
     "output_type": "execute_result"
    }
   ],
   "source": [
    "df = pd.DataFrame(hyperparam_tuning.cv_results_)\n",
    "df.sort_values(\"split1_test_acc\")"
   ]
  },
  {
   "cell_type": "code",
   "execution_count": 18,
   "metadata": {},
   "outputs": [],
   "source": [
    "# Entrenamiento del modelo\n",
    "model = DecisionTreeClassifier(max_depth = 12, min_samples_split=2, random_state=0)\n",
    "model.fit(x_train,y_train)\n",
    "y_train_pred = model.predict(x_train)\n",
    "y_test_pred = model.predict(x_test)"
   ]
  },
  {
   "cell_type": "code",
   "execution_count": 19,
   "metadata": {},
   "outputs": [
    {
     "data": {
      "image/png": "[encoded data removed]",
      "text/plain": [
       "<Figure size 1152x360 with 2 Axes>"
      ]
     },
     "metadata": {
      "needs_background": "light"
     },
     "output_type": "display_data"
    }
   ],
   "source": [
    "confusion_matrix_graf(y_train, y_train_pred, 'Train')"
   ]
  },
  {
   "cell_type": "code",
   "execution_count": 20,
   "metadata": {},
   "outputs": [
    {
     "data": {
      "image/png": "[encoded data removed]",
      "text/plain": [
       "<Figure size 1152x360 with 2 Axes>"
      ]
     },
     "metadata": {
      "needs_background": "light"
     },
     "output_type": "display_data"
    }
   ],
   "source": [
    "confusion_matrix_graf(y_test, y_test_pred, 'Train')"
   ]
  },
  {
   "cell_type": "code",
   "execution_count": 21,
   "metadata": {},
   "outputs": [
    {
     "data": {
      "image/png": "[encoded data removed]",
      "text/plain": [
       "<Figure size 432x288 with 1 Axes>"
      ]
     },
     "metadata": {
      "needs_background": "light"
     },
     "output_type": "display_data"
    },
    {
     "data": {
      "text/html": [
       "<div>\n",
       "<style scoped>\n",
       "    .dataframe tbody tr th:only-of-type {\n",
       "        vertical-align: middle;\n",
       "    }\n",
       "\n",
       "    .dataframe tbody tr th {\n",
       "        vertical-align: top;\n",
       "    }\n",
       "\n",
       "    .dataframe thead th {\n",
       "        text-align: right;\n",
       "    }\n",
       "</style>\n",
       "<table border=\"1\" class=\"dataframe\">\n",
       "  <thead>\n",
       "    <tr style=\"text-align: right;\">\n",
       "      <th></th>\n",
       "      <th>DataSet</th>\n",
       "      <th>Model</th>\n",
       "      <th>AUC</th>\n",
       "      <th>ACC</th>\n",
       "      <th>Precision</th>\n",
       "      <th>Precision_avg</th>\n",
       "      <th>recall</th>\n",
       "      <th>recall_avg</th>\n",
       "      <th>f1</th>\n",
       "      <th>f1_avg</th>\n",
       "    </tr>\n",
       "  </thead>\n",
       "  <tbody>\n",
       "    <tr>\n",
       "      <th>0</th>\n",
       "      <td>Train</td>\n",
       "      <td>AD</td>\n",
       "      <td>0.999982</td>\n",
       "      <td>0.999982</td>\n",
       "      <td>0.999971</td>\n",
       "      <td>0.999982</td>\n",
       "      <td>0.999993</td>\n",
       "      <td>0.999982</td>\n",
       "      <td>0.999982</td>\n",
       "      <td>0.999982</td>\n",
       "    </tr>\n",
       "    <tr>\n",
       "      <th>1</th>\n",
       "      <td>Test</td>\n",
       "      <td>AD</td>\n",
       "      <td>0.999933</td>\n",
       "      <td>0.999933</td>\n",
       "      <td>0.999867</td>\n",
       "      <td>0.999933</td>\n",
       "      <td>1.000000</td>\n",
       "      <td>0.999933</td>\n",
       "      <td>0.999933</td>\n",
       "      <td>0.999933</td>\n",
       "    </tr>\n",
       "  </tbody>\n",
       "</table>\n",
       "</div>"
      ],
      "text/plain": [
       "  DataSet Model       AUC       ACC  Precision  Precision_avg    recall  \\\n",
       "0   Train    AD  0.999982  0.999982   0.999971       0.999982  0.999993   \n",
       "1    Test    AD  0.999933  0.999933   0.999867       0.999933  1.000000   \n",
       "\n",
       "   recall_avg        f1    f1_avg  \n",
       "0    0.999982  0.999982  0.999982  \n",
       "1    0.999933  0.999933  0.999933  "
      ]
     },
     "execution_count": 21,
     "metadata": {},
     "output_type": "execute_result"
    }
   ],
   "source": [
    "df_metrics = metrics_train_test(y_train, y_train_pred, y_test, y_test_pred)\n",
    "df_metrics"
   ]
  }
 ],
 "metadata": {
  "kernelspec": {
   "display_name": "Python 3.10.4 64-bit",
   "language": "python",
   "name": "python3"
  },
  "language_info": {
   "codemirror_mode": {
    "name": "ipython",
    "version": 3
   },
   "file_extension": ".py",
   "mimetype": "text/x-python",
   "name": "python",
   "nbconvert_exporter": "python",
   "pygments_lexer": "ipython3",
   "version": "3.10.4"
  },
  "orig_nbformat": 4,
  "vscode": {
   "interpreter": {
    "hash": "b302dde3c6e3e22086ea8eec4a7a605a5a5b758cd449bd57dd386672850e0735"
   }
  }
 },
 "nbformat": 4,
 "nbformat_minor": 2
}
