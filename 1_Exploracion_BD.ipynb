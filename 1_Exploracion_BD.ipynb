{
 "cells": [
  {
   "cell_type": "markdown",
   "metadata": {},
   "source": [
    "<h1> Librerias Necesarias </h1>"
   ]
  },
  {
   "cell_type": "code",
   "execution_count": 3,
   "metadata": {},
   "outputs": [],
   "source": [
    "import pandas as pd\n",
    "import numpy as np\n",
    "import glob\n",
    "from sklearn.preprocessing import OrdinalEncoder\n",
    "import matplotlib.pyplot as plt \n",
    "\n",
    "import os"
   ]
  },
  {
   "cell_type": "markdown",
   "metadata": {},
   "source": [
    "<h1> Base de datos BOT-IOT </h1>"
   ]
  },
  {
   "cell_type": "markdown",
   "metadata": {},
   "source": [
    "Se toma el 5% de la base de datos con todas la características. Este conjunto de datos tiene un archivo CSV que contiene registros normales y de ataque.\n",
    "\n",
    "|Nombre del archivo |Tamaño del archivo|Número de registros|Número de características|\n",
    "|:----|:----|:----|:----|\n",
    "|UNSW_2018_IoT_Botnet_Full5pc_1.csv|259.7 MB|1'000.000|46|\n",
    "|UNSW_2018_IoT_Botnet_Full5pc_2.csv|260.4 MB|1'000.000|46|\n",
    "|UNSW_2018_IoT_Botnet_Full5pc_3.csv|269.1 MB|1'000.000|46|\n",
    "|UNSW_2018_IoT_Botnet_Full5pc_4.csv|180.8 MB|668.552|46|\n",
    "\n",
    "Este conjunto de datos tiene 46 características en 3 tipos de datos:\n",
    "\n",
    "* Categóricas: flgs, proto, state, category, subcategory\n",
    "* Binaria: attack\n",
    "* Numéricas: El resto de las características"
   ]
  },
  {
   "cell_type": "markdown",
   "metadata": {},
   "source": [
    "<h3> 1. Lectura de los datos </h3>"
   ]
  },
  {
   "cell_type": "code",
   "execution_count": 38,
   "metadata": {},
   "outputs": [
    {
     "name": "stderr",
     "output_type": "stream",
     "text": [
      "C:\\Users\\kapla\\AppData\\Local\\Temp\\ipykernel_2396\\4011324871.py:4: DtypeWarning: Columns (7,9) have mixed types. Specify dtype option on import or set low_memory=False.\n",
      "  df = pd.concat(map(pd.read_csv, list_files), ignore_index=True)\n",
      "C:\\Users\\kapla\\AppData\\Local\\Temp\\ipykernel_2396\\4011324871.py:4: DtypeWarning: Columns (7,9) have mixed types. Specify dtype option on import or set low_memory=False.\n",
      "  df = pd.concat(map(pd.read_csv, list_files), ignore_index=True)\n",
      "C:\\Users\\kapla\\AppData\\Local\\Temp\\ipykernel_2396\\4011324871.py:4: DtypeWarning: Columns (7,9) have mixed types. Specify dtype option on import or set low_memory=False.\n",
      "  df = pd.concat(map(pd.read_csv, list_files), ignore_index=True)\n",
      "C:\\Users\\kapla\\AppData\\Local\\Temp\\ipykernel_2396\\4011324871.py:4: DtypeWarning: Columns (7,9) have mixed types. Specify dtype option on import or set low_memory=False.\n",
      "  df = pd.concat(map(pd.read_csv, list_files), ignore_index=True)\n"
     ]
    }
   ],
   "source": [
    "#Lectura de los archivos csv de la base de datos BOT-IOT\n",
    "files_joined = os.path.join('.\\BOT-IOT', \"*.csv\")\n",
    "list_files = glob.glob(files_joined)\n",
    "df = pd.concat(map(pd.read_csv, list_files), ignore_index=True)"
   ]
  },
  {
   "cell_type": "code",
   "execution_count": 39,
   "metadata": {},
   "outputs": [
    {
     "name": "stdout",
     "output_type": "stream",
     "text": [
      "Tamaño del conjunto de datos =  (3668522, 46)\n"
     ]
    }
   ],
   "source": [
    "print('Tamaño del conjunto de datos = ', df.shape)"
   ]
  },
  {
   "cell_type": "markdown",
   "metadata": {},
   "source": [
    "<h3> 2. Limpieza de la base de datos </h3>\n",
    "\n",
    "1. En el protocolo ICMP no esta definido el puerto, por tanto se asigna el valor de -1 en las carateríticas 'sport' y 'dport'\n",
    "2. El protocolo ARP no contribuye en la realización de ataques, por tanto todas etiqutas asociadas a este protocolo se colocan como tráfico normal\n",
    "3. Se convierte carateríticas 'sport' y 'dport' a volores enteros"
   ]
  },
  {
   "cell_type": "code",
   "execution_count": 40,
   "metadata": {},
   "outputs": [],
   "source": [
    "#Limpieza de datos\n",
    "df.loc[df.proto == 'icmp','sport'] = '-1'\n",
    "df.loc[df.proto == 'icmp','dport'] = '-1'\n",
    "df.loc[df.proto == 'arp','attack'] = 0\n",
    "df.loc[df.proto == 'arp','category'] = 'Normal'\n",
    "df.loc[df.proto == 'arp','subcategory'] = 'Normal'\n",
    "df[['sport']]=df[['sport']].astype('int64')\n",
    "df[['dport']]=df[['dport']].astype('int64')"
   ]
  },
  {
   "cell_type": "code",
   "execution_count": 41,
   "metadata": {},
   "outputs": [
    {
     "data": {
      "text/html": [
       "<div>\n",
       "<style scoped>\n",
       "    .dataframe tbody tr th:only-of-type {\n",
       "        vertical-align: middle;\n",
       "    }\n",
       "\n",
       "    .dataframe tbody tr th {\n",
       "        vertical-align: top;\n",
       "    }\n",
       "\n",
       "    .dataframe thead th {\n",
       "        text-align: right;\n",
       "    }\n",
       "</style>\n",
       "<table border=\"1\" class=\"dataframe\">\n",
       "  <thead>\n",
       "    <tr style=\"text-align: right;\">\n",
       "      <th></th>\n",
       "      <th>pkSeqID</th>\n",
       "      <th>stime</th>\n",
       "      <th>flgs</th>\n",
       "      <th>flgs_number</th>\n",
       "      <th>proto</th>\n",
       "      <th>proto_number</th>\n",
       "      <th>saddr</th>\n",
       "      <th>sport</th>\n",
       "      <th>daddr</th>\n",
       "      <th>dport</th>\n",
       "      <th>...</th>\n",
       "      <th>AR_P_Proto_P_DstIP</th>\n",
       "      <th>N_IN_Conn_P_DstIP</th>\n",
       "      <th>N_IN_Conn_P_SrcIP</th>\n",
       "      <th>AR_P_Proto_P_Sport</th>\n",
       "      <th>AR_P_Proto_P_Dport</th>\n",
       "      <th>Pkts_P_State_P_Protocol_P_DestIP</th>\n",
       "      <th>Pkts_P_State_P_Protocol_P_SrcIP</th>\n",
       "      <th>attack</th>\n",
       "      <th>category</th>\n",
       "      <th>subcategory</th>\n",
       "    </tr>\n",
       "  </thead>\n",
       "  <tbody>\n",
       "    <tr>\n",
       "      <th>0</th>\n",
       "      <td>1</td>\n",
       "      <td>1.528089e+09</td>\n",
       "      <td>e</td>\n",
       "      <td>1</td>\n",
       "      <td>tcp</td>\n",
       "      <td>1</td>\n",
       "      <td>192.168.100.147</td>\n",
       "      <td>49960</td>\n",
       "      <td>192.168.100.7</td>\n",
       "      <td>80</td>\n",
       "      <td>...</td>\n",
       "      <td>1.12704</td>\n",
       "      <td>96</td>\n",
       "      <td>75</td>\n",
       "      <td>1.133720</td>\n",
       "      <td>1.129970</td>\n",
       "      <td>770</td>\n",
       "      <td>602</td>\n",
       "      <td>1</td>\n",
       "      <td>DoS</td>\n",
       "      <td>HTTP</td>\n",
       "    </tr>\n",
       "    <tr>\n",
       "      <th>1</th>\n",
       "      <td>2</td>\n",
       "      <td>1.528089e+09</td>\n",
       "      <td>e</td>\n",
       "      <td>1</td>\n",
       "      <td>arp</td>\n",
       "      <td>2</td>\n",
       "      <td>192.168.100.7</td>\n",
       "      <td>-1</td>\n",
       "      <td>192.168.100.147</td>\n",
       "      <td>-1</td>\n",
       "      <td>...</td>\n",
       "      <td>15267.20000</td>\n",
       "      <td>1</td>\n",
       "      <td>2</td>\n",
       "      <td>0.005142</td>\n",
       "      <td>0.005142</td>\n",
       "      <td>2</td>\n",
       "      <td>6</td>\n",
       "      <td>0</td>\n",
       "      <td>Normal</td>\n",
       "      <td>Normal</td>\n",
       "    </tr>\n",
       "    <tr>\n",
       "      <th>2</th>\n",
       "      <td>3</td>\n",
       "      <td>1.528089e+09</td>\n",
       "      <td>e</td>\n",
       "      <td>1</td>\n",
       "      <td>tcp</td>\n",
       "      <td>1</td>\n",
       "      <td>192.168.100.147</td>\n",
       "      <td>49962</td>\n",
       "      <td>192.168.100.7</td>\n",
       "      <td>80</td>\n",
       "      <td>...</td>\n",
       "      <td>1.12704</td>\n",
       "      <td>96</td>\n",
       "      <td>75</td>\n",
       "      <td>1.135100</td>\n",
       "      <td>1.129970</td>\n",
       "      <td>770</td>\n",
       "      <td>602</td>\n",
       "      <td>1</td>\n",
       "      <td>DoS</td>\n",
       "      <td>HTTP</td>\n",
       "    </tr>\n",
       "    <tr>\n",
       "      <th>3</th>\n",
       "      <td>4</td>\n",
       "      <td>1.528089e+09</td>\n",
       "      <td>e</td>\n",
       "      <td>1</td>\n",
       "      <td>tcp</td>\n",
       "      <td>1</td>\n",
       "      <td>192.168.100.147</td>\n",
       "      <td>49964</td>\n",
       "      <td>192.168.100.7</td>\n",
       "      <td>80</td>\n",
       "      <td>...</td>\n",
       "      <td>1.12704</td>\n",
       "      <td>96</td>\n",
       "      <td>75</td>\n",
       "      <td>1.135140</td>\n",
       "      <td>1.129970</td>\n",
       "      <td>770</td>\n",
       "      <td>602</td>\n",
       "      <td>1</td>\n",
       "      <td>DoS</td>\n",
       "      <td>HTTP</td>\n",
       "    </tr>\n",
       "    <tr>\n",
       "      <th>4</th>\n",
       "      <td>5</td>\n",
       "      <td>1.528089e+09</td>\n",
       "      <td>e</td>\n",
       "      <td>1</td>\n",
       "      <td>tcp</td>\n",
       "      <td>1</td>\n",
       "      <td>192.168.100.147</td>\n",
       "      <td>49966</td>\n",
       "      <td>192.168.100.7</td>\n",
       "      <td>80</td>\n",
       "      <td>...</td>\n",
       "      <td>1.12704</td>\n",
       "      <td>96</td>\n",
       "      <td>75</td>\n",
       "      <td>1.135260</td>\n",
       "      <td>1.129970</td>\n",
       "      <td>770</td>\n",
       "      <td>602</td>\n",
       "      <td>1</td>\n",
       "      <td>DoS</td>\n",
       "      <td>HTTP</td>\n",
       "    </tr>\n",
       "  </tbody>\n",
       "</table>\n",
       "<p>5 rows × 46 columns</p>\n",
       "</div>"
      ],
      "text/plain": [
       "   pkSeqID         stime flgs  flgs_number proto  proto_number  \\\n",
       "0        1  1.528089e+09    e            1   tcp             1   \n",
       "1        2  1.528089e+09    e            1   arp             2   \n",
       "2        3  1.528089e+09    e            1   tcp             1   \n",
       "3        4  1.528089e+09    e            1   tcp             1   \n",
       "4        5  1.528089e+09    e            1   tcp             1   \n",
       "\n",
       "             saddr  sport            daddr  dport  ...  AR_P_Proto_P_DstIP  \\\n",
       "0  192.168.100.147  49960    192.168.100.7     80  ...             1.12704   \n",
       "1    192.168.100.7     -1  192.168.100.147     -1  ...         15267.20000   \n",
       "2  192.168.100.147  49962    192.168.100.7     80  ...             1.12704   \n",
       "3  192.168.100.147  49964    192.168.100.7     80  ...             1.12704   \n",
       "4  192.168.100.147  49966    192.168.100.7     80  ...             1.12704   \n",
       "\n",
       "   N_IN_Conn_P_DstIP N_IN_Conn_P_SrcIP  AR_P_Proto_P_Sport  \\\n",
       "0                 96                75            1.133720   \n",
       "1                  1                 2            0.005142   \n",
       "2                 96                75            1.135100   \n",
       "3                 96                75            1.135140   \n",
       "4                 96                75            1.135260   \n",
       "\n",
       "   AR_P_Proto_P_Dport  Pkts_P_State_P_Protocol_P_DestIP  \\\n",
       "0            1.129970                               770   \n",
       "1            0.005142                                 2   \n",
       "2            1.129970                               770   \n",
       "3            1.129970                               770   \n",
       "4            1.129970                               770   \n",
       "\n",
       "   Pkts_P_State_P_Protocol_P_SrcIP  attack  category  subcategory  \n",
       "0                              602       1       DoS         HTTP  \n",
       "1                                6       0    Normal       Normal  \n",
       "2                              602       1       DoS         HTTP  \n",
       "3                              602       1       DoS         HTTP  \n",
       "4                              602       1       DoS         HTTP  \n",
       "\n",
       "[5 rows x 46 columns]"
      ]
     },
     "execution_count": 41,
     "metadata": {},
     "output_type": "execute_result"
    }
   ],
   "source": [
    "df.head()"
   ]
  },
  {
   "cell_type": "markdown",
   "metadata": {},
   "source": [
    "<h3> 2. Características </h3>"
   ]
  },
  {
   "cell_type": "code",
   "execution_count": 42,
   "metadata": {},
   "outputs": [
    {
     "name": "stdout",
     "output_type": "stream",
     "text": [
      "--- Tipo de dato de las características de la base de datos ----\n",
      "<class 'pandas.core.frame.DataFrame'>\n",
      "RangeIndex: 3668522 entries, 0 to 3668521\n",
      "Data columns (total 46 columns):\n",
      " #   Column                            Dtype  \n",
      "---  ------                            -----  \n",
      " 0   pkSeqID                           int64  \n",
      " 1   stime                             float64\n",
      " 2   flgs                              object \n",
      " 3   flgs_number                       int64  \n",
      " 4   proto                             object \n",
      " 5   proto_number                      int64  \n",
      " 6   saddr                             object \n",
      " 7   sport                             int64  \n",
      " 8   daddr                             object \n",
      " 9   dport                             int64  \n",
      " 10  pkts                              int64  \n",
      " 11  bytes                             int64  \n",
      " 12  state                             object \n",
      " 13  state_number                      int64  \n",
      " 14  ltime                             float64\n",
      " 15  seq                               int64  \n",
      " 16  dur                               float64\n",
      " 17  mean                              float64\n",
      " 18  stddev                            float64\n",
      " 19  sum                               float64\n",
      " 20  min                               float64\n",
      " 21  max                               float64\n",
      " 22  spkts                             int64  \n",
      " 23  dpkts                             int64  \n",
      " 24  sbytes                            int64  \n",
      " 25  dbytes                            int64  \n",
      " 26  rate                              float64\n",
      " 27  srate                             float64\n",
      " 28  drate                             float64\n",
      " 29  TnBPSrcIP                         int64  \n",
      " 30  TnBPDstIP                         int64  \n",
      " 31  TnP_PSrcIP                        int64  \n",
      " 32  TnP_PDstIP                        int64  \n",
      " 33  TnP_PerProto                      int64  \n",
      " 34  TnP_Per_Dport                     int64  \n",
      " 35  AR_P_Proto_P_SrcIP                float64\n",
      " 36  AR_P_Proto_P_DstIP                float64\n",
      " 37  N_IN_Conn_P_DstIP                 int64  \n",
      " 38  N_IN_Conn_P_SrcIP                 int64  \n",
      " 39  AR_P_Proto_P_Sport                float64\n",
      " 40  AR_P_Proto_P_Dport                float64\n",
      " 41  Pkts_P_State_P_Protocol_P_DestIP  int64  \n",
      " 42  Pkts_P_State_P_Protocol_P_SrcIP   int64  \n",
      " 43  attack                            int64  \n",
      " 44  category                          object \n",
      " 45  subcategory                       object \n",
      "dtypes: float64(15), int64(24), object(7)\n",
      "memory usage: 1.3+ GB\n",
      "None\n"
     ]
    }
   ],
   "source": [
    "print('--- Tipo de dato de las características de la base de datos ----')\n",
    "print(df.info())"
   ]
  },
  {
   "cell_type": "code",
   "execution_count": 43,
   "metadata": {},
   "outputs": [
    {
     "data": {
      "text/plain": [
       "int64      24\n",
       "float64    15\n",
       "object      7\n",
       "dtype: int64"
      ]
     },
     "execution_count": 43,
     "metadata": {},
     "output_type": "execute_result"
    }
   ],
   "source": [
    "df.dtypes.value_counts()"
   ]
  },
  {
   "cell_type": "markdown",
   "metadata": {},
   "source": [
    "* Etiqueta 'attack'\n",
    "\n",
    "0 -> Tráfico Normal\n",
    "\n",
    "1 -> Tráfico de ataque"
   ]
  },
  {
   "cell_type": "code",
   "execution_count": 45,
   "metadata": {},
   "outputs": [
    {
     "data": {
      "text/plain": [
       "1    3667879\n",
       "0        643\n",
       "Name: attack, dtype: int64"
      ]
     },
     "execution_count": 45,
     "metadata": {},
     "output_type": "execute_result"
    }
   ],
   "source": [
    "df.attack.value_counts()"
   ]
  },
  {
   "cell_type": "code",
   "execution_count": 46,
   "metadata": {},
   "outputs": [
    {
     "data": {
      "image/png": "[encoded data removed]",
      "text/plain": [
       "<Figure size 432x288 with 1 Axes>"
      ]
     },
     "metadata": {
      "needs_background": "light"
     },
     "output_type": "display_data"
    }
   ],
   "source": [
    "plt.figure()\n",
    "plt.title(\"Distribución de las clases\")\n",
    "df['attack'].value_counts().plot(kind=\"bar\", color='b')\n",
    "plt.xlabel(\"Clase\")\n",
    "plt.ylabel(\"Cantidad\")\n",
    "plt.legend()\n",
    "plt.show()"
   ]
  },
  {
   "cell_type": "markdown",
   "metadata": {},
   "source": [
    "* Etiqueta 'category'"
   ]
  },
  {
   "cell_type": "code",
   "execution_count": 47,
   "metadata": {},
   "outputs": [
    {
     "data": {
      "text/plain": [
       "DDoS              1926589\n",
       "DoS               1650211\n",
       "Reconnaissance      91004\n",
       "Normal                643\n",
       "Theft                  75\n",
       "Name: category, dtype: int64"
      ]
     },
     "execution_count": 47,
     "metadata": {},
     "output_type": "execute_result"
    }
   ],
   "source": [
    "df.category.value_counts()"
   ]
  },
  {
   "cell_type": "code",
   "execution_count": 48,
   "metadata": {},
   "outputs": [
    {
     "data": {
      "image/png": "[encoded data removed]",
      "text/plain": [
       "<Figure size 432x288 with 1 Axes>"
      ]
     },
     "metadata": {
      "needs_background": "light"
     },
     "output_type": "display_data"
    }
   ],
   "source": [
    "# Plotting target label distribution\n",
    "plt.figure()\n",
    "plt.title(\"Distribución de las clases\")\n",
    "df['category'].value_counts().plot(kind=\"bar\", color='b')\n",
    "plt.xlabel(\"Clase\")\n",
    "plt.ylabel(\"Cantidad\")\n",
    "plt.legend()\n",
    "plt.show()"
   ]
  },
  {
   "cell_type": "markdown",
   "metadata": {},
   "source": [
    "* Etiqueta 'subcategory'"
   ]
  },
  {
   "cell_type": "code",
   "execution_count": 49,
   "metadata": {},
   "outputs": [
    {
     "data": {
      "text/plain": [
       "UDP                  1981190\n",
       "TCP                  1593143\n",
       "Service_Scan           73122\n",
       "OS_Fingerprint         17882\n",
       "HTTP                    2467\n",
       "Normal                   643\n",
       "Keylogging                70\n",
       "Data_Exfiltration          5\n",
       "Name: subcategory, dtype: int64"
      ]
     },
     "execution_count": 49,
     "metadata": {},
     "output_type": "execute_result"
    }
   ],
   "source": [
    "df.subcategory.value_counts()"
   ]
  },
  {
   "cell_type": "code",
   "execution_count": 50,
   "metadata": {},
   "outputs": [
    {
     "data": {
      "image/png": "[encoded data removed]",
      "text/plain": [
       "<Figure size 432x288 with 1 Axes>"
      ]
     },
     "metadata": {
      "needs_background": "light"
     },
     "output_type": "display_data"
    }
   ],
   "source": [
    "# Plotting target label distribution\n",
    "plt.figure()\n",
    "plt.title(\"Distribución de las clases\")\n",
    "df['subcategory'].value_counts().plot(kind=\"bar\", color='b')\n",
    "plt.xlabel(\"Clase\")\n",
    "plt.ylabel(\"Cantidad\")\n",
    "plt.legend()\n",
    "plt.show()"
   ]
  },
  {
   "cell_type": "markdown",
   "metadata": {},
   "source": [
    "* Características categóricas"
   ]
  },
  {
   "cell_type": "code",
   "execution_count": 51,
   "metadata": {},
   "outputs": [
    {
     "data": {
      "text/plain": [
       "e        2293445\n",
       "e s      1245171\n",
       "e g        94344\n",
       "eU         34599\n",
       "e *          816\n",
       "e d          137\n",
       "e &            5\n",
       "e   t          4\n",
       "e  D           1\n",
       "Name: flgs, dtype: int64"
      ]
     },
     "execution_count": 51,
     "metadata": {},
     "output_type": "execute_result"
    }
   ],
   "source": [
    "df.flgs.value_counts()"
   ]
  },
  {
   "cell_type": "code",
   "execution_count": 52,
   "metadata": {},
   "outputs": [
    {
     "data": {
      "text/plain": [
       "udp          1996437\n",
       "tcp          1662812\n",
       "icmp            9052\n",
       "arp              213\n",
       "ipv6-icmp          8\n",
       "Name: proto, dtype: int64"
      ]
     },
     "execution_count": 52,
     "metadata": {},
     "output_type": "execute_result"
    }
   ],
   "source": [
    "df.proto.value_counts()"
   ]
  },
  {
   "cell_type": "code",
   "execution_count": 53,
   "metadata": {},
   "outputs": [
    {
     "data": {
      "text/plain": [
       "INT    1996208\n",
       "REQ     878697\n",
       "RST     775168\n",
       "URP       8950\n",
       "FIN       6387\n",
       "ACC       2476\n",
       "CON        526\n",
       "ECO         70\n",
       "TST         16\n",
       "MAS         16\n",
       "NRS          8\n",
       "Name: state, dtype: int64"
      ]
     },
     "execution_count": 53,
     "metadata": {},
     "output_type": "execute_result"
    }
   ],
   "source": [
    "df.state.value_counts()"
   ]
  },
  {
   "cell_type": "markdown",
   "metadata": {},
   "source": [
    "* Caracteríticas numéricas "
   ]
  },
  {
   "cell_type": "code",
   "execution_count": 54,
   "metadata": {},
   "outputs": [
    {
     "data": {
      "text/plain": [
       "4     1996208\n",
       "3      878697\n",
       "1      775168\n",
       "5        8950\n",
       "6        6387\n",
       "7        2476\n",
       "2         526\n",
       "9          70\n",
       "10         16\n",
       "11         16\n",
       "8           8\n",
       "Name: state_number, dtype: int64"
      ]
     },
     "execution_count": 54,
     "metadata": {},
     "output_type": "execute_result"
    }
   ],
   "source": [
    "df.state_number.value_counts()"
   ]
  },
  {
   "cell_type": "code",
   "execution_count": 55,
   "metadata": {},
   "outputs": [
    {
     "data": {
      "text/plain": [
       "3    1996437\n",
       "1    1662812\n",
       "4       9052\n",
       "2        213\n",
       "5          8\n",
       "Name: proto_number, dtype: int64"
      ]
     },
     "execution_count": 55,
     "metadata": {},
     "output_type": "execute_result"
    }
   ],
   "source": [
    "df.proto_number.value_counts()"
   ]
  },
  {
   "cell_type": "code",
   "execution_count": 56,
   "metadata": {},
   "outputs": [
    {
     "data": {
      "text/plain": [
       "1    2293445\n",
       "2    1245171\n",
       "5      94344\n",
       "6      34599\n",
       "4        816\n",
       "3        137\n",
       "7          5\n",
       "8          4\n",
       "9          1\n",
       "Name: flgs_number, dtype: int64"
      ]
     },
     "execution_count": 56,
     "metadata": {},
     "output_type": "execute_result"
    }
   ],
   "source": [
    "df.flgs_number.value_counts()"
   ]
  },
  {
   "cell_type": "code",
   "execution_count": 57,
   "metadata": {},
   "outputs": [
    {
     "data": {
      "text/plain": [
       "Index(['pkSeqID', 'stime', 'flgs', 'flgs_number', 'proto', 'proto_number',\n",
       "       'saddr', 'sport', 'daddr', 'dport', 'pkts', 'bytes', 'state',\n",
       "       'state_number', 'ltime', 'seq', 'dur', 'mean', 'stddev', 'sum', 'min',\n",
       "       'max', 'spkts', 'dpkts', 'sbytes', 'dbytes', 'rate', 'srate', 'drate',\n",
       "       'TnBPSrcIP', 'TnBPDstIP', 'TnP_PSrcIP', 'TnP_PDstIP', 'TnP_PerProto',\n",
       "       'TnP_Per_Dport', 'AR_P_Proto_P_SrcIP', 'AR_P_Proto_P_DstIP',\n",
       "       'N_IN_Conn_P_DstIP', 'N_IN_Conn_P_SrcIP', 'AR_P_Proto_P_Sport',\n",
       "       'AR_P_Proto_P_Dport', 'Pkts_P_State_P_Protocol_P_DestIP',\n",
       "       'Pkts_P_State_P_Protocol_P_SrcIP', 'attack', 'category', 'subcategory'],\n",
       "      dtype='object')"
      ]
     },
     "execution_count": 57,
     "metadata": {},
     "output_type": "execute_result"
    }
   ],
   "source": [
    "df.columns"
   ]
  },
  {
   "cell_type": "markdown",
   "metadata": {},
   "source": [
    "3. Almacenando base de datos BOT-IOT después del proceso de limpiado"
   ]
  },
  {
   "cell_type": "code",
   "execution_count": 58,
   "metadata": {},
   "outputs": [],
   "source": [
    "df.to_csv('./BOT_IOT_Clean_Complete.csv',index = False)"
   ]
  },
  {
   "cell_type": "code",
   "execution_count": 61,
   "metadata": {},
   "outputs": [],
   "source": [
    "df = pd.read_csv('BOT_IOT_Clean_Complete.csv')"
   ]
  },
  {
   "cell_type": "markdown",
   "metadata": {},
   "source": [
    "<h3> 4. Submuestra base de datos BOT-IOT </h3>\n",
    "\n",
    "1. Seleccionando aleatoriamente 200.000 muestras de tráfico de ataque y se mantienen las de tráfico normal"
   ]
  },
  {
   "cell_type": "code",
   "execution_count": 66,
   "metadata": {},
   "outputs": [],
   "source": [
    "df_BOT_IOT = pd.DataFrame()\n",
    "df_BOT_IOT = pd.concat([df_BOT_IOT,df.loc[df.subcategory == 'Normal']])\n",
    "df_BOT_IOT = pd.concat([df_BOT_IOT,df.loc[df.subcategory == 'UDP'].sample(n = 108029)])\n",
    "df_BOT_IOT = pd.concat([df_BOT_IOT,df.loc[df.subcategory == 'TCP'].sample(n = 86870)])\n",
    "df_BOT_IOT = pd.concat([df_BOT_IOT,df.loc[df.subcategory == 'Service_Scan'].sample(n = 3987)])\n",
    "df_BOT_IOT = pd.concat([df_BOT_IOT,df.loc[df.subcategory == 'OS_Fingerprint'].sample(n = 975)])\n",
    "df_BOT_IOT = pd.concat([df_BOT_IOT,df.loc[df.subcategory == 'HTTP'].sample(n = 135)])\n",
    "df_BOT_IOT = pd.concat([df_BOT_IOT,df.loc[df.subcategory == 'Keylogging'].sample(n = 4)])\n",
    "df_BOT_IOT = df_BOT_IOT.reset_index(drop=True)"
   ]
  },
  {
   "cell_type": "markdown",
   "metadata": {},
   "source": [
    "2. Seleccionando caracteríticas comunes de BOT-IOT y USNW-NB15"
   ]
  },
  {
   "cell_type": "code",
   "execution_count": 67,
   "metadata": {},
   "outputs": [
    {
     "data": {
      "text/plain": [
       "(200643, 30)"
      ]
     },
     "execution_count": 67,
     "metadata": {},
     "output_type": "execute_result"
    }
   ],
   "source": [
    "df_BOT_IOT = df_BOT_IOT.drop(['pkSeqID','flgs','flgs_number','seq','mean', 'stddev', 'sum', 'min', 'max','rate', 'srate', 'drate','Pkts_P_State_P_Protocol_P_DestIP', 'Pkts_P_State_P_Protocol_P_SrcIP','category','subcategory'], axis = 1)\n",
    "df_BOT_IOT.shape"
   ]
  },
  {
   "cell_type": "code",
   "execution_count": 68,
   "metadata": {},
   "outputs": [
    {
     "data": {
      "text/plain": [
       "Index(['stime', 'proto', 'proto_number', 'saddr', 'sport', 'daddr', 'dport',\n",
       "       'pkts', 'bytes', 'state', 'state_number', 'ltime', 'dur', 'spkts',\n",
       "       'dpkts', 'sbytes', 'dbytes', 'TnBPSrcIP', 'TnBPDstIP', 'TnP_PSrcIP',\n",
       "       'TnP_PDstIP', 'TnP_PerProto', 'TnP_Per_Dport', 'AR_P_Proto_P_SrcIP',\n",
       "       'AR_P_Proto_P_DstIP', 'N_IN_Conn_P_DstIP', 'N_IN_Conn_P_SrcIP',\n",
       "       'AR_P_Proto_P_Sport', 'AR_P_Proto_P_Dport', 'attack'],\n",
       "      dtype='object')"
      ]
     },
     "execution_count": 68,
     "metadata": {},
     "output_type": "execute_result"
    }
   ],
   "source": [
    "df_BOT_IOT.columns"
   ]
  },
  {
   "cell_type": "code",
   "execution_count": 69,
   "metadata": {},
   "outputs": [
    {
     "data": {
      "text/plain": [
       "int64      19\n",
       "float64     7\n",
       "object      4\n",
       "dtype: int64"
      ]
     },
     "execution_count": 69,
     "metadata": {},
     "output_type": "execute_result"
    }
   ],
   "source": [
    "df_BOT_IOT.dtypes.value_counts()"
   ]
  },
  {
   "cell_type": "markdown",
   "metadata": {},
   "source": [
    "3. Almacenando la submuestra de BOT-IOT"
   ]
  },
  {
   "cell_type": "code",
   "execution_count": 70,
   "metadata": {},
   "outputs": [],
   "source": [
    "df_BOT_IOT.to_csv('./BOT_IOT_Submuestra.csv',index = False)"
   ]
  },
  {
   "cell_type": "markdown",
   "metadata": {},
   "source": [
    "<h1> Base de datos UNSW-NB15 </h1>"
   ]
  },
  {
   "cell_type": "markdown",
   "metadata": {},
   "source": [
    "Este conjunto de datos tiene 4 archivos CSV que contiene registros normales y de ataque.\n",
    "\n",
    "|Nombre del archivo |Tamaño del archivo|Número de registros|Número de características|\n",
    "|:----|:----|:----|:----|\n",
    "|UNSWNB15_1.csv|161.2 MB|700.000|49|\n",
    "|UNSWNB15_2.csv|157.6 MB|700.000|49|\n",
    "|UNSWNB15_3.csv|147.4 MB|700.000|49|\n",
    "|UNSWNB15_4.csv|91.3 MB|440.044|49|\n",
    "\n",
    "Este conjunto de datos tiene 46 características en 3 tipos de datos:\n",
    "\n",
    "* Categóricas: proto, state, service, attack_cat\n",
    "* Binarias: is_sm_ips_ports, is_ftp_login\n",
    "* Numéricas: El resto de las características"
   ]
  },
  {
   "cell_type": "markdown",
   "metadata": {},
   "source": [
    "<h3> 1. Lectura de los datos </h3>"
   ]
  },
  {
   "cell_type": "code",
   "execution_count": 107,
   "metadata": {},
   "outputs": [
    {
     "name": "stderr",
     "output_type": "stream",
     "text": [
      "C:\\Users\\kapla\\AppData\\Local\\Temp\\ipykernel_2396\\1108624514.py:5: DtypeWarning: Columns (1,3,47) have mixed types. Specify dtype option on import or set low_memory=False.\n",
      "  dfs.append(pd.read_csv(path.format(i), header = None))\n",
      "C:\\Users\\kapla\\AppData\\Local\\Temp\\ipykernel_2396\\1108624514.py:5: DtypeWarning: Columns (3,39,47) have mixed types. Specify dtype option on import or set low_memory=False.\n",
      "  dfs.append(pd.read_csv(path.format(i), header = None))\n"
     ]
    }
   ],
   "source": [
    "# Lectura de los archivos csv\n",
    "dfs = []\n",
    "for i in range(1,5):\n",
    "    path = './UNSW-NB15/UNSW-NB15_{}.csv'\n",
    "    dfs.append(pd.read_csv(path.format(i), header = None))\n",
    "df_unsw = pd.concat(dfs).reset_index(drop=True)\n",
    "\n",
    "# Este archivo csv contiene los nombres de todas las funciones\n",
    "df_col = pd.read_csv('./UNSW-NB15/NUSW-NB15_features.csv', encoding='ISO-8859-1')\n",
    "# Poner los nombres de las columnas en minúsculas, eliminando espacios\n",
    "df_col['Name'] = df_col['Name'].apply(lambda x: x.strip().replace(' ', '').lower())\n",
    "\n",
    "df_unsw.columns = df_col['Name']"
   ]
  },
  {
   "cell_type": "markdown",
   "metadata": {},
   "source": [
    "<h3> 2. Limpieza de la base de datos </h3>"
   ]
  },
  {
   "cell_type": "markdown",
   "metadata": {},
   "source": [
    "1. En 'attack_cat' se reemplazan los valores nulos como 'normal'\n",
    "2. En 'ct_flw_http_mthd' y 'is_ftp_login' los valores nulos se reemplazan como 0"
   ]
  },
  {
   "cell_type": "code",
   "execution_count": 108,
   "metadata": {},
   "outputs": [],
   "source": [
    "df_unsw['attack_cat'] = df_unsw.attack_cat.fillna(value='normal').apply(lambda x: x.strip().lower())\n",
    "df_unsw['ct_flw_http_mthd'] = df_unsw.ct_flw_http_mthd.fillna(value=0)\n",
    "df_unsw['is_ftp_login'] = (df_unsw.is_ftp_login.fillna(value=0)).astype('int64')"
   ]
  },
  {
   "cell_type": "code",
   "execution_count": 109,
   "metadata": {},
   "outputs": [
    {
     "data": {
      "text/plain": [
       "0"
      ]
     },
     "execution_count": 109,
     "metadata": {},
     "output_type": "execute_result"
    }
   ],
   "source": [
    "df_unsw.isnull().sum().sum()"
   ]
  },
  {
   "cell_type": "markdown",
   "metadata": {},
   "source": [
    "3. 'ct_ftp_cmd' es una característica numérica no categórica\n",
    "4. 'is_ftp_login' es una característica de tipo binaria\n",
    "5. En 'service' se eliminan todos los '-' y se reemplazan por 'None'\n",
    "6. En 'attack_cat' solo existen 10 valores únicos"
   ]
  },
  {
   "cell_type": "code",
   "execution_count": 110,
   "metadata": {},
   "outputs": [],
   "source": [
    "df_unsw['ct_ftp_cmd'] = df_unsw['ct_ftp_cmd'].replace(to_replace=' ', value=0).astype('int64')\n",
    "df_unsw['is_ftp_login'] = np.where(df_unsw['is_ftp_login']>1, 1, df_unsw['is_ftp_login'])\n",
    "df_unsw['service'] = df_unsw['service'].apply(lambda x:\"None\" if x==\"-\" else x)\n",
    "df_unsw['attack_cat'] = df_unsw['attack_cat'].replace('backdoors','backdoor', regex=True).apply(lambda x: x.strip().lower())"
   ]
  },
  {
   "cell_type": "markdown",
   "metadata": {},
   "source": [
    "7. Limpiando 'sport' y 'dsport' para luego convertir a enteto"
   ]
  },
  {
   "cell_type": "code",
   "execution_count": 111,
   "metadata": {},
   "outputs": [],
   "source": [
    "df_unsw.sport = df_unsw.sport.replace({\"0x000b\":11, \"0x000c\":12, '-':-1})\n",
    "df_unsw.dsport = df_unsw.dsport.replace({\"0xc0a8\":49320, \"0xcc09\":52233, '0x20205321':0, '-':-1})\n",
    "df_unsw[['sport']]=df_unsw[['sport']].astype('int64')\n",
    "df_unsw[['dsport']]=df_unsw[['dsport']].astype('int64')"
   ]
  },
  {
   "cell_type": "markdown",
   "metadata": {},
   "source": [
    "7. Asignando 'sport' y 'dsport' en -1 cuando se usan protocolos 'arp' y 'icmp'\n",
    "8. Asignando 'sport' y 'dsport' en -1 cuanto se tiene el puerto '0'"
   ]
  },
  {
   "cell_type": "code",
   "execution_count": 112,
   "metadata": {},
   "outputs": [],
   "source": [
    "df_unsw.loc[df_unsw.proto == 'arp','sport'] = -1\n",
    "df_unsw.loc[df_unsw.proto == 'arp','dsport'] = -1\n",
    "df_unsw.loc[df_unsw.proto == 'icmp','sport'] = -1\n",
    "df_unsw.loc[df_unsw.proto == 'icmp','dsport'] = -1\n",
    "\n",
    "df_unsw.loc[df_unsw.sport == 0,'sport'] = -1\n",
    "df_unsw.loc[df_unsw.dsport == 0,'dsport'] = -1"
   ]
  },
  {
   "cell_type": "code",
   "execution_count": 114,
   "metadata": {},
   "outputs": [
    {
     "data": {
      "text/plain": [
       "(2540047, 49)"
      ]
     },
     "execution_count": 114,
     "metadata": {},
     "output_type": "execute_result"
    }
   ],
   "source": [
    "df_unsw.shape"
   ]
  },
  {
   "cell_type": "code",
   "execution_count": 116,
   "metadata": {},
   "outputs": [
    {
     "data": {
      "text/html": [
       "<div>\n",
       "<style scoped>\n",
       "    .dataframe tbody tr th:only-of-type {\n",
       "        vertical-align: middle;\n",
       "    }\n",
       "\n",
       "    .dataframe tbody tr th {\n",
       "        vertical-align: top;\n",
       "    }\n",
       "\n",
       "    .dataframe thead th {\n",
       "        text-align: right;\n",
       "    }\n",
       "</style>\n",
       "<table border=\"1\" class=\"dataframe\">\n",
       "  <thead>\n",
       "    <tr style=\"text-align: right;\">\n",
       "      <th>Name</th>\n",
       "      <th>srcip</th>\n",
       "      <th>sport</th>\n",
       "      <th>dstip</th>\n",
       "      <th>dsport</th>\n",
       "      <th>proto</th>\n",
       "      <th>state</th>\n",
       "      <th>dur</th>\n",
       "      <th>sbytes</th>\n",
       "      <th>dbytes</th>\n",
       "      <th>sttl</th>\n",
       "      <th>...</th>\n",
       "      <th>ct_ftp_cmd</th>\n",
       "      <th>ct_srv_src</th>\n",
       "      <th>ct_srv_dst</th>\n",
       "      <th>ct_dst_ltm</th>\n",
       "      <th>ct_src_ltm</th>\n",
       "      <th>ct_src_dport_ltm</th>\n",
       "      <th>ct_dst_sport_ltm</th>\n",
       "      <th>ct_dst_src_ltm</th>\n",
       "      <th>attack_cat</th>\n",
       "      <th>label</th>\n",
       "    </tr>\n",
       "  </thead>\n",
       "  <tbody>\n",
       "    <tr>\n",
       "      <th>0</th>\n",
       "      <td>59.166.0.0</td>\n",
       "      <td>1390</td>\n",
       "      <td>149.171.126.6</td>\n",
       "      <td>53</td>\n",
       "      <td>udp</td>\n",
       "      <td>CON</td>\n",
       "      <td>0.001055</td>\n",
       "      <td>132</td>\n",
       "      <td>164</td>\n",
       "      <td>31</td>\n",
       "      <td>...</td>\n",
       "      <td>0</td>\n",
       "      <td>3</td>\n",
       "      <td>7</td>\n",
       "      <td>1</td>\n",
       "      <td>3</td>\n",
       "      <td>1</td>\n",
       "      <td>1</td>\n",
       "      <td>1</td>\n",
       "      <td>normal</td>\n",
       "      <td>0</td>\n",
       "    </tr>\n",
       "    <tr>\n",
       "      <th>1</th>\n",
       "      <td>59.166.0.0</td>\n",
       "      <td>33661</td>\n",
       "      <td>149.171.126.9</td>\n",
       "      <td>1024</td>\n",
       "      <td>udp</td>\n",
       "      <td>CON</td>\n",
       "      <td>0.036133</td>\n",
       "      <td>528</td>\n",
       "      <td>304</td>\n",
       "      <td>31</td>\n",
       "      <td>...</td>\n",
       "      <td>0</td>\n",
       "      <td>2</td>\n",
       "      <td>4</td>\n",
       "      <td>2</td>\n",
       "      <td>3</td>\n",
       "      <td>1</td>\n",
       "      <td>1</td>\n",
       "      <td>2</td>\n",
       "      <td>normal</td>\n",
       "      <td>0</td>\n",
       "    </tr>\n",
       "    <tr>\n",
       "      <th>2</th>\n",
       "      <td>59.166.0.6</td>\n",
       "      <td>1464</td>\n",
       "      <td>149.171.126.7</td>\n",
       "      <td>53</td>\n",
       "      <td>udp</td>\n",
       "      <td>CON</td>\n",
       "      <td>0.001119</td>\n",
       "      <td>146</td>\n",
       "      <td>178</td>\n",
       "      <td>31</td>\n",
       "      <td>...</td>\n",
       "      <td>0</td>\n",
       "      <td>12</td>\n",
       "      <td>8</td>\n",
       "      <td>1</td>\n",
       "      <td>2</td>\n",
       "      <td>2</td>\n",
       "      <td>1</td>\n",
       "      <td>1</td>\n",
       "      <td>normal</td>\n",
       "      <td>0</td>\n",
       "    </tr>\n",
       "    <tr>\n",
       "      <th>3</th>\n",
       "      <td>59.166.0.5</td>\n",
       "      <td>3593</td>\n",
       "      <td>149.171.126.5</td>\n",
       "      <td>53</td>\n",
       "      <td>udp</td>\n",
       "      <td>CON</td>\n",
       "      <td>0.001209</td>\n",
       "      <td>132</td>\n",
       "      <td>164</td>\n",
       "      <td>31</td>\n",
       "      <td>...</td>\n",
       "      <td>0</td>\n",
       "      <td>6</td>\n",
       "      <td>9</td>\n",
       "      <td>1</td>\n",
       "      <td>1</td>\n",
       "      <td>1</td>\n",
       "      <td>1</td>\n",
       "      <td>1</td>\n",
       "      <td>normal</td>\n",
       "      <td>0</td>\n",
       "    </tr>\n",
       "    <tr>\n",
       "      <th>4</th>\n",
       "      <td>59.166.0.3</td>\n",
       "      <td>49664</td>\n",
       "      <td>149.171.126.0</td>\n",
       "      <td>53</td>\n",
       "      <td>udp</td>\n",
       "      <td>CON</td>\n",
       "      <td>0.001169</td>\n",
       "      <td>146</td>\n",
       "      <td>178</td>\n",
       "      <td>31</td>\n",
       "      <td>...</td>\n",
       "      <td>0</td>\n",
       "      <td>7</td>\n",
       "      <td>9</td>\n",
       "      <td>1</td>\n",
       "      <td>1</td>\n",
       "      <td>1</td>\n",
       "      <td>1</td>\n",
       "      <td>1</td>\n",
       "      <td>normal</td>\n",
       "      <td>0</td>\n",
       "    </tr>\n",
       "    <tr>\n",
       "      <th>...</th>\n",
       "      <td>...</td>\n",
       "      <td>...</td>\n",
       "      <td>...</td>\n",
       "      <td>...</td>\n",
       "      <td>...</td>\n",
       "      <td>...</td>\n",
       "      <td>...</td>\n",
       "      <td>...</td>\n",
       "      <td>...</td>\n",
       "      <td>...</td>\n",
       "      <td>...</td>\n",
       "      <td>...</td>\n",
       "      <td>...</td>\n",
       "      <td>...</td>\n",
       "      <td>...</td>\n",
       "      <td>...</td>\n",
       "      <td>...</td>\n",
       "      <td>...</td>\n",
       "      <td>...</td>\n",
       "      <td>...</td>\n",
       "      <td>...</td>\n",
       "    </tr>\n",
       "    <tr>\n",
       "      <th>2540042</th>\n",
       "      <td>59.166.0.5</td>\n",
       "      <td>33094</td>\n",
       "      <td>149.171.126.7</td>\n",
       "      <td>43433</td>\n",
       "      <td>tcp</td>\n",
       "      <td>FIN</td>\n",
       "      <td>0.087306</td>\n",
       "      <td>320</td>\n",
       "      <td>1828</td>\n",
       "      <td>31</td>\n",
       "      <td>...</td>\n",
       "      <td>0</td>\n",
       "      <td>1</td>\n",
       "      <td>2</td>\n",
       "      <td>3</td>\n",
       "      <td>3</td>\n",
       "      <td>1</td>\n",
       "      <td>1</td>\n",
       "      <td>3</td>\n",
       "      <td>normal</td>\n",
       "      <td>0</td>\n",
       "    </tr>\n",
       "    <tr>\n",
       "      <th>2540043</th>\n",
       "      <td>59.166.0.7</td>\n",
       "      <td>20848</td>\n",
       "      <td>149.171.126.4</td>\n",
       "      <td>21</td>\n",
       "      <td>tcp</td>\n",
       "      <td>CON</td>\n",
       "      <td>0.365058</td>\n",
       "      <td>456</td>\n",
       "      <td>346</td>\n",
       "      <td>31</td>\n",
       "      <td>...</td>\n",
       "      <td>2</td>\n",
       "      <td>2</td>\n",
       "      <td>2</td>\n",
       "      <td>2</td>\n",
       "      <td>2</td>\n",
       "      <td>2</td>\n",
       "      <td>2</td>\n",
       "      <td>2</td>\n",
       "      <td>normal</td>\n",
       "      <td>0</td>\n",
       "    </tr>\n",
       "    <tr>\n",
       "      <th>2540044</th>\n",
       "      <td>59.166.0.3</td>\n",
       "      <td>21511</td>\n",
       "      <td>149.171.126.9</td>\n",
       "      <td>21</td>\n",
       "      <td>tcp</td>\n",
       "      <td>CON</td>\n",
       "      <td>6.335154</td>\n",
       "      <td>1802</td>\n",
       "      <td>2088</td>\n",
       "      <td>31</td>\n",
       "      <td>...</td>\n",
       "      <td>2</td>\n",
       "      <td>2</td>\n",
       "      <td>2</td>\n",
       "      <td>4</td>\n",
       "      <td>2</td>\n",
       "      <td>2</td>\n",
       "      <td>2</td>\n",
       "      <td>2</td>\n",
       "      <td>normal</td>\n",
       "      <td>0</td>\n",
       "    </tr>\n",
       "    <tr>\n",
       "      <th>2540045</th>\n",
       "      <td>59.166.0.9</td>\n",
       "      <td>35433</td>\n",
       "      <td>149.171.126.0</td>\n",
       "      <td>80</td>\n",
       "      <td>tcp</td>\n",
       "      <td>CON</td>\n",
       "      <td>2.200934</td>\n",
       "      <td>3498</td>\n",
       "      <td>166054</td>\n",
       "      <td>31</td>\n",
       "      <td>...</td>\n",
       "      <td>0</td>\n",
       "      <td>1</td>\n",
       "      <td>1</td>\n",
       "      <td>2</td>\n",
       "      <td>4</td>\n",
       "      <td>2</td>\n",
       "      <td>2</td>\n",
       "      <td>2</td>\n",
       "      <td>normal</td>\n",
       "      <td>0</td>\n",
       "    </tr>\n",
       "    <tr>\n",
       "      <th>2540046</th>\n",
       "      <td>175.45.176.0</td>\n",
       "      <td>17293</td>\n",
       "      <td>149.171.126.17</td>\n",
       "      <td>110</td>\n",
       "      <td>tcp</td>\n",
       "      <td>CON</td>\n",
       "      <td>0.942984</td>\n",
       "      <td>574</td>\n",
       "      <td>676</td>\n",
       "      <td>62</td>\n",
       "      <td>...</td>\n",
       "      <td>0</td>\n",
       "      <td>1</td>\n",
       "      <td>1</td>\n",
       "      <td>2</td>\n",
       "      <td>4</td>\n",
       "      <td>2</td>\n",
       "      <td>2</td>\n",
       "      <td>2</td>\n",
       "      <td>exploits</td>\n",
       "      <td>1</td>\n",
       "    </tr>\n",
       "  </tbody>\n",
       "</table>\n",
       "<p>2540047 rows × 49 columns</p>\n",
       "</div>"
      ],
      "text/plain": [
       "Name            srcip  sport           dstip  dsport proto state       dur  \\\n",
       "0          59.166.0.0   1390   149.171.126.6      53   udp   CON  0.001055   \n",
       "1          59.166.0.0  33661   149.171.126.9    1024   udp   CON  0.036133   \n",
       "2          59.166.0.6   1464   149.171.126.7      53   udp   CON  0.001119   \n",
       "3          59.166.0.5   3593   149.171.126.5      53   udp   CON  0.001209   \n",
       "4          59.166.0.3  49664   149.171.126.0      53   udp   CON  0.001169   \n",
       "...               ...    ...             ...     ...   ...   ...       ...   \n",
       "2540042    59.166.0.5  33094   149.171.126.7   43433   tcp   FIN  0.087306   \n",
       "2540043    59.166.0.7  20848   149.171.126.4      21   tcp   CON  0.365058   \n",
       "2540044    59.166.0.3  21511   149.171.126.9      21   tcp   CON  6.335154   \n",
       "2540045    59.166.0.9  35433   149.171.126.0      80   tcp   CON  2.200934   \n",
       "2540046  175.45.176.0  17293  149.171.126.17     110   tcp   CON  0.942984   \n",
       "\n",
       "Name     sbytes  dbytes  sttl  ...  ct_ftp_cmd  ct_srv_src  ct_srv_dst  \\\n",
       "0           132     164    31  ...           0           3           7   \n",
       "1           528     304    31  ...           0           2           4   \n",
       "2           146     178    31  ...           0          12           8   \n",
       "3           132     164    31  ...           0           6           9   \n",
       "4           146     178    31  ...           0           7           9   \n",
       "...         ...     ...   ...  ...         ...         ...         ...   \n",
       "2540042     320    1828    31  ...           0           1           2   \n",
       "2540043     456     346    31  ...           2           2           2   \n",
       "2540044    1802    2088    31  ...           2           2           2   \n",
       "2540045    3498  166054    31  ...           0           1           1   \n",
       "2540046     574     676    62  ...           0           1           1   \n",
       "\n",
       "Name    ct_dst_ltm  ct_src_ltm  ct_src_dport_ltm  ct_dst_sport_ltm  \\\n",
       "0                1           3                 1                 1   \n",
       "1                2           3                 1                 1   \n",
       "2                1           2                 2                 1   \n",
       "3                1           1                 1                 1   \n",
       "4                1           1                 1                 1   \n",
       "...            ...         ...               ...               ...   \n",
       "2540042          3           3                 1                 1   \n",
       "2540043          2           2                 2                 2   \n",
       "2540044          4           2                 2                 2   \n",
       "2540045          2           4                 2                 2   \n",
       "2540046          2           4                 2                 2   \n",
       "\n",
       "Name     ct_dst_src_ltm  attack_cat  label  \n",
       "0                     1      normal      0  \n",
       "1                     2      normal      0  \n",
       "2                     1      normal      0  \n",
       "3                     1      normal      0  \n",
       "4                     1      normal      0  \n",
       "...                 ...         ...    ...  \n",
       "2540042               3      normal      0  \n",
       "2540043               2      normal      0  \n",
       "2540044               2      normal      0  \n",
       "2540045               2      normal      0  \n",
       "2540046               2    exploits      1  \n",
       "\n",
       "[2540047 rows x 49 columns]"
      ]
     },
     "execution_count": 116,
     "metadata": {},
     "output_type": "execute_result"
    }
   ],
   "source": [
    "df_unsw"
   ]
  },
  {
   "cell_type": "markdown",
   "metadata": {},
   "source": [
    "3. Almacenando UNSW despúes del proceso de limpieza "
   ]
  },
  {
   "cell_type": "code",
   "execution_count": 117,
   "metadata": {},
   "outputs": [],
   "source": [
    "df_unsw.to_csv('./UNSNW_Clean_Complete.csv',index = False)"
   ]
  },
  {
   "cell_type": "code",
   "execution_count": 118,
   "metadata": {},
   "outputs": [],
   "source": [
    "df_unsw = pd.read_csv('UNSNW_Clean_Complete.csv')"
   ]
  },
  {
   "cell_type": "markdown",
   "metadata": {},
   "source": [
    "<h3> 3. Características </h3>"
   ]
  },
  {
   "cell_type": "code",
   "execution_count": 119,
   "metadata": {},
   "outputs": [
    {
     "data": {
      "text/plain": [
       "int64      32\n",
       "float64    11\n",
       "object      6\n",
       "dtype: int64"
      ]
     },
     "execution_count": 119,
     "metadata": {},
     "output_type": "execute_result"
    }
   ],
   "source": [
    "# All the datatypes in our dataset\n",
    "df_unsw.dtypes.value_counts()"
   ]
  },
  {
   "cell_type": "code",
   "execution_count": 120,
   "metadata": {},
   "outputs": [
    {
     "data": {
      "text/plain": [
       "Index(['srcip', 'dstip', 'proto', 'state', 'service', 'attack_cat'], dtype='object')"
      ]
     },
     "execution_count": 120,
     "metadata": {},
     "output_type": "execute_result"
    }
   ],
   "source": [
    "# Categorical feature names\n",
    "df_unsw.select_dtypes(exclude=np.number).columns"
   ]
  },
  {
   "cell_type": "code",
   "execution_count": 121,
   "metadata": {},
   "outputs": [
    {
     "data": {
      "text/plain": [
       "tcp     1495074\n",
       "udp      990435\n",
       "unas      16202\n",
       "arp       10064\n",
       "ospf       7798\n",
       "         ...   \n",
       "3pc         137\n",
       "igmp         64\n",
       "udt           8\n",
       "rtp           7\n",
       "esp           2\n",
       "Name: proto, Length: 135, dtype: int64"
      ]
     },
     "execution_count": 121,
     "metadata": {},
     "output_type": "execute_result"
    }
   ],
   "source": [
    "df_unsw.proto.value_counts()"
   ]
  },
  {
   "cell_type": "code",
   "execution_count": 122,
   "metadata": {},
   "outputs": [
    {
     "data": {
      "text/plain": [
       "array(['udp', 'arp', 'tcp', 'ospf', 'icmp', 'igmp', 'sctp', 'udt', 'sep',\n",
       "       'sun-nd', 'swipe', 'mobile', 'pim', 'rtp', 'ipnip', 'ip', 'ggp',\n",
       "       'st2', 'egp', 'cbt', 'emcon', 'nvp', 'igp', 'xnet', 'argus',\n",
       "       'bbn-rcc', 'chaos', 'pup', 'hmp', 'mux', 'dcn', 'prm', 'trunk-1',\n",
       "       'xns-idp', 'trunk-2', 'leaf-1', 'leaf-2', 'irtp', 'rdp', 'iso-tp4',\n",
       "       'netblt', 'mfe-nsp', 'merit-inp', '3pc', 'xtp', 'idpr', 'tp++',\n",
       "       'ddp', 'idpr-cmtp', 'ipv6', 'il', 'idrp', 'ipv6-frag', 'sdrp',\n",
       "       'ipv6-route', 'gre', 'rsvp', 'mhrp', 'bna', 'esp', 'i-nlsp',\n",
       "       'narp', 'ipv6-no', 'tlsp', 'skip', 'ipv6-opts', 'any', 'cftp',\n",
       "       'sat-expak', 'kryptolan', 'rvd', 'ippc', 'sat-mon', 'ipcv', 'visa',\n",
       "       'cpnx', 'cphb', 'wsn', 'pvp', 'br-sat-mon', 'wb-mon', 'wb-expak',\n",
       "       'iso-ip', 'secure-vmtp', 'vmtp', 'vines', 'ttp', 'nsfnet-igp',\n",
       "       'dgp', 'tcf', 'eigrp', 'sprite-rpc', 'larp', 'mtp', 'ax.25',\n",
       "       'ipip', 'micp', 'aes-sp3-d', 'encap', 'etherip', 'pri-enc', 'gmtp',\n",
       "       'pnni', 'ifmp', 'aris', 'qnx', 'a/n', 'scps', 'snp', 'ipcomp',\n",
       "       'compaq-peer', 'ipx-n-ip', 'vrrp', 'zero', 'pgm', 'iatp', 'ddx',\n",
       "       'l2tp', 'srp', 'stp', 'smp', 'uti', 'sm', 'ptp', 'fire', 'crtp',\n",
       "       'isis', 'crudp', 'sccopmce', 'sps', 'pipe', 'iplt', 'unas', 'fc',\n",
       "       'ib'], dtype=object)"
      ]
     },
     "execution_count": 122,
     "metadata": {},
     "output_type": "execute_result"
    }
   ],
   "source": [
    "df_unsw.proto.unique()"
   ]
  },
  {
   "cell_type": "code",
   "execution_count": 123,
   "metadata": {},
   "outputs": [
    {
     "data": {
      "text/plain": [
       "FIN    1478689\n",
       "CON     560588\n",
       "INT     490471\n",
       "REQ       9043\n",
       "RST        528\n",
       "ECO        337\n",
       "CLO        161\n",
       "URH        108\n",
       "ACC         43\n",
       "PAR         30\n",
       "TST          9\n",
       "ECR          9\n",
       "URN          8\n",
       "no           8\n",
       "MAS          8\n",
       "TXD          7\n",
       "Name: state, dtype: int64"
      ]
     },
     "execution_count": 123,
     "metadata": {},
     "output_type": "execute_result"
    }
   ],
   "source": [
    "df_unsw.state.value_counts()"
   ]
  },
  {
   "cell_type": "code",
   "execution_count": 124,
   "metadata": {},
   "outputs": [
    {
     "data": {
      "text/plain": [
       "Index(['sport', 'dsport', 'dur', 'sbytes', 'dbytes', 'sttl', 'dttl', 'sloss',\n",
       "       'dloss', 'sload', 'dload', 'spkts', 'dpkts', 'swin', 'dwin', 'stcpb',\n",
       "       'dtcpb', 'smeansz', 'dmeansz', 'trans_depth', 'res_bdy_len', 'sjit',\n",
       "       'djit', 'stime', 'ltime', 'sintpkt', 'dintpkt', 'tcprtt', 'synack',\n",
       "       'ackdat', 'is_sm_ips_ports', 'ct_state_ttl', 'ct_flw_http_mthd',\n",
       "       'is_ftp_login', 'ct_ftp_cmd', 'ct_srv_src', 'ct_srv_dst', 'ct_dst_ltm',\n",
       "       'ct_src_ltm', 'ct_src_dport_ltm', 'ct_dst_sport_ltm', 'ct_dst_src_ltm',\n",
       "       'label'],\n",
       "      dtype='object')"
      ]
     },
     "execution_count": 124,
     "metadata": {},
     "output_type": "execute_result"
    }
   ],
   "source": [
    "# Numeric features names\n",
    "df_unsw.select_dtypes(include=np.number).columns"
   ]
  },
  {
   "cell_type": "code",
   "execution_count": 125,
   "metadata": {},
   "outputs": [
    {
     "data": {
      "text/html": [
       "<div>\n",
       "<style scoped>\n",
       "    .dataframe tbody tr th:only-of-type {\n",
       "        vertical-align: middle;\n",
       "    }\n",
       "\n",
       "    .dataframe tbody tr th {\n",
       "        vertical-align: top;\n",
       "    }\n",
       "\n",
       "    .dataframe thead th {\n",
       "        text-align: right;\n",
       "    }\n",
       "</style>\n",
       "<table border=\"1\" class=\"dataframe\">\n",
       "  <thead>\n",
       "    <tr style=\"text-align: right;\">\n",
       "      <th></th>\n",
       "      <th>srcip</th>\n",
       "      <th>sport</th>\n",
       "      <th>dstip</th>\n",
       "      <th>dsport</th>\n",
       "      <th>proto</th>\n",
       "      <th>state</th>\n",
       "      <th>dur</th>\n",
       "      <th>sbytes</th>\n",
       "      <th>dbytes</th>\n",
       "      <th>sttl</th>\n",
       "      <th>...</th>\n",
       "      <th>ct_ftp_cmd</th>\n",
       "      <th>ct_srv_src</th>\n",
       "      <th>ct_srv_dst</th>\n",
       "      <th>ct_dst_ltm</th>\n",
       "      <th>ct_src_ltm</th>\n",
       "      <th>ct_src_dport_ltm</th>\n",
       "      <th>ct_dst_sport_ltm</th>\n",
       "      <th>ct_dst_src_ltm</th>\n",
       "      <th>attack_cat</th>\n",
       "      <th>label</th>\n",
       "    </tr>\n",
       "  </thead>\n",
       "  <tbody>\n",
       "    <tr>\n",
       "      <th>0</th>\n",
       "      <td>59.166.0.0</td>\n",
       "      <td>1390</td>\n",
       "      <td>149.171.126.6</td>\n",
       "      <td>53</td>\n",
       "      <td>udp</td>\n",
       "      <td>CON</td>\n",
       "      <td>0.001055</td>\n",
       "      <td>132</td>\n",
       "      <td>164</td>\n",
       "      <td>31</td>\n",
       "      <td>...</td>\n",
       "      <td>0</td>\n",
       "      <td>3</td>\n",
       "      <td>7</td>\n",
       "      <td>1</td>\n",
       "      <td>3</td>\n",
       "      <td>1</td>\n",
       "      <td>1</td>\n",
       "      <td>1</td>\n",
       "      <td>normal</td>\n",
       "      <td>0</td>\n",
       "    </tr>\n",
       "    <tr>\n",
       "      <th>1</th>\n",
       "      <td>59.166.0.0</td>\n",
       "      <td>33661</td>\n",
       "      <td>149.171.126.9</td>\n",
       "      <td>1024</td>\n",
       "      <td>udp</td>\n",
       "      <td>CON</td>\n",
       "      <td>0.036133</td>\n",
       "      <td>528</td>\n",
       "      <td>304</td>\n",
       "      <td>31</td>\n",
       "      <td>...</td>\n",
       "      <td>0</td>\n",
       "      <td>2</td>\n",
       "      <td>4</td>\n",
       "      <td>2</td>\n",
       "      <td>3</td>\n",
       "      <td>1</td>\n",
       "      <td>1</td>\n",
       "      <td>2</td>\n",
       "      <td>normal</td>\n",
       "      <td>0</td>\n",
       "    </tr>\n",
       "    <tr>\n",
       "      <th>2</th>\n",
       "      <td>59.166.0.6</td>\n",
       "      <td>1464</td>\n",
       "      <td>149.171.126.7</td>\n",
       "      <td>53</td>\n",
       "      <td>udp</td>\n",
       "      <td>CON</td>\n",
       "      <td>0.001119</td>\n",
       "      <td>146</td>\n",
       "      <td>178</td>\n",
       "      <td>31</td>\n",
       "      <td>...</td>\n",
       "      <td>0</td>\n",
       "      <td>12</td>\n",
       "      <td>8</td>\n",
       "      <td>1</td>\n",
       "      <td>2</td>\n",
       "      <td>2</td>\n",
       "      <td>1</td>\n",
       "      <td>1</td>\n",
       "      <td>normal</td>\n",
       "      <td>0</td>\n",
       "    </tr>\n",
       "    <tr>\n",
       "      <th>3</th>\n",
       "      <td>59.166.0.5</td>\n",
       "      <td>3593</td>\n",
       "      <td>149.171.126.5</td>\n",
       "      <td>53</td>\n",
       "      <td>udp</td>\n",
       "      <td>CON</td>\n",
       "      <td>0.001209</td>\n",
       "      <td>132</td>\n",
       "      <td>164</td>\n",
       "      <td>31</td>\n",
       "      <td>...</td>\n",
       "      <td>0</td>\n",
       "      <td>6</td>\n",
       "      <td>9</td>\n",
       "      <td>1</td>\n",
       "      <td>1</td>\n",
       "      <td>1</td>\n",
       "      <td>1</td>\n",
       "      <td>1</td>\n",
       "      <td>normal</td>\n",
       "      <td>0</td>\n",
       "    </tr>\n",
       "    <tr>\n",
       "      <th>4</th>\n",
       "      <td>59.166.0.3</td>\n",
       "      <td>49664</td>\n",
       "      <td>149.171.126.0</td>\n",
       "      <td>53</td>\n",
       "      <td>udp</td>\n",
       "      <td>CON</td>\n",
       "      <td>0.001169</td>\n",
       "      <td>146</td>\n",
       "      <td>178</td>\n",
       "      <td>31</td>\n",
       "      <td>...</td>\n",
       "      <td>0</td>\n",
       "      <td>7</td>\n",
       "      <td>9</td>\n",
       "      <td>1</td>\n",
       "      <td>1</td>\n",
       "      <td>1</td>\n",
       "      <td>1</td>\n",
       "      <td>1</td>\n",
       "      <td>normal</td>\n",
       "      <td>0</td>\n",
       "    </tr>\n",
       "  </tbody>\n",
       "</table>\n",
       "<p>5 rows × 49 columns</p>\n",
       "</div>"
      ],
      "text/plain": [
       "        srcip  sport          dstip  dsport proto state       dur  sbytes  \\\n",
       "0  59.166.0.0   1390  149.171.126.6      53   udp   CON  0.001055     132   \n",
       "1  59.166.0.0  33661  149.171.126.9    1024   udp   CON  0.036133     528   \n",
       "2  59.166.0.6   1464  149.171.126.7      53   udp   CON  0.001119     146   \n",
       "3  59.166.0.5   3593  149.171.126.5      53   udp   CON  0.001209     132   \n",
       "4  59.166.0.3  49664  149.171.126.0      53   udp   CON  0.001169     146   \n",
       "\n",
       "   dbytes  sttl  ...  ct_ftp_cmd  ct_srv_src  ct_srv_dst ct_dst_ltm  \\\n",
       "0     164    31  ...           0           3           7          1   \n",
       "1     304    31  ...           0           2           4          2   \n",
       "2     178    31  ...           0          12           8          1   \n",
       "3     164    31  ...           0           6           9          1   \n",
       "4     178    31  ...           0           7           9          1   \n",
       "\n",
       "   ct_src_ltm  ct_src_dport_ltm  ct_dst_sport_ltm  ct_dst_src_ltm  attack_cat  \\\n",
       "0           3                 1                 1               1      normal   \n",
       "1           3                 1                 1               2      normal   \n",
       "2           2                 2                 1               1      normal   \n",
       "3           1                 1                 1               1      normal   \n",
       "4           1                 1                 1               1      normal   \n",
       "\n",
       "   label  \n",
       "0      0  \n",
       "1      0  \n",
       "2      0  \n",
       "3      0  \n",
       "4      0  \n",
       "\n",
       "[5 rows x 49 columns]"
      ]
     },
     "execution_count": 125,
     "metadata": {},
     "output_type": "execute_result"
    }
   ],
   "source": [
    "df_unsw.head()"
   ]
  },
  {
   "cell_type": "code",
   "execution_count": 126,
   "metadata": {},
   "outputs": [
    {
     "name": "stdout",
     "output_type": "stream",
     "text": [
      "<class 'pandas.core.frame.DataFrame'>\n",
      "RangeIndex: 2540047 entries, 0 to 2540046\n",
      "Data columns (total 49 columns):\n",
      " #   Column            Dtype  \n",
      "---  ------            -----  \n",
      " 0   srcip             object \n",
      " 1   sport             int64  \n",
      " 2   dstip             object \n",
      " 3   dsport            int64  \n",
      " 4   proto             object \n",
      " 5   state             object \n",
      " 6   dur               float64\n",
      " 7   sbytes            int64  \n",
      " 8   dbytes            int64  \n",
      " 9   sttl              int64  \n",
      " 10  dttl              int64  \n",
      " 11  sloss             int64  \n",
      " 12  dloss             int64  \n",
      " 13  service           object \n",
      " 14  sload             float64\n",
      " 15  dload             float64\n",
      " 16  spkts             int64  \n",
      " 17  dpkts             int64  \n",
      " 18  swin              int64  \n",
      " 19  dwin              int64  \n",
      " 20  stcpb             int64  \n",
      " 21  dtcpb             int64  \n",
      " 22  smeansz           int64  \n",
      " 23  dmeansz           int64  \n",
      " 24  trans_depth       int64  \n",
      " 25  res_bdy_len       int64  \n",
      " 26  sjit              float64\n",
      " 27  djit              float64\n",
      " 28  stime             int64  \n",
      " 29  ltime             int64  \n",
      " 30  sintpkt           float64\n",
      " 31  dintpkt           float64\n",
      " 32  tcprtt            float64\n",
      " 33  synack            float64\n",
      " 34  ackdat            float64\n",
      " 35  is_sm_ips_ports   int64  \n",
      " 36  ct_state_ttl      int64  \n",
      " 37  ct_flw_http_mthd  float64\n",
      " 38  is_ftp_login      int64  \n",
      " 39  ct_ftp_cmd        int64  \n",
      " 40  ct_srv_src        int64  \n",
      " 41  ct_srv_dst        int64  \n",
      " 42  ct_dst_ltm        int64  \n",
      " 43  ct_src_ltm        int64  \n",
      " 44  ct_src_dport_ltm  int64  \n",
      " 45  ct_dst_sport_ltm  int64  \n",
      " 46  ct_dst_src_ltm    int64  \n",
      " 47  attack_cat        object \n",
      " 48  label             int64  \n",
      "dtypes: float64(11), int64(32), object(6)\n",
      "memory usage: 949.6+ MB\n"
     ]
    }
   ],
   "source": [
    "df_unsw.info()"
   ]
  },
  {
   "cell_type": "markdown",
   "metadata": {},
   "source": [
    "* Etiqeuta 'label'"
   ]
  },
  {
   "cell_type": "code",
   "execution_count": 127,
   "metadata": {},
   "outputs": [
    {
     "data": {
      "text/plain": [
       "0    2218764\n",
       "1     321283\n",
       "Name: label, dtype: int64"
      ]
     },
     "execution_count": 127,
     "metadata": {},
     "output_type": "execute_result"
    }
   ],
   "source": [
    "df_unsw.label.value_counts()"
   ]
  },
  {
   "cell_type": "code",
   "execution_count": 128,
   "metadata": {},
   "outputs": [
    {
     "data": {
      "image/png": "[encoded data removed]",
      "text/plain": [
       "<Figure size 432x288 with 1 Axes>"
      ]
     },
     "metadata": {
      "needs_background": "light"
     },
     "output_type": "display_data"
    }
   ],
   "source": [
    "plt.figure()\n",
    "plt.title(\"Distribución de las clases\")\n",
    "df_unsw['label'].value_counts().plot(kind=\"bar\", color='b')\n",
    "plt.xlabel(\"Clase\")\n",
    "plt.ylabel(\"Cantidad\")\n",
    "plt.legend()\n",
    "plt.show()"
   ]
  },
  {
   "cell_type": "markdown",
   "metadata": {},
   "source": [
    "* Etiqeuta 'attack_cat'"
   ]
  },
  {
   "cell_type": "code",
   "execution_count": 129,
   "metadata": {},
   "outputs": [
    {
     "data": {
      "text/plain": [
       "normal            2218764\n",
       "generic            215481\n",
       "exploits            44525\n",
       "fuzzers             24246\n",
       "dos                 16353\n",
       "reconnaissance      13987\n",
       "analysis             2677\n",
       "backdoor             2329\n",
       "shellcode            1511\n",
       "worms                 174\n",
       "Name: attack_cat, dtype: int64"
      ]
     },
     "execution_count": 129,
     "metadata": {},
     "output_type": "execute_result"
    }
   ],
   "source": [
    "df_unsw.attack_cat.value_counts()"
   ]
  },
  {
   "cell_type": "code",
   "execution_count": 130,
   "metadata": {},
   "outputs": [
    {
     "data": {
      "image/png": "[encoded data removed]",
      "text/plain": [
       "<Figure size 432x288 with 1 Axes>"
      ]
     },
     "metadata": {
      "needs_background": "light"
     },
     "output_type": "display_data"
    }
   ],
   "source": [
    "plt.figure()\n",
    "plt.title(\"Distribución de las clases\")\n",
    "df_unsw['attack_cat'].value_counts().plot(kind=\"bar\", color='b')\n",
    "plt.xlabel(\"Clase\")\n",
    "plt.ylabel(\"Cantidad\")\n",
    "plt.legend()\n",
    "plt.show()"
   ]
  },
  {
   "cell_type": "code",
   "execution_count": 131,
   "metadata": {},
   "outputs": [
    {
     "data": {
      "text/plain": [
       "Index(['srcip', 'sport', 'dstip', 'dsport', 'proto', 'state', 'dur', 'sbytes',\n",
       "       'dbytes', 'sttl', 'dttl', 'sloss', 'dloss', 'service', 'sload', 'dload',\n",
       "       'spkts', 'dpkts', 'swin', 'dwin', 'stcpb', 'dtcpb', 'smeansz',\n",
       "       'dmeansz', 'trans_depth', 'res_bdy_len', 'sjit', 'djit', 'stime',\n",
       "       'ltime', 'sintpkt', 'dintpkt', 'tcprtt', 'synack', 'ackdat',\n",
       "       'is_sm_ips_ports', 'ct_state_ttl', 'ct_flw_http_mthd', 'is_ftp_login',\n",
       "       'ct_ftp_cmd', 'ct_srv_src', 'ct_srv_dst', 'ct_dst_ltm', 'ct_src_ltm',\n",
       "       'ct_src_dport_ltm', 'ct_dst_sport_ltm', 'ct_dst_src_ltm', 'attack_cat',\n",
       "       'label'],\n",
       "      dtype='object')"
      ]
     },
     "execution_count": 131,
     "metadata": {},
     "output_type": "execute_result"
    }
   ],
   "source": [
    "df_unsw.columns"
   ]
  },
  {
   "cell_type": "code",
   "execution_count": 227,
   "metadata": {},
   "outputs": [
    {
     "data": {
      "text/plain": [
       "arp     5107\n",
       "ospf    2402\n",
       "tcp      451\n",
       "udp      212\n",
       "icmp     177\n",
       "unas      22\n",
       "esp        1\n",
       "Name: proto, dtype: int64"
      ]
     },
     "execution_count": 227,
     "metadata": {},
     "output_type": "execute_result"
    }
   ],
   "source": [
    "df_unsw[(df_unsw.dur == 0)].proto.value_counts()"
   ]
  },
  {
   "cell_type": "markdown",
   "metadata": {},
   "source": [
    "<h3> 4. Submuestra base de datos UNSW-NB15 </h3>"
   ]
  },
  {
   "cell_type": "markdown",
   "metadata": {},
   "source": [
    "1. Tomando 199.357 muestras de tráfico normal"
   ]
  },
  {
   "cell_type": "code",
   "execution_count": 228,
   "metadata": {},
   "outputs": [
    {
     "data": {
      "text/html": [
       "<div>\n",
       "<style scoped>\n",
       "    .dataframe tbody tr th:only-of-type {\n",
       "        vertical-align: middle;\n",
       "    }\n",
       "\n",
       "    .dataframe tbody tr th {\n",
       "        vertical-align: top;\n",
       "    }\n",
       "\n",
       "    .dataframe thead th {\n",
       "        text-align: right;\n",
       "    }\n",
       "</style>\n",
       "<table border=\"1\" class=\"dataframe\">\n",
       "  <thead>\n",
       "    <tr style=\"text-align: right;\">\n",
       "      <th></th>\n",
       "      <th>srcip</th>\n",
       "      <th>sport</th>\n",
       "      <th>dstip</th>\n",
       "      <th>dsport</th>\n",
       "      <th>proto</th>\n",
       "      <th>state</th>\n",
       "      <th>dur</th>\n",
       "      <th>sbytes</th>\n",
       "      <th>dbytes</th>\n",
       "      <th>sttl</th>\n",
       "      <th>...</th>\n",
       "      <th>ct_ftp_cmd</th>\n",
       "      <th>ct_srv_src</th>\n",
       "      <th>ct_srv_dst</th>\n",
       "      <th>ct_dst_ltm</th>\n",
       "      <th>ct_src_ltm</th>\n",
       "      <th>ct_src_dport_ltm</th>\n",
       "      <th>ct_dst_sport_ltm</th>\n",
       "      <th>ct_dst_src_ltm</th>\n",
       "      <th>attack_cat</th>\n",
       "      <th>label</th>\n",
       "    </tr>\n",
       "  </thead>\n",
       "  <tbody>\n",
       "    <tr>\n",
       "      <th>0</th>\n",
       "      <td>149.171.126.15</td>\n",
       "      <td>47439</td>\n",
       "      <td>175.45.176.3</td>\n",
       "      <td>53</td>\n",
       "      <td>udp</td>\n",
       "      <td>INT</td>\n",
       "      <td>0.000006</td>\n",
       "      <td>264</td>\n",
       "      <td>0</td>\n",
       "      <td>60</td>\n",
       "      <td>...</td>\n",
       "      <td>0</td>\n",
       "      <td>15</td>\n",
       "      <td>15</td>\n",
       "      <td>8</td>\n",
       "      <td>8</td>\n",
       "      <td>8</td>\n",
       "      <td>8</td>\n",
       "      <td>15</td>\n",
       "      <td>normal</td>\n",
       "      <td>0</td>\n",
       "    </tr>\n",
       "    <tr>\n",
       "      <th>1</th>\n",
       "      <td>59.166.0.3</td>\n",
       "      <td>23618</td>\n",
       "      <td>149.171.126.6</td>\n",
       "      <td>80</td>\n",
       "      <td>tcp</td>\n",
       "      <td>FIN</td>\n",
       "      <td>1.130097</td>\n",
       "      <td>1684</td>\n",
       "      <td>10168</td>\n",
       "      <td>31</td>\n",
       "      <td>...</td>\n",
       "      <td>0</td>\n",
       "      <td>4</td>\n",
       "      <td>2</td>\n",
       "      <td>3</td>\n",
       "      <td>4</td>\n",
       "      <td>2</td>\n",
       "      <td>1</td>\n",
       "      <td>1</td>\n",
       "      <td>normal</td>\n",
       "      <td>0</td>\n",
       "    </tr>\n",
       "    <tr>\n",
       "      <th>2</th>\n",
       "      <td>59.166.0.9</td>\n",
       "      <td>21924</td>\n",
       "      <td>149.171.126.3</td>\n",
       "      <td>80</td>\n",
       "      <td>tcp</td>\n",
       "      <td>FIN</td>\n",
       "      <td>1.495202</td>\n",
       "      <td>1580</td>\n",
       "      <td>10168</td>\n",
       "      <td>31</td>\n",
       "      <td>...</td>\n",
       "      <td>0</td>\n",
       "      <td>4</td>\n",
       "      <td>6</td>\n",
       "      <td>1</td>\n",
       "      <td>1</td>\n",
       "      <td>1</td>\n",
       "      <td>1</td>\n",
       "      <td>1</td>\n",
       "      <td>normal</td>\n",
       "      <td>0</td>\n",
       "    </tr>\n",
       "    <tr>\n",
       "      <th>3</th>\n",
       "      <td>59.166.0.4</td>\n",
       "      <td>54894</td>\n",
       "      <td>149.171.126.2</td>\n",
       "      <td>53</td>\n",
       "      <td>udp</td>\n",
       "      <td>CON</td>\n",
       "      <td>0.000997</td>\n",
       "      <td>130</td>\n",
       "      <td>162</td>\n",
       "      <td>31</td>\n",
       "      <td>...</td>\n",
       "      <td>0</td>\n",
       "      <td>2</td>\n",
       "      <td>1</td>\n",
       "      <td>1</td>\n",
       "      <td>5</td>\n",
       "      <td>1</td>\n",
       "      <td>1</td>\n",
       "      <td>1</td>\n",
       "      <td>normal</td>\n",
       "      <td>0</td>\n",
       "    </tr>\n",
       "    <tr>\n",
       "      <th>4</th>\n",
       "      <td>59.166.0.9</td>\n",
       "      <td>55755</td>\n",
       "      <td>149.171.126.9</td>\n",
       "      <td>80</td>\n",
       "      <td>tcp</td>\n",
       "      <td>FIN</td>\n",
       "      <td>1.109873</td>\n",
       "      <td>1684</td>\n",
       "      <td>10168</td>\n",
       "      <td>31</td>\n",
       "      <td>...</td>\n",
       "      <td>0</td>\n",
       "      <td>1</td>\n",
       "      <td>1</td>\n",
       "      <td>3</td>\n",
       "      <td>1</td>\n",
       "      <td>1</td>\n",
       "      <td>1</td>\n",
       "      <td>1</td>\n",
       "      <td>normal</td>\n",
       "      <td>0</td>\n",
       "    </tr>\n",
       "    <tr>\n",
       "      <th>...</th>\n",
       "      <td>...</td>\n",
       "      <td>...</td>\n",
       "      <td>...</td>\n",
       "      <td>...</td>\n",
       "      <td>...</td>\n",
       "      <td>...</td>\n",
       "      <td>...</td>\n",
       "      <td>...</td>\n",
       "      <td>...</td>\n",
       "      <td>...</td>\n",
       "      <td>...</td>\n",
       "      <td>...</td>\n",
       "      <td>...</td>\n",
       "      <td>...</td>\n",
       "      <td>...</td>\n",
       "      <td>...</td>\n",
       "      <td>...</td>\n",
       "      <td>...</td>\n",
       "      <td>...</td>\n",
       "      <td>...</td>\n",
       "      <td>...</td>\n",
       "    </tr>\n",
       "    <tr>\n",
       "      <th>199395</th>\n",
       "      <td>59.166.0.5</td>\n",
       "      <td>59617</td>\n",
       "      <td>149.171.126.0</td>\n",
       "      <td>27547</td>\n",
       "      <td>tcp</td>\n",
       "      <td>FIN</td>\n",
       "      <td>0.223467</td>\n",
       "      <td>424</td>\n",
       "      <td>8824</td>\n",
       "      <td>31</td>\n",
       "      <td>...</td>\n",
       "      <td>0</td>\n",
       "      <td>2</td>\n",
       "      <td>2</td>\n",
       "      <td>4</td>\n",
       "      <td>5</td>\n",
       "      <td>1</td>\n",
       "      <td>1</td>\n",
       "      <td>4</td>\n",
       "      <td>normal</td>\n",
       "      <td>0</td>\n",
       "    </tr>\n",
       "    <tr>\n",
       "      <th>199396</th>\n",
       "      <td>59.166.0.0</td>\n",
       "      <td>22370</td>\n",
       "      <td>149.171.126.1</td>\n",
       "      <td>21093</td>\n",
       "      <td>tcp</td>\n",
       "      <td>FIN</td>\n",
       "      <td>0.004724</td>\n",
       "      <td>4016</td>\n",
       "      <td>2456</td>\n",
       "      <td>31</td>\n",
       "      <td>...</td>\n",
       "      <td>0</td>\n",
       "      <td>6</td>\n",
       "      <td>12</td>\n",
       "      <td>5</td>\n",
       "      <td>7</td>\n",
       "      <td>1</td>\n",
       "      <td>1</td>\n",
       "      <td>3</td>\n",
       "      <td>normal</td>\n",
       "      <td>0</td>\n",
       "    </tr>\n",
       "    <tr>\n",
       "      <th>199397</th>\n",
       "      <td>59.166.0.3</td>\n",
       "      <td>23455</td>\n",
       "      <td>149.171.126.3</td>\n",
       "      <td>80</td>\n",
       "      <td>tcp</td>\n",
       "      <td>FIN</td>\n",
       "      <td>0.015011</td>\n",
       "      <td>1040</td>\n",
       "      <td>824</td>\n",
       "      <td>31</td>\n",
       "      <td>...</td>\n",
       "      <td>0</td>\n",
       "      <td>2</td>\n",
       "      <td>1</td>\n",
       "      <td>3</td>\n",
       "      <td>9</td>\n",
       "      <td>1</td>\n",
       "      <td>1</td>\n",
       "      <td>1</td>\n",
       "      <td>normal</td>\n",
       "      <td>0</td>\n",
       "    </tr>\n",
       "    <tr>\n",
       "      <th>199398</th>\n",
       "      <td>59.166.0.2</td>\n",
       "      <td>60368</td>\n",
       "      <td>149.171.126.5</td>\n",
       "      <td>64659</td>\n",
       "      <td>tcp</td>\n",
       "      <td>FIN</td>\n",
       "      <td>0.017999</td>\n",
       "      <td>2854</td>\n",
       "      <td>30470</td>\n",
       "      <td>31</td>\n",
       "      <td>...</td>\n",
       "      <td>0</td>\n",
       "      <td>5</td>\n",
       "      <td>1</td>\n",
       "      <td>1</td>\n",
       "      <td>2</td>\n",
       "      <td>1</td>\n",
       "      <td>1</td>\n",
       "      <td>1</td>\n",
       "      <td>normal</td>\n",
       "      <td>0</td>\n",
       "    </tr>\n",
       "    <tr>\n",
       "      <th>199399</th>\n",
       "      <td>59.166.0.5</td>\n",
       "      <td>33109</td>\n",
       "      <td>149.171.126.6</td>\n",
       "      <td>53</td>\n",
       "      <td>udp</td>\n",
       "      <td>CON</td>\n",
       "      <td>0.001053</td>\n",
       "      <td>146</td>\n",
       "      <td>178</td>\n",
       "      <td>31</td>\n",
       "      <td>...</td>\n",
       "      <td>0</td>\n",
       "      <td>2</td>\n",
       "      <td>3</td>\n",
       "      <td>2</td>\n",
       "      <td>2</td>\n",
       "      <td>2</td>\n",
       "      <td>1</td>\n",
       "      <td>1</td>\n",
       "      <td>normal</td>\n",
       "      <td>0</td>\n",
       "    </tr>\n",
       "  </tbody>\n",
       "</table>\n",
       "<p>199400 rows × 49 columns</p>\n",
       "</div>"
      ],
      "text/plain": [
       "                 srcip  sport          dstip  dsport proto state       dur  \\\n",
       "0       149.171.126.15  47439   175.45.176.3      53   udp   INT  0.000006   \n",
       "1           59.166.0.3  23618  149.171.126.6      80   tcp   FIN  1.130097   \n",
       "2           59.166.0.9  21924  149.171.126.3      80   tcp   FIN  1.495202   \n",
       "3           59.166.0.4  54894  149.171.126.2      53   udp   CON  0.000997   \n",
       "4           59.166.0.9  55755  149.171.126.9      80   tcp   FIN  1.109873   \n",
       "...                ...    ...            ...     ...   ...   ...       ...   \n",
       "199395      59.166.0.5  59617  149.171.126.0   27547   tcp   FIN  0.223467   \n",
       "199396      59.166.0.0  22370  149.171.126.1   21093   tcp   FIN  0.004724   \n",
       "199397      59.166.0.3  23455  149.171.126.3      80   tcp   FIN  0.015011   \n",
       "199398      59.166.0.2  60368  149.171.126.5   64659   tcp   FIN  0.017999   \n",
       "199399      59.166.0.5  33109  149.171.126.6      53   udp   CON  0.001053   \n",
       "\n",
       "        sbytes  dbytes  sttl  ...  ct_ftp_cmd  ct_srv_src  ct_srv_dst  \\\n",
       "0          264       0    60  ...           0          15          15   \n",
       "1         1684   10168    31  ...           0           4           2   \n",
       "2         1580   10168    31  ...           0           4           6   \n",
       "3          130     162    31  ...           0           2           1   \n",
       "4         1684   10168    31  ...           0           1           1   \n",
       "...        ...     ...   ...  ...         ...         ...         ...   \n",
       "199395     424    8824    31  ...           0           2           2   \n",
       "199396    4016    2456    31  ...           0           6          12   \n",
       "199397    1040     824    31  ...           0           2           1   \n",
       "199398    2854   30470    31  ...           0           5           1   \n",
       "199399     146     178    31  ...           0           2           3   \n",
       "\n",
       "       ct_dst_ltm  ct_src_ltm  ct_src_dport_ltm  ct_dst_sport_ltm  \\\n",
       "0               8           8                 8                 8   \n",
       "1               3           4                 2                 1   \n",
       "2               1           1                 1                 1   \n",
       "3               1           5                 1                 1   \n",
       "4               3           1                 1                 1   \n",
       "...           ...         ...               ...               ...   \n",
       "199395          4           5                 1                 1   \n",
       "199396          5           7                 1                 1   \n",
       "199397          3           9                 1                 1   \n",
       "199398          1           2                 1                 1   \n",
       "199399          2           2                 2                 1   \n",
       "\n",
       "        ct_dst_src_ltm  attack_cat  label  \n",
       "0                   15      normal      0  \n",
       "1                    1      normal      0  \n",
       "2                    1      normal      0  \n",
       "3                    1      normal      0  \n",
       "4                    1      normal      0  \n",
       "...                ...         ...    ...  \n",
       "199395               4      normal      0  \n",
       "199396               3      normal      0  \n",
       "199397               1      normal      0  \n",
       "199398               1      normal      0  \n",
       "199399               1      normal      0  \n",
       "\n",
       "[199400 rows x 49 columns]"
      ]
     },
     "execution_count": 228,
     "metadata": {},
     "output_type": "execute_result"
    }
   ],
   "source": [
    "df_UNSW = df_unsw[(df_unsw.label == 0) & ((df_unsw.proto == 'udp') | (df_unsw.proto == 'tcp') | (df_unsw.proto == 'arp') | (df_unsw.proto == 'icmp')) & (df_unsw.dur != 0)].reset_index(drop = 'true')\n",
    "df_UNSW = df_UNSW.sample(n = 199400).reset_index(drop = 'true')\n",
    "df_UNSW"
   ]
  },
  {
   "cell_type": "markdown",
   "metadata": {},
   "source": [
    "2 Tomando caracteríticas comunes en la submuestra de la base de datos UNSW-NB15 y agregando nuevas "
   ]
  },
  {
   "cell_type": "code",
   "execution_count": 229,
   "metadata": {},
   "outputs": [
    {
     "data": {
      "text/plain": [
       "Index(['stime', 'proto', 'proto_number', 'saddr', 'sport', 'daddr', 'dport',\n",
       "       'pkts', 'bytes', 'state', 'state_number', 'ltime', 'dur', 'spkts',\n",
       "       'dpkts', 'sbytes', 'dbytes', 'label'],\n",
       "      dtype='object')"
      ]
     },
     "execution_count": 229,
     "metadata": {},
     "output_type": "execute_result"
    }
   ],
   "source": [
    "df_UNSW = df_UNSW[['stime','proto','srcip', 'sport', 'dstip', 'dsport','state','ltime','dur','spkts', 'dpkts','sbytes','dbytes','label']]\n",
    "\n",
    "encoder = OrdinalEncoder(categories=[df_UNSW.proto.unique()],dtype=np.int64)\n",
    "df_UNSW.insert(2,'proto_number',encoder.fit_transform(df_UNSW[['proto']]))\n",
    "\n",
    "df_UNSW.insert(7,'pkts',df_UNSW.spkts + df_UNSW.dpkts)\n",
    "df_UNSW.insert(8,'bytes',df_UNSW.sbytes + df_UNSW.dbytes)\n",
    "\n",
    "encoder = OrdinalEncoder(categories=[df_UNSW.state.unique()],dtype=np.int64)\n",
    "df_UNSW.insert(10,'state_number',encoder.fit_transform(df_UNSW[['state']]))\n",
    "\n",
    "df_UNSW = df_UNSW.rename(columns={'srcip':'saddr','dstip':'daddr','dsport':'dport'})\n",
    "df_UNSW.columns\n"
   ]
  },
  {
   "cell_type": "markdown",
   "metadata": {},
   "source": [
    "3. Calculando de la submuestra 12 características nuevas"
   ]
  },
  {
   "cell_type": "code",
   "execution_count": 199,
   "metadata": {},
   "outputs": [],
   "source": [
    "def calcule_feature(df_features):\n",
    "    dict = df_features[['saddr', 'bytes']].groupby(\"saddr\").sum().T.to_dict('records')\n",
    "    df_features['TnBPSrcIP'] = df_features['saddr'].map(dict[0], na_action = 'ignore')\n",
    "\n",
    "    dict = df_features[['daddr', 'bytes']].groupby(\"daddr\").sum().T.to_dict('records')\n",
    "    df_features['TnBPDstIP'] = df_features['daddr'].map(dict[0], na_action = 'ignore')\n",
    "\n",
    "    dict = df_features[['saddr', 'pkts']].groupby(\"saddr\").sum().T.to_dict('records')\n",
    "    df_features['TnP_PSrcIP'] = df_features['saddr'].map(dict[0], na_action = 'ignore')\n",
    "\n",
    "    dict = df_features[['daddr', 'pkts']].groupby(\"daddr\").sum().T.to_dict('records')\n",
    "    df_features['TnP_PDstIP'] = df_features['daddr'].map(dict[0], na_action = 'ignore')\n",
    "\n",
    "    dict = df_features[['proto', 'pkts']].groupby(\"proto\").sum().T.to_dict('records')\n",
    "    df_features['TnP_PerProto'] = df_features['proto'].map(dict[0], na_action = 'ignore')\n",
    "\n",
    "    dict = df_features[['dport', 'pkts']].groupby(\"dport\").sum().T.to_dict('records')\n",
    "    df_features['TnP_Per_Dport'] = df_features['dport'].map(dict[0], na_action = 'ignore')\n",
    "\n",
    "    dict = df_features[['saddr','proto','pkts','dur']].groupby(['saddr','proto']).sum().reset_index()\n",
    "    dict['AR_P_Proto_P_SrcIP'] = dict.pkts / dict.dur\n",
    "    dict['key'] = dict.apply(lambda row: row.saddr + row.proto, axis = 1)\n",
    "    dict = dict[['key','AR_P_Proto_P_SrcIP']].set_index('key').T.to_dict('records')\n",
    "    df_features['AR_P_Proto_P_SrcIP'] = df_features.apply(lambda row: row.saddr + row.proto, axis = 1).map(dict[0], na_action = 'ignore')\n",
    "\n",
    "    dict = df_features[['daddr','proto','pkts','dur']].groupby(['daddr','proto']).sum().reset_index()\n",
    "    dict['AR_P_Proto_P_DstIP'] = dict.pkts / dict.dur\n",
    "    dict['key'] = dict.apply(lambda row: row.daddr + row.proto, axis = 1)\n",
    "    dict = dict[['key','AR_P_Proto_P_DstIP']].set_index('key').T.to_dict('records')\n",
    "    df_features['AR_P_Proto_P_DstIP'] = df_features.apply(lambda row: row.daddr + row.proto, axis = 1).map(dict[0], na_action = 'ignore')\n",
    "\n",
    "    dict = df_features.daddr.value_counts().to_dict()\n",
    "    df_features['N_IN_Conn_P_DstIP'] = df_features['daddr'].map(dict, na_action = 'ignore')\n",
    "\n",
    "    dict = df_features.saddr.value_counts().to_dict()\n",
    "    df_features['N_IN_Conn_P_SrcIP'] = df_features['saddr'].map(dict, na_action = 'ignore')\n",
    "\n",
    "    dict = df_features[['sport','proto','pkts','dur']].groupby(['sport','proto']).sum().reset_index()\n",
    "    dict['AR_P_Proto_P_Sport'] = dict.pkts / dict.dur\n",
    "    dict['key'] = dict.apply(lambda row: str(row.sport) + row.proto, axis = 1)\n",
    "    dict = dict[['key','AR_P_Proto_P_Sport']].set_index('key').T.to_dict('records')\n",
    "    df_features['AR_P_Proto_P_Sport'] = df_features.apply(lambda row: str(row.sport) + row.proto, axis = 1).map(dict[0], na_action = 'ignore')\n",
    "\n",
    "    dict = df_features[['dport','proto','pkts','dur']].groupby(['dport','proto']).sum().reset_index()\n",
    "    dict['AR_P_Proto_P_Dport'] = dict.pkts / dict.dur\n",
    "    dict['key'] = dict.apply(lambda row: str(row.dport) + row.proto, axis = 1)\n",
    "    dict = dict[['key','AR_P_Proto_P_Dport']].set_index('key').T.to_dict('records')\n",
    "    df_features['AR_P_Proto_P_Dport'] = df_features.apply(lambda row: str(row.dport) + row.proto, axis = 1).map(dict[0], na_action = 'ignore')"
   ]
  },
  {
   "cell_type": "code",
   "execution_count": 230,
   "metadata": {},
   "outputs": [],
   "source": [
    "n = 199400\n",
    "df_complete_UNSW = pd.DataFrame()\n",
    "\n",
    "for i in range (0,int(n/100)):\n",
    "    df_features = df_UNSW.loc[i*100:i*100+99].copy()\n",
    "    calcule_feature(df_features)\n",
    "    df_complete_UNSW = pd.concat([df_complete_UNSW,df_features])"
   ]
  },
  {
   "cell_type": "markdown",
   "metadata": {},
   "source": [
    "4. Organizando columnas de la base de datos"
   ]
  },
  {
   "cell_type": "code",
   "execution_count": 231,
   "metadata": {},
   "outputs": [],
   "source": [
    "df_complete_UNSW['attack'] = df_complete_UNSW.label\n",
    "df_complete_UNSW = df_complete_UNSW.drop(['label'], axis = 1)"
   ]
  },
  {
   "cell_type": "code",
   "execution_count": 232,
   "metadata": {},
   "outputs": [
    {
     "data": {
      "text/plain": [
       "(199357, 30)"
      ]
     },
     "execution_count": 232,
     "metadata": {},
     "output_type": "execute_result"
    }
   ],
   "source": [
    "df_complete_UNSW = df_complete_UNSW.loc[0:199356]\n",
    "df_complete_UNSW.shape"
   ]
  },
  {
   "cell_type": "code",
   "execution_count": 233,
   "metadata": {},
   "outputs": [
    {
     "data": {
      "text/plain": [
       "int64      21\n",
       "float64     5\n",
       "object      4\n",
       "dtype: int64"
      ]
     },
     "execution_count": 233,
     "metadata": {},
     "output_type": "execute_result"
    }
   ],
   "source": [
    "df_complete_UNSW.dtypes.value_counts()"
   ]
  },
  {
   "cell_type": "code",
   "execution_count": 234,
   "metadata": {},
   "outputs": [
    {
     "name": "stdout",
     "output_type": "stream",
     "text": [
      "<class 'pandas.core.frame.DataFrame'>\n",
      "RangeIndex: 199357 entries, 0 to 199356\n",
      "Data columns (total 30 columns):\n",
      " #   Column              Non-Null Count   Dtype  \n",
      "---  ------              --------------   -----  \n",
      " 0   stime               199357 non-null  int64  \n",
      " 1   proto               199357 non-null  object \n",
      " 2   proto_number        199357 non-null  int64  \n",
      " 3   saddr               199357 non-null  object \n",
      " 4   sport               199357 non-null  int64  \n",
      " 5   daddr               199357 non-null  object \n",
      " 6   dport               199357 non-null  int64  \n",
      " 7   pkts                199357 non-null  int64  \n",
      " 8   bytes               199357 non-null  int64  \n",
      " 9   state               199357 non-null  object \n",
      " 10  state_number        199357 non-null  int64  \n",
      " 11  ltime               199357 non-null  int64  \n",
      " 12  dur                 199357 non-null  float64\n",
      " 13  spkts               199357 non-null  int64  \n",
      " 14  dpkts               199357 non-null  int64  \n",
      " 15  sbytes              199357 non-null  int64  \n",
      " 16  dbytes              199357 non-null  int64  \n",
      " 17  TnBPSrcIP           199357 non-null  int64  \n",
      " 18  TnBPDstIP           199357 non-null  int64  \n",
      " 19  TnP_PSrcIP          199357 non-null  int64  \n",
      " 20  TnP_PDstIP          199357 non-null  int64  \n",
      " 21  TnP_PerProto        199357 non-null  int64  \n",
      " 22  TnP_Per_Dport       199357 non-null  int64  \n",
      " 23  AR_P_Proto_P_SrcIP  199357 non-null  float64\n",
      " 24  AR_P_Proto_P_DstIP  199357 non-null  float64\n",
      " 25  N_IN_Conn_P_DstIP   199357 non-null  int64  \n",
      " 26  N_IN_Conn_P_SrcIP   199357 non-null  int64  \n",
      " 27  AR_P_Proto_P_Sport  199357 non-null  float64\n",
      " 28  AR_P_Proto_P_Dport  199357 non-null  float64\n",
      " 29  attack              199357 non-null  int64  \n",
      "dtypes: float64(5), int64(21), object(4)\n",
      "memory usage: 45.6+ MB\n"
     ]
    }
   ],
   "source": [
    "df_complete_UNSW.info()"
   ]
  },
  {
   "cell_type": "code",
   "execution_count": 235,
   "metadata": {},
   "outputs": [
    {
     "data": {
      "text/html": [
       "<div>\n",
       "<style scoped>\n",
       "    .dataframe tbody tr th:only-of-type {\n",
       "        vertical-align: middle;\n",
       "    }\n",
       "\n",
       "    .dataframe tbody tr th {\n",
       "        vertical-align: top;\n",
       "    }\n",
       "\n",
       "    .dataframe thead th {\n",
       "        text-align: right;\n",
       "    }\n",
       "</style>\n",
       "<table border=\"1\" class=\"dataframe\">\n",
       "  <thead>\n",
       "    <tr style=\"text-align: right;\">\n",
       "      <th></th>\n",
       "      <th>stime</th>\n",
       "      <th>proto</th>\n",
       "      <th>proto_number</th>\n",
       "      <th>saddr</th>\n",
       "      <th>sport</th>\n",
       "      <th>daddr</th>\n",
       "      <th>dport</th>\n",
       "      <th>pkts</th>\n",
       "      <th>bytes</th>\n",
       "      <th>state</th>\n",
       "      <th>...</th>\n",
       "      <th>TnP_PDstIP</th>\n",
       "      <th>TnP_PerProto</th>\n",
       "      <th>TnP_Per_Dport</th>\n",
       "      <th>AR_P_Proto_P_SrcIP</th>\n",
       "      <th>AR_P_Proto_P_DstIP</th>\n",
       "      <th>N_IN_Conn_P_DstIP</th>\n",
       "      <th>N_IN_Conn_P_SrcIP</th>\n",
       "      <th>AR_P_Proto_P_Sport</th>\n",
       "      <th>AR_P_Proto_P_Dport</th>\n",
       "      <th>attack</th>\n",
       "    </tr>\n",
       "  </thead>\n",
       "  <tbody>\n",
       "    <tr>\n",
       "      <th>0</th>\n",
       "      <td>1424245639</td>\n",
       "      <td>udp</td>\n",
       "      <td>0</td>\n",
       "      <td>149.171.126.15</td>\n",
       "      <td>47439</td>\n",
       "      <td>175.45.176.3</td>\n",
       "      <td>53</td>\n",
       "      <td>2</td>\n",
       "      <td>264</td>\n",
       "      <td>INT</td>\n",
       "      <td>...</td>\n",
       "      <td>22</td>\n",
       "      <td>196</td>\n",
       "      <td>106</td>\n",
       "      <td>3.043478e+05</td>\n",
       "      <td>297297.297297</td>\n",
       "      <td>11</td>\n",
       "      <td>7</td>\n",
       "      <td>327272.727273</td>\n",
       "      <td>4282.136220</td>\n",
       "      <td>0</td>\n",
       "    </tr>\n",
       "    <tr>\n",
       "      <th>1</th>\n",
       "      <td>1421938396</td>\n",
       "      <td>tcp</td>\n",
       "      <td>1</td>\n",
       "      <td>59.166.0.3</td>\n",
       "      <td>23618</td>\n",
       "      <td>149.171.126.6</td>\n",
       "      <td>80</td>\n",
       "      <td>32</td>\n",
       "      <td>11852</td>\n",
       "      <td>FIN</td>\n",
       "      <td>...</td>\n",
       "      <td>126</td>\n",
       "      <td>6986</td>\n",
       "      <td>2420</td>\n",
       "      <td>5.301379e+01</td>\n",
       "      <td>29.880769</td>\n",
       "      <td>9</td>\n",
       "      <td>11</td>\n",
       "      <td>28.316153</td>\n",
       "      <td>33.295351</td>\n",
       "      <td>0</td>\n",
       "    </tr>\n",
       "    <tr>\n",
       "      <th>2</th>\n",
       "      <td>1421933807</td>\n",
       "      <td>tcp</td>\n",
       "      <td>1</td>\n",
       "      <td>59.166.0.9</td>\n",
       "      <td>21924</td>\n",
       "      <td>149.171.126.3</td>\n",
       "      <td>80</td>\n",
       "      <td>30</td>\n",
       "      <td>11748</td>\n",
       "      <td>FIN</td>\n",
       "      <td>...</td>\n",
       "      <td>340</td>\n",
       "      <td>6986</td>\n",
       "      <td>2420</td>\n",
       "      <td>5.474370e+01</td>\n",
       "      <td>108.897550</td>\n",
       "      <td>9</td>\n",
       "      <td>12</td>\n",
       "      <td>20.064179</td>\n",
       "      <td>33.295351</td>\n",
       "      <td>0</td>\n",
       "    </tr>\n",
       "    <tr>\n",
       "      <th>3</th>\n",
       "      <td>1421930087</td>\n",
       "      <td>udp</td>\n",
       "      <td>0</td>\n",
       "      <td>59.166.0.4</td>\n",
       "      <td>54894</td>\n",
       "      <td>149.171.126.2</td>\n",
       "      <td>53</td>\n",
       "      <td>4</td>\n",
       "      <td>292</td>\n",
       "      <td>CON</td>\n",
       "      <td>...</td>\n",
       "      <td>322</td>\n",
       "      <td>196</td>\n",
       "      <td>106</td>\n",
       "      <td>4.012036e+03</td>\n",
       "      <td>42.745090</td>\n",
       "      <td>8</td>\n",
       "      <td>6</td>\n",
       "      <td>4012.036108</td>\n",
       "      <td>4282.136220</td>\n",
       "      <td>0</td>\n",
       "    </tr>\n",
       "    <tr>\n",
       "      <th>4</th>\n",
       "      <td>1421962439</td>\n",
       "      <td>tcp</td>\n",
       "      <td>1</td>\n",
       "      <td>59.166.0.9</td>\n",
       "      <td>55755</td>\n",
       "      <td>149.171.126.9</td>\n",
       "      <td>80</td>\n",
       "      <td>32</td>\n",
       "      <td>11852</td>\n",
       "      <td>FIN</td>\n",
       "      <td>...</td>\n",
       "      <td>722</td>\n",
       "      <td>6986</td>\n",
       "      <td>2420</td>\n",
       "      <td>5.474370e+01</td>\n",
       "      <td>245.071771</td>\n",
       "      <td>7</td>\n",
       "      <td>12</td>\n",
       "      <td>28.832128</td>\n",
       "      <td>33.295351</td>\n",
       "      <td>0</td>\n",
       "    </tr>\n",
       "    <tr>\n",
       "      <th>...</th>\n",
       "      <td>...</td>\n",
       "      <td>...</td>\n",
       "      <td>...</td>\n",
       "      <td>...</td>\n",
       "      <td>...</td>\n",
       "      <td>...</td>\n",
       "      <td>...</td>\n",
       "      <td>...</td>\n",
       "      <td>...</td>\n",
       "      <td>...</td>\n",
       "      <td>...</td>\n",
       "      <td>...</td>\n",
       "      <td>...</td>\n",
       "      <td>...</td>\n",
       "      <td>...</td>\n",
       "      <td>...</td>\n",
       "      <td>...</td>\n",
       "      <td>...</td>\n",
       "      <td>...</td>\n",
       "      <td>...</td>\n",
       "      <td>...</td>\n",
       "    </tr>\n",
       "    <tr>\n",
       "      <th>199352</th>\n",
       "      <td>1424247908</td>\n",
       "      <td>udp</td>\n",
       "      <td>0</td>\n",
       "      <td>149.171.126.15</td>\n",
       "      <td>47439</td>\n",
       "      <td>175.45.176.3</td>\n",
       "      <td>53</td>\n",
       "      <td>2</td>\n",
       "      <td>264</td>\n",
       "      <td>INT</td>\n",
       "      <td>...</td>\n",
       "      <td>6</td>\n",
       "      <td>154</td>\n",
       "      <td>114</td>\n",
       "      <td>2.000000e+06</td>\n",
       "      <td>857142.857143</td>\n",
       "      <td>3</td>\n",
       "      <td>1</td>\n",
       "      <td>583333.333333</td>\n",
       "      <td>4776.269482</td>\n",
       "      <td>0</td>\n",
       "    </tr>\n",
       "    <tr>\n",
       "      <th>199353</th>\n",
       "      <td>1424227657</td>\n",
       "      <td>tcp</td>\n",
       "      <td>1</td>\n",
       "      <td>59.166.0.5</td>\n",
       "      <td>28298</td>\n",
       "      <td>149.171.126.8</td>\n",
       "      <td>65497</td>\n",
       "      <td>158</td>\n",
       "      <td>71930</td>\n",
       "      <td>FIN</td>\n",
       "      <td>...</td>\n",
       "      <td>538</td>\n",
       "      <td>6287</td>\n",
       "      <td>158</td>\n",
       "      <td>6.326434e+02</td>\n",
       "      <td>389.802411</td>\n",
       "      <td>11</td>\n",
       "      <td>12</td>\n",
       "      <td>696.271422</td>\n",
       "      <td>696.271422</td>\n",
       "      <td>0</td>\n",
       "    </tr>\n",
       "    <tr>\n",
       "      <th>199354</th>\n",
       "      <td>1421935977</td>\n",
       "      <td>tcp</td>\n",
       "      <td>1</td>\n",
       "      <td>59.166.0.1</td>\n",
       "      <td>31740</td>\n",
       "      <td>149.171.126.3</td>\n",
       "      <td>6881</td>\n",
       "      <td>1257</td>\n",
       "      <td>1080228</td>\n",
       "      <td>FIN</td>\n",
       "      <td>...</td>\n",
       "      <td>1707</td>\n",
       "      <td>6287</td>\n",
       "      <td>1579</td>\n",
       "      <td>2.792728e+02</td>\n",
       "      <td>283.293458</td>\n",
       "      <td>9</td>\n",
       "      <td>6</td>\n",
       "      <td>226.667943</td>\n",
       "      <td>275.159349</td>\n",
       "      <td>0</td>\n",
       "    </tr>\n",
       "    <tr>\n",
       "      <th>199355</th>\n",
       "      <td>1421964588</td>\n",
       "      <td>tcp</td>\n",
       "      <td>1</td>\n",
       "      <td>59.166.0.2</td>\n",
       "      <td>1228</td>\n",
       "      <td>149.171.126.5</td>\n",
       "      <td>32630</td>\n",
       "      <td>58</td>\n",
       "      <td>7616</td>\n",
       "      <td>FIN</td>\n",
       "      <td>...</td>\n",
       "      <td>510</td>\n",
       "      <td>6287</td>\n",
       "      <td>58</td>\n",
       "      <td>5.492275e+02</td>\n",
       "      <td>135.739299</td>\n",
       "      <td>8</td>\n",
       "      <td>5</td>\n",
       "      <td>98.295588</td>\n",
       "      <td>98.295588</td>\n",
       "      <td>0</td>\n",
       "    </tr>\n",
       "    <tr>\n",
       "      <th>199356</th>\n",
       "      <td>1424261834</td>\n",
       "      <td>tcp</td>\n",
       "      <td>1</td>\n",
       "      <td>59.166.0.4</td>\n",
       "      <td>45546</td>\n",
       "      <td>149.171.126.5</td>\n",
       "      <td>21</td>\n",
       "      <td>106</td>\n",
       "      <td>6676</td>\n",
       "      <td>FIN</td>\n",
       "      <td>...</td>\n",
       "      <td>510</td>\n",
       "      <td>6287</td>\n",
       "      <td>424</td>\n",
       "      <td>6.884220e+01</td>\n",
       "      <td>135.739299</td>\n",
       "      <td>8</td>\n",
       "      <td>11</td>\n",
       "      <td>73.365540</td>\n",
       "      <td>64.317637</td>\n",
       "      <td>0</td>\n",
       "    </tr>\n",
       "  </tbody>\n",
       "</table>\n",
       "<p>199357 rows × 30 columns</p>\n",
       "</div>"
      ],
      "text/plain": [
       "             stime proto  proto_number           saddr  sport          daddr  \\\n",
       "0       1424245639   udp             0  149.171.126.15  47439   175.45.176.3   \n",
       "1       1421938396   tcp             1      59.166.0.3  23618  149.171.126.6   \n",
       "2       1421933807   tcp             1      59.166.0.9  21924  149.171.126.3   \n",
       "3       1421930087   udp             0      59.166.0.4  54894  149.171.126.2   \n",
       "4       1421962439   tcp             1      59.166.0.9  55755  149.171.126.9   \n",
       "...            ...   ...           ...             ...    ...            ...   \n",
       "199352  1424247908   udp             0  149.171.126.15  47439   175.45.176.3   \n",
       "199353  1424227657   tcp             1      59.166.0.5  28298  149.171.126.8   \n",
       "199354  1421935977   tcp             1      59.166.0.1  31740  149.171.126.3   \n",
       "199355  1421964588   tcp             1      59.166.0.2   1228  149.171.126.5   \n",
       "199356  1424261834   tcp             1      59.166.0.4  45546  149.171.126.5   \n",
       "\n",
       "        dport  pkts    bytes state  ...  TnP_PDstIP  TnP_PerProto  \\\n",
       "0          53     2      264   INT  ...          22           196   \n",
       "1          80    32    11852   FIN  ...         126          6986   \n",
       "2          80    30    11748   FIN  ...         340          6986   \n",
       "3          53     4      292   CON  ...         322           196   \n",
       "4          80    32    11852   FIN  ...         722          6986   \n",
       "...       ...   ...      ...   ...  ...         ...           ...   \n",
       "199352     53     2      264   INT  ...           6           154   \n",
       "199353  65497   158    71930   FIN  ...         538          6287   \n",
       "199354   6881  1257  1080228   FIN  ...        1707          6287   \n",
       "199355  32630    58     7616   FIN  ...         510          6287   \n",
       "199356     21   106     6676   FIN  ...         510          6287   \n",
       "\n",
       "        TnP_Per_Dport  AR_P_Proto_P_SrcIP  AR_P_Proto_P_DstIP  \\\n",
       "0                 106        3.043478e+05       297297.297297   \n",
       "1                2420        5.301379e+01           29.880769   \n",
       "2                2420        5.474370e+01          108.897550   \n",
       "3                 106        4.012036e+03           42.745090   \n",
       "4                2420        5.474370e+01          245.071771   \n",
       "...               ...                 ...                 ...   \n",
       "199352            114        2.000000e+06       857142.857143   \n",
       "199353            158        6.326434e+02          389.802411   \n",
       "199354           1579        2.792728e+02          283.293458   \n",
       "199355             58        5.492275e+02          135.739299   \n",
       "199356            424        6.884220e+01          135.739299   \n",
       "\n",
       "        N_IN_Conn_P_DstIP  N_IN_Conn_P_SrcIP  AR_P_Proto_P_Sport  \\\n",
       "0                      11                  7       327272.727273   \n",
       "1                       9                 11           28.316153   \n",
       "2                       9                 12           20.064179   \n",
       "3                       8                  6         4012.036108   \n",
       "4                       7                 12           28.832128   \n",
       "...                   ...                ...                 ...   \n",
       "199352                  3                  1       583333.333333   \n",
       "199353                 11                 12          696.271422   \n",
       "199354                  9                  6          226.667943   \n",
       "199355                  8                  5           98.295588   \n",
       "199356                  8                 11           73.365540   \n",
       "\n",
       "        AR_P_Proto_P_Dport  attack  \n",
       "0              4282.136220       0  \n",
       "1                33.295351       0  \n",
       "2                33.295351       0  \n",
       "3              4282.136220       0  \n",
       "4                33.295351       0  \n",
       "...                    ...     ...  \n",
       "199352         4776.269482       0  \n",
       "199353          696.271422       0  \n",
       "199354          275.159349       0  \n",
       "199355           98.295588       0  \n",
       "199356           64.317637       0  \n",
       "\n",
       "[199357 rows x 30 columns]"
      ]
     },
     "execution_count": 235,
     "metadata": {},
     "output_type": "execute_result"
    }
   ],
   "source": [
    "df_complete_UNSW"
   ]
  },
  {
   "cell_type": "code",
   "execution_count": 237,
   "metadata": {},
   "outputs": [],
   "source": [
    "df_complete_UNSW.to_csv('./UNSW_Submuestra.csv',index = False)"
   ]
  },
  {
   "cell_type": "markdown",
   "metadata": {},
   "source": [
    "<h1> Unir bases de datos </h1>"
   ]
  },
  {
   "cell_type": "code",
   "execution_count": 2,
   "metadata": {},
   "outputs": [
    {
     "ename": "NameError",
     "evalue": "name 'df_BOT_IOT' is not defined",
     "output_type": "error",
     "traceback": [
      "\u001b[1;31m---------------------------------------------------------------------------\u001b[0m",
      "\u001b[1;31mNameError\u001b[0m                                 Traceback (most recent call last)",
      "\u001b[1;32md:\\Proyecto Seguridad Ciudadana\\On-Drive-Trabajo de Grado Katherine\\Avances Trabajo de Grado Katherine\\Desarrollo Machine Learning\\Base de datos BOT-IOT __UNSW-NB15\\1_Exploracion_BD.ipynb Celda 95\u001b[0m in \u001b[0;36m<cell line: 1>\u001b[1;34m()\u001b[0m\n\u001b[1;32m----> <a href='vscode-notebook-cell:/d%3A/Proyecto%20Seguridad%20Ciudadana/On-Drive-Trabajo%20de%20Grado%20Katherine/Avances%20Trabajo%20de%20Grado%20Katherine/Desarrollo%20Machine%20Learning/Base%20de%20datos%20BOT-IOT%20__UNSW-NB15/1_Exploracion_BD.ipynb#ch0000094?line=0'>1</a>\u001b[0m data \u001b[39m=\u001b[39m pd\u001b[39m.\u001b[39mconcat([df_BOT_IOT,df_complete_UNSW])\u001b[39m.\u001b[39mreset_index(drop \u001b[39m=\u001b[39m \u001b[39m'\u001b[39m\u001b[39mtrue\u001b[39m\u001b[39m'\u001b[39m)\n",
      "\u001b[1;31mNameError\u001b[0m: name 'df_BOT_IOT' is not defined"
     ]
    }
   ],
   "source": [
    "data = pd.concat([df_BOT_IOT,df_complete_UNSW]).reset_index(drop = 'true')"
   ]
  },
  {
   "cell_type": "markdown",
   "metadata": {},
   "source": [
    "1. Recalculando 'proto_number' y 'state_number'"
   ]
  },
  {
   "cell_type": "code",
   "execution_count": 250,
   "metadata": {},
   "outputs": [],
   "source": [
    "encoder = OrdinalEncoder(categories=[data.proto.unique()],dtype=np.int64)\n",
    "data.proto_number = encoder.fit_transform(data[['proto']])\n",
    "\n",
    "encoder = OrdinalEncoder(categories=[data.state.unique()],dtype=np.int64)\n",
    "data.state_number = encoder.fit_transform(data[['state']])"
   ]
  },
  {
   "cell_type": "code",
   "execution_count": 4,
   "metadata": {},
   "outputs": [
    {
     "ename": "NameError",
     "evalue": "name 'data' is not defined",
     "output_type": "error",
     "traceback": [
      "\u001b[1;31m---------------------------------------------------------------------------\u001b[0m",
      "\u001b[1;31mNameError\u001b[0m                                 Traceback (most recent call last)",
      "\u001b[1;32md:\\Proyecto Seguridad Ciudadana\\On-Drive-Trabajo de Grado Katherine\\Avances Trabajo de Grado Katherine\\Desarrollo Machine Learning\\Base de datos BOT-IOT __UNSW-NB15\\1_Exploracion_BD.ipynb Celda 98\u001b[0m in \u001b[0;36m<cell line: 1>\u001b[1;34m()\u001b[0m\n\u001b[1;32m----> <a href='vscode-notebook-cell:/d%3A/Proyecto%20Seguridad%20Ciudadana/On-Drive-Trabajo%20de%20Grado%20Katherine/Avances%20Trabajo%20de%20Grado%20Katherine/Desarrollo%20Machine%20Learning/Base%20de%20datos%20BOT-IOT%20__UNSW-NB15/1_Exploracion_BD.ipynb#ch0000097?line=0'>1</a>\u001b[0m data\u001b[39m.\u001b[39mto_csv(\u001b[39m'\u001b[39m\u001b[39m./BOT_IOT_UNSW.csv\u001b[39m\u001b[39m'\u001b[39m,index \u001b[39m=\u001b[39m \u001b[39mFalse\u001b[39;00m)\n",
      "\u001b[1;31mNameError\u001b[0m: name 'data' is not defined"
     ]
    }
   ],
   "source": [
    "data.to_csv('./BOT_IOT_UNSW.csv',index = False)"
   ]
  },
  {
   "cell_type": "code",
   "execution_count": 252,
   "metadata": {},
   "outputs": [
    {
     "data": {
      "text/plain": [
       "(400000, 30)"
      ]
     },
     "execution_count": 252,
     "metadata": {},
     "output_type": "execute_result"
    }
   ],
   "source": [
    "data.shape"
   ]
  },
  {
   "cell_type": "markdown",
   "metadata": {},
   "source": [
    "2. Clases equilibradas"
   ]
  },
  {
   "cell_type": "code",
   "execution_count": 254,
   "metadata": {},
   "outputs": [
    {
     "data": {
      "image/png": "[encoded data removed]",
      "text/plain": [
       "<Figure size 432x288 with 1 Axes>"
      ]
     },
     "metadata": {
      "needs_background": "light"
     },
     "output_type": "display_data"
    }
   ],
   "source": [
    "plt.figure()\n",
    "plt.title(\"Distribución de las clases\")\n",
    "data['attack'].value_counts().plot(kind=\"bar\", color='b')\n",
    "plt.xlabel(\"Clase\")\n",
    "plt.ylabel(\"Cantidad\")\n",
    "plt.legend()\n",
    "plt.show()"
   ]
  },
  {
   "cell_type": "code",
   "execution_count": 5,
   "metadata": {},
   "outputs": [],
   "source": [
    "datos_unidos = pd.read_csv('./BOT_IOT_UNSW.csv')"
   ]
  },
  {
   "cell_type": "code",
   "execution_count": null,
   "metadata": {},
   "outputs": [],
   "source": []
  },
  {
   "cell_type": "code",
   "execution_count": 38,
   "metadata": {},
   "outputs": [
    {
     "data": {
      "text/plain": [
       "stime                 float64\n",
       "proto                  object\n",
       "proto_number            int64\n",
       "saddr                  object\n",
       "sport                   int64\n",
       "daddr                  object\n",
       "dport                   int64\n",
       "pkts                    int64\n",
       "bytes                   int64\n",
       "state                  object\n",
       "state_number            int64\n",
       "ltime                 float64\n",
       "dur                   float64\n",
       "spkts                   int64\n",
       "dpkts                   int64\n",
       "sbytes                  int64\n",
       "dbytes                  int64\n",
       "TnBPSrcIP               int64\n",
       "TnBPDstIP               int64\n",
       "TnP_PSrcIP              int64\n",
       "TnP_PDstIP              int64\n",
       "TnP_PerProto            int64\n",
       "TnP_Per_Dport           int64\n",
       "AR_P_Proto_P_SrcIP    float64\n",
       "AR_P_Proto_P_DstIP    float64\n",
       "N_IN_Conn_P_DstIP       int64\n",
       "N_IN_Conn_P_SrcIP       int64\n",
       "AR_P_Proto_P_Sport    float64\n",
       "AR_P_Proto_P_Dport    float64\n",
       "attack                  int64\n",
       "dtype: object"
      ]
     },
     "execution_count": 38,
     "metadata": {},
     "output_type": "execute_result"
    }
   ],
   "source": [
    "datos_unidos.dtypes"
   ]
  },
  {
   "cell_type": "code",
   "execution_count": 8,
   "metadata": {},
   "outputs": [
    {
     "data": {
      "text/plain": [
       "tcp          220210\n",
       "udp          178558\n",
       "arp             679\n",
       "icmp            545\n",
       "ipv6-icmp         8\n",
       "Name: proto, dtype: int64"
      ]
     },
     "execution_count": 8,
     "metadata": {},
     "output_type": "execute_result"
    }
   ],
   "source": [
    "datos_unidos.proto.value_counts()"
   ]
  },
  {
   "cell_type": "code",
   "execution_count": 12,
   "metadata": {},
   "outputs": [],
   "source": [
    "encoder = OrdinalEncoder(categories=[datos_unidos.proto.unique()],dtype=np.int64)\n",
    "datos_unidos.proto_number = encoder.fit_transform(datos_unidos[['proto']])"
   ]
  },
  {
   "cell_type": "code",
   "execution_count": 22,
   "metadata": {},
   "outputs": [
    {
     "data": {
      "text/plain": [
       "[array(['arp', 'tcp', 'udp', 'ipv6-icmp', 'icmp'], dtype=object)]"
      ]
     },
     "execution_count": 22,
     "metadata": {},
     "output_type": "execute_result"
    }
   ],
   "source": [
    "encoder.categories_"
   ]
  },
  {
   "cell_type": "code",
   "execution_count": 32,
   "metadata": {},
   "outputs": [
    {
     "data": {
      "text/plain": [
       "array([['arp'],\n",
       "       ['tcp'],\n",
       "       ['udp'],\n",
       "       ['ipv6-icmp'],\n",
       "       ['icmp']], dtype=object)"
      ]
     },
     "execution_count": 32,
     "metadata": {},
     "output_type": "execute_result"
    }
   ],
   "source": [
    "encoder.inverse_transform([[0],[1],[2],[3],[4]])"
   ]
  },
  {
   "cell_type": "code",
   "execution_count": 33,
   "metadata": {},
   "outputs": [],
   "source": [
    "encoder = OrdinalEncoder(categories=[datos_unidos.state.unique()],dtype=np.int64)\n",
    "datos_unidos.state_number = encoder.fit_transform(datos_unidos[['state']])"
   ]
  },
  {
   "cell_type": "code",
   "execution_count": 34,
   "metadata": {},
   "outputs": [
    {
     "data": {
      "text/plain": [
       "[array(['CON', 'INT', 'FIN', 'NRS', 'RST', 'URP', 'REQ', 'ACC', 'TST',\n",
       "        'ECO', 'MAS', 'CLO', 'TXD', 'ECR', 'URN', 'PAR'], dtype=object)]"
      ]
     },
     "execution_count": 34,
     "metadata": {},
     "output_type": "execute_result"
    }
   ],
   "source": [
    "encoder.categories_"
   ]
  },
  {
   "cell_type": "code",
   "execution_count": 37,
   "metadata": {},
   "outputs": [
    {
     "data": {
      "text/plain": [
       "array([['CLO'],\n",
       "       ['TXD'],\n",
       "       ['ECR'],\n",
       "       ['URN'],\n",
       "       ['PAR']], dtype=object)"
      ]
     },
     "execution_count": 37,
     "metadata": {},
     "output_type": "execute_result"
    }
   ],
   "source": [
    "encoder.inverse_transform([[11],[12],[13],[14],[15]])"
   ]
  }
 ],
 "metadata": {
  "kernelspec": {
   "display_name": "Python 3.8.10 64-bit",
   "language": "python",
   "name": "python3"
  },
  "language_info": {
   "codemirror_mode": {
    "name": "ipython",
    "version": 3
   },
   "file_extension": ".py",
   "mimetype": "text/x-python",
   "name": "python",
   "nbconvert_exporter": "python",
   "pygments_lexer": "ipython3",
   "version": "3.8.10"
  },
  "orig_nbformat": 4,
  "vscode": {
   "interpreter": {
    "hash": "916dbcbb3f70747c44a77c7bcd40155683ae19c65e1c03b4aa3499c5328201f1"
   }
  }
 },
 "nbformat": 4,
 "nbformat_minor": 2
}
