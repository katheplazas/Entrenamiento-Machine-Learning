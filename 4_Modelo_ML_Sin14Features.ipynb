{
 "cells": [
  {
   "cell_type": "markdown",
   "metadata": {},
   "source": [
    "<h1> Librerias Necesarias </h1>"
   ]
  },
  {
   "cell_type": "code",
   "execution_count": 1,
   "metadata": {},
   "outputs": [],
   "source": [
    "import pandas as pd\n",
    "import numpy as np\n",
    "from sklearn import metrics\n",
    "import matplotlib.pyplot as plt\n",
    "import seaborn as sns\n",
    "import pickle\n",
    "import time\n",
    "from sklearn.model_selection import GridSearchCV\n",
    "from sklearn.tree import DecisionTreeClassifier\n",
    "from sklearn.ensemble import RandomForestClassifier\n",
    "from sklearn.svm import SVC\n",
    "from sklearn.linear_model import SGDClassifier\n"
   ]
  },
  {
   "cell_type": "markdown",
   "metadata": {},
   "source": [
    "Función para calcular y graficar matriz de confusión"
   ]
  },
  {
   "cell_type": "code",
   "execution_count": 2,
   "metadata": {},
   "outputs": [],
   "source": [
    "def confusion_matrix_graf(y_true, y_pred, dataset = 'Train'):\n",
    "    # Confusion martix of train and test\n",
    "    # Train confusion matrix\n",
    "    labels= ['non-attack', 'attack']\n",
    "    plt.figure(figsize=(16,5))\n",
    "    plt.subplot(1,2,1)\n",
    "    sns.heatmap(metrics.confusion_matrix(y_true, y_pred),\n",
    "                annot=True, cmap=sns.light_palette(\"blue\"), fmt='d',\n",
    "                xticklabels=labels, yticklabels=labels)\n",
    "    plt.xlabel(\"Predicted\")\n",
    "    plt.ylabel(\"Actual\")\n",
    "    plt.title(dataset + \" Confusion Matrix\")\n"
   ]
  },
  {
   "cell_type": "markdown",
   "metadata": {},
   "source": [
    "Función para calcular métricas de rendimiento de los modelos entrenados"
   ]
  },
  {
   "cell_type": "code",
   "execution_count": 3,
   "metadata": {},
   "outputs": [],
   "source": [
    "def metrics_train_test(y_train_true,y_train_pred,y_test_true, y_test_pred, time_train, time_pred, model_clf = 'DT'):\n",
    "        # auc curve\n",
    "        train_fpr, train_tpr, tr_thresholds = metrics.roc_curve(y_train_true, y_train_pred)\n",
    "        test_fpr, test_tpr, te_thresholds = metrics.roc_curve(y_test_true, y_test_pred)\n",
    "\n",
    "        # Scores of train dataset\n",
    "        train_auc = metrics.auc(train_fpr, train_tpr)\n",
    "        train_acc = metrics.accuracy_score(y_train_true, y_train_pred)\n",
    "        train_precision = metrics.precision_score(y_train_true, y_train_pred)\n",
    "        train_precision_avg = metrics.precision_score(y_train_true, y_train_pred, average='macro')\n",
    "        train_recall = metrics.recall_score(y_train_true, y_train_pred)\n",
    "        train_recall_avg = metrics.recall_score(y_train_true, y_train_pred, average='macro')\n",
    "        train_f1 = metrics.f1_score(y_train_true, y_train_pred)\n",
    "        train_f1_avg = metrics.f1_score(y_train_true, y_train_pred, average='macro')\n",
    "\n",
    "        # Scores of test dataset\n",
    "        test_auc = metrics.auc(test_fpr, test_tpr)\n",
    "        test_acc = metrics.accuracy_score(y_test_true, y_test_pred)\n",
    "        test_precision = metrics.precision_score(y_test_true, y_test_pred)\n",
    "        test_precision_avg = metrics.precision_score(y_test_true, y_test_pred, average='macro')\n",
    "        test_recall = metrics.recall_score(y_test_true, y_test_pred)\n",
    "        test_recall_avg = metrics.recall_score(y_test_true, y_test_pred, average='macro')\n",
    "        test_f1 = metrics.f1_score(y_test_true, y_test_pred)\n",
    "        test_f1_avg = metrics.f1_score(y_test_true, y_test_pred, average='macro')\n",
    "\n",
    "        col = ['DataSet','Model','AUC','ACC','Precision','Precision_avg', 'recall', 'recall_avg', 'f1','f1_avg','Time (s)']\n",
    "        data = [['Train', model_clf, train_auc, train_acc,train_precision,train_precision_avg,train_recall,train_recall_avg,train_f1,train_f1_avg,time_train],\n",
    "                ['Test', model_clf, test_auc, test_acc,test_precision,test_precision_avg,test_recall,test_recall_avg,test_f1,test_f1_avg,time_pred]]\n",
    "        df_metrics = pd.DataFrame(data, columns = col)\n",
    "\n",
    "        # Plot AUC curve\n",
    "        plt.figure()\n",
    "        plt.plot(train_fpr, train_tpr, label=f\"Train AUC: {train_auc}\")\n",
    "        plt.plot(test_fpr, test_tpr, label=f\"Test AUC: {test_auc}\")\n",
    "        plt.xlabel('False Positive Rate')\n",
    "        plt.ylabel('True Positive Rate')\n",
    "        plt.grid()\n",
    "        plt.title(\"Train Curve ROC\")\n",
    "        plt.legend()\n",
    "        plt.show()\n",
    "\n",
    "        return df_metrics"
   ]
  },
  {
   "cell_type": "markdown",
   "metadata": {},
   "source": [
    "<h1> Cargando base de datos de entrenamiento y prueba estandarizados </h1>"
   ]
  },
  {
   "cell_type": "code",
   "execution_count": 2,
   "metadata": {},
   "outputs": [],
   "source": [
    "# Train and Test data\n",
    "x_train, y_train = pickle.load(open('final_train_all_stand.pkl', 'rb'))\n",
    "x_test, y_test = pickle.load(open('final_test_all_stand.pkl', 'rb'))"
   ]
  },
  {
   "cell_type": "code",
   "execution_count": null,
   "metadata": {},
   "outputs": [],
   "source": [
    "x_train.to_csv('./x_train.csv',index = False)\n",
    "y_train.to_csv('./y_train.csv',index = False)\n",
    "x_test.to_csv('./x_test.csv',index = False)\n",
    "y_test.to_csv('./y_test.csv',index = False)"
   ]
  },
  {
   "cell_type": "markdown",
   "metadata": {},
   "source": [
    "Eliminado las 12 características calculadas"
   ]
  },
  {
   "cell_type": "code",
   "execution_count": 6,
   "metadata": {},
   "outputs": [],
   "source": [
    "x_train = x_train.iloc[:, 0:11]\n",
    "x_test = x_test.iloc[:, 0:11]"
   ]
  },
  {
   "cell_type": "markdown",
   "metadata": {},
   "source": [
    "<h1> Árboles de decisión </h1>"
   ]
  },
  {
   "cell_type": "code",
   "execution_count": 11,
   "metadata": {},
   "outputs": [
    {
     "name": "stdout",
     "output_type": "stream",
     "text": [
      "Fitting 3 folds for each of 12 candidates, totalling 36 fits\n",
      "[CV 1/3] END max_depth=8, min_samples_split=2; acc: (train=1.000, test=1.000) auc: (train=1.000, test=1.000) f1: (train=1.000, test=1.000) precision: (train=1.000, test=1.000) recall: (train=1.000, test=1.000) total time=   0.7s\n",
      "[CV 2/3] END max_depth=8, min_samples_split=2; acc: (train=1.000, test=1.000) auc: (train=1.000, test=1.000) f1: (train=1.000, test=1.000) precision: (train=1.000, test=1.000) recall: (train=1.000, test=1.000) total time=   0.5s\n",
      "[CV 3/3] END max_depth=8, min_samples_split=2; acc: (train=1.000, test=1.000) auc: (train=1.000, test=1.000) f1: (train=1.000, test=1.000) precision: (train=1.000, test=1.000) recall: (train=1.000, test=1.000) total time=   0.5s\n",
      "[CV 1/3] END max_depth=8, min_samples_split=4; acc: (train=1.000, test=1.000) auc: (train=1.000, test=1.000) f1: (train=1.000, test=1.000) precision: (train=1.000, test=1.000) recall: (train=1.000, test=1.000) total time=   0.6s\n",
      "[CV 2/3] END max_depth=8, min_samples_split=4; acc: (train=1.000, test=1.000) auc: (train=1.000, test=1.000) f1: (train=1.000, test=1.000) precision: (train=1.000, test=1.000) recall: (train=1.000, test=1.000) total time=   0.5s\n",
      "[CV 3/3] END max_depth=8, min_samples_split=4; acc: (train=1.000, test=1.000) auc: (train=1.000, test=1.000) f1: (train=1.000, test=1.000) precision: (train=1.000, test=1.000) recall: (train=1.000, test=1.000) total time=   0.5s\n",
      "[CV 1/3] END max_depth=8, min_samples_split=6; acc: (train=1.000, test=1.000) auc: (train=1.000, test=1.000) f1: (train=1.000, test=1.000) precision: (train=1.000, test=1.000) recall: (train=1.000, test=1.000) total time=   0.7s\n",
      "[CV 2/3] END max_depth=8, min_samples_split=6; acc: (train=1.000, test=1.000) auc: (train=1.000, test=1.000) f1: (train=1.000, test=1.000) precision: (train=1.000, test=1.000) recall: (train=1.000, test=1.000) total time=   0.7s\n",
      "[CV 3/3] END max_depth=8, min_samples_split=6; acc: (train=1.000, test=1.000) auc: (train=1.000, test=1.000) f1: (train=1.000, test=1.000) precision: (train=1.000, test=1.000) recall: (train=1.000, test=1.000) total time=   0.5s\n",
      "[CV 1/3] END max_depth=10, min_samples_split=2; acc: (train=1.000, test=1.000) auc: (train=1.000, test=1.000) f1: (train=1.000, test=1.000) precision: (train=1.000, test=1.000) recall: (train=1.000, test=1.000) total time=   0.5s\n",
      "[CV 2/3] END max_depth=10, min_samples_split=2; acc: (train=1.000, test=1.000) auc: (train=1.000, test=1.000) f1: (train=1.000, test=1.000) precision: (train=1.000, test=1.000) recall: (train=1.000, test=1.000) total time=   0.5s\n",
      "[CV 3/3] END max_depth=10, min_samples_split=2; acc: (train=1.000, test=1.000) auc: (train=1.000, test=1.000) f1: (train=1.000, test=1.000) precision: (train=1.000, test=1.000) recall: (train=1.000, test=1.000) total time=   0.5s\n",
      "[CV 1/3] END max_depth=10, min_samples_split=4; acc: (train=1.000, test=1.000) auc: (train=1.000, test=1.000) f1: (train=1.000, test=1.000) precision: (train=1.000, test=1.000) recall: (train=1.000, test=1.000) total time=   0.6s\n",
      "[CV 2/3] END max_depth=10, min_samples_split=4; acc: (train=1.000, test=1.000) auc: (train=1.000, test=1.000) f1: (train=1.000, test=1.000) precision: (train=1.000, test=1.000) recall: (train=1.000, test=1.000) total time=   0.6s\n",
      "[CV 3/3] END max_depth=10, min_samples_split=4; acc: (train=1.000, test=1.000) auc: (train=1.000, test=1.000) f1: (train=1.000, test=1.000) precision: (train=1.000, test=1.000) recall: (train=1.000, test=1.000) total time=   0.5s\n",
      "[CV 1/3] END max_depth=10, min_samples_split=6; acc: (train=1.000, test=1.000) auc: (train=1.000, test=1.000) f1: (train=1.000, test=1.000) precision: (train=1.000, test=1.000) recall: (train=1.000, test=1.000) total time=   0.6s\n",
      "[CV 2/3] END max_depth=10, min_samples_split=6; acc: (train=1.000, test=1.000) auc: (train=1.000, test=1.000) f1: (train=1.000, test=1.000) precision: (train=1.000, test=1.000) recall: (train=1.000, test=1.000) total time=   0.5s\n",
      "[CV 3/3] END max_depth=10, min_samples_split=6; acc: (train=1.000, test=1.000) auc: (train=1.000, test=1.000) f1: (train=1.000, test=1.000) precision: (train=1.000, test=1.000) recall: (train=1.000, test=1.000) total time=   0.5s\n",
      "[CV 1/3] END max_depth=12, min_samples_split=2; acc: (train=1.000, test=1.000) auc: (train=1.000, test=1.000) f1: (train=1.000, test=1.000) precision: (train=1.000, test=1.000) recall: (train=1.000, test=1.000) total time=   0.6s\n",
      "[CV 2/3] END max_depth=12, min_samples_split=2; acc: (train=1.000, test=1.000) auc: (train=1.000, test=1.000) f1: (train=1.000, test=1.000) precision: (train=1.000, test=1.000) recall: (train=1.000, test=1.000) total time=   0.5s\n",
      "[CV 3/3] END max_depth=12, min_samples_split=2; acc: (train=1.000, test=1.000) auc: (train=1.000, test=1.000) f1: (train=1.000, test=1.000) precision: (train=1.000, test=1.000) recall: (train=1.000, test=1.000) total time=   0.6s\n",
      "[CV 1/3] END max_depth=12, min_samples_split=4; acc: (train=1.000, test=1.000) auc: (train=1.000, test=1.000) f1: (train=1.000, test=1.000) precision: (train=1.000, test=1.000) recall: (train=1.000, test=1.000) total time=   0.6s\n",
      "[CV 2/3] END max_depth=12, min_samples_split=4; acc: (train=1.000, test=1.000) auc: (train=1.000, test=1.000) f1: (train=1.000, test=1.000) precision: (train=1.000, test=1.000) recall: (train=1.000, test=1.000) total time=   0.5s\n",
      "[CV 3/3] END max_depth=12, min_samples_split=4; acc: (train=1.000, test=1.000) auc: (train=1.000, test=1.000) f1: (train=1.000, test=1.000) precision: (train=1.000, test=1.000) recall: (train=1.000, test=1.000) total time=   0.6s\n",
      "[CV 1/3] END max_depth=12, min_samples_split=6; acc: (train=1.000, test=1.000) auc: (train=1.000, test=1.000) f1: (train=1.000, test=1.000) precision: (train=1.000, test=1.000) recall: (train=1.000, test=1.000) total time=   0.6s\n",
      "[CV 2/3] END max_depth=12, min_samples_split=6; acc: (train=1.000, test=1.000) auc: (train=1.000, test=1.000) f1: (train=1.000, test=1.000) precision: (train=1.000, test=1.000) recall: (train=1.000, test=1.000) total time=   0.5s\n",
      "[CV 3/3] END max_depth=12, min_samples_split=6; acc: (train=1.000, test=1.000) auc: (train=1.000, test=1.000) f1: (train=1.000, test=1.000) precision: (train=1.000, test=1.000) recall: (train=1.000, test=1.000) total time=   0.6s\n",
      "[CV 1/3] END max_depth=14, min_samples_split=2; acc: (train=1.000, test=1.000) auc: (train=1.000, test=1.000) f1: (train=1.000, test=1.000) precision: (train=1.000, test=1.000) recall: (train=1.000, test=1.000) total time=   0.5s\n",
      "[CV 2/3] END max_depth=14, min_samples_split=2; acc: (train=1.000, test=1.000) auc: (train=1.000, test=1.000) f1: (train=1.000, test=1.000) precision: (train=1.000, test=1.000) recall: (train=1.000, test=1.000) total time=   0.5s\n",
      "[CV 3/3] END max_depth=14, min_samples_split=2; acc: (train=1.000, test=1.000) auc: (train=1.000, test=1.000) f1: (train=1.000, test=1.000) precision: (train=1.000, test=1.000) recall: (train=1.000, test=1.000) total time=   0.5s\n",
      "[CV 1/3] END max_depth=14, min_samples_split=4; acc: (train=1.000, test=1.000) auc: (train=1.000, test=1.000) f1: (train=1.000, test=1.000) precision: (train=1.000, test=1.000) recall: (train=1.000, test=1.000) total time=   0.6s\n",
      "[CV 2/3] END max_depth=14, min_samples_split=4; acc: (train=1.000, test=1.000) auc: (train=1.000, test=1.000) f1: (train=1.000, test=1.000) precision: (train=1.000, test=1.000) recall: (train=1.000, test=1.000) total time=   0.5s\n",
      "[CV 3/3] END max_depth=14, min_samples_split=4; acc: (train=1.000, test=1.000) auc: (train=1.000, test=1.000) f1: (train=1.000, test=1.000) precision: (train=1.000, test=1.000) recall: (train=1.000, test=1.000) total time=   0.5s\n",
      "[CV 1/3] END max_depth=14, min_samples_split=6; acc: (train=1.000, test=1.000) auc: (train=1.000, test=1.000) f1: (train=1.000, test=1.000) precision: (train=1.000, test=1.000) recall: (train=1.000, test=1.000) total time=   0.6s\n",
      "[CV 2/3] END max_depth=14, min_samples_split=6; acc: (train=1.000, test=1.000) auc: (train=1.000, test=1.000) f1: (train=1.000, test=1.000) precision: (train=1.000, test=1.000) recall: (train=1.000, test=1.000) total time=   0.5s\n",
      "[CV 3/3] END max_depth=14, min_samples_split=6; acc: (train=1.000, test=1.000) auc: (train=1.000, test=1.000) f1: (train=1.000, test=1.000) precision: (train=1.000, test=1.000) recall: (train=1.000, test=1.000) total time=   0.5s\n"
     ]
    }
   ],
   "source": [
    "clf = DecisionTreeClassifier(random_state=0)\n",
    "param = {'max_depth':[8, 10, 12, 14],\n",
    "         'min_samples_split':[2, 4, 6]}\n",
    "\n",
    "# initialization\n",
    "scoring = {'auc':'roc_auc',\n",
    "        'acc' : 'accuracy',\n",
    "        'precision' : 'precision',\n",
    "        'recall' : 'recall',\n",
    "        'f1':'f1'}\n",
    "\n",
    "tuning_clf = GridSearchCV(clf, param, scoring=scoring, refit='acc', cv=3, verbose=3, return_train_score=True)\n",
    "hyperparam_tuning = tuning_clf.fit(x_train,y_train)"
   ]
  },
  {
   "cell_type": "code",
   "execution_count": 12,
   "metadata": {},
   "outputs": [
    {
     "name": "stdout",
     "output_type": "stream",
     "text": [
      "Mejor estimador:  DecisionTreeClassifier(max_depth=12, random_state=0)\n",
      "Mejores parámetros:  {'max_depth': 12, 'min_samples_split': 2}\n",
      "Mejor puntuación (accuracy): 0.9999500000127538\n"
     ]
    }
   ],
   "source": [
    "print('Mejor estimador: ', hyperparam_tuning.best_estimator_)\n",
    "print('Mejores parámetros: ', hyperparam_tuning.best_params_)\n",
    "print('Mejor puntuación (accuracy):', hyperparam_tuning.best_score_)"
   ]
  },
  {
   "cell_type": "code",
   "execution_count": 7,
   "metadata": {},
   "outputs": [],
   "source": [
    "# Entrenamiento del modelo\n",
    "start = time.time()\n",
    "model = DecisionTreeClassifier(max_depth = 12, min_samples_split=2, random_state=0).fit(x_train,y_train)\n",
    "end_train = time.time()\n",
    "# Predicción\n",
    "y_test_pred = model.predict(x_test)\n",
    "end_predict = time.time()\n",
    "y_train_pred = model.predict(x_train)\n"
   ]
  },
  {
   "cell_type": "code",
   "execution_count": 8,
   "metadata": {},
   "outputs": [
    {
     "data": {
      "text/plain": [
       "{'ccp_alpha': 0.0,\n",
       " 'class_weight': None,\n",
       " 'criterion': 'gini',\n",
       " 'max_depth': 12,\n",
       " 'max_features': None,\n",
       " 'max_leaf_nodes': None,\n",
       " 'min_impurity_decrease': 0.0,\n",
       " 'min_samples_leaf': 1,\n",
       " 'min_samples_split': 2,\n",
       " 'min_weight_fraction_leaf': 0.0,\n",
       " 'random_state': 0,\n",
       " 'splitter': 'best'}"
      ]
     },
     "execution_count": 8,
     "metadata": {},
     "output_type": "execute_result"
    }
   ],
   "source": [
    "model.get_params()"
   ]
  },
  {
   "cell_type": "code",
   "execution_count": 15,
   "metadata": {},
   "outputs": [],
   "source": [
    "# Saving the Model to disk\n",
    "pickle.dump(model, open('model_clf_DT.pkl', 'wb'))"
   ]
  },
  {
   "cell_type": "code",
   "execution_count": 16,
   "metadata": {},
   "outputs": [
    {
     "data": {
      "image/png": "[encoded data removed]",
      "text/plain": [
       "<Figure size 1152x360 with 2 Axes>"
      ]
     },
     "metadata": {
      "needs_background": "light"
     },
     "output_type": "display_data"
    }
   ],
   "source": [
    "confusion_matrix_graf(y_train, y_train_pred, 'Train')"
   ]
  },
  {
   "cell_type": "code",
   "execution_count": 17,
   "metadata": {},
   "outputs": [
    {
     "data": {
      "image/png": "[encoded data removed]",
      "text/plain": [
       "<Figure size 1152x360 with 2 Axes>"
      ]
     },
     "metadata": {
      "needs_background": "light"
     },
     "output_type": "display_data"
    }
   ],
   "source": [
    "confusion_matrix_graf(y_test, y_test_pred, 'Train')"
   ]
  },
  {
   "cell_type": "code",
   "execution_count": 18,
   "metadata": {},
   "outputs": [
    {
     "data": {
      "image/png": "[encoded data removed]",
      "text/plain": [
       "<Figure size 432x288 with 1 Axes>"
      ]
     },
     "metadata": {
      "needs_background": "light"
     },
     "output_type": "display_data"
    },
    {
     "data": {
      "text/html": [
       "<div>\n",
       "<style scoped>\n",
       "    .dataframe tbody tr th:only-of-type {\n",
       "        vertical-align: middle;\n",
       "    }\n",
       "\n",
       "    .dataframe tbody tr th {\n",
       "        vertical-align: top;\n",
       "    }\n",
       "\n",
       "    .dataframe thead th {\n",
       "        text-align: right;\n",
       "    }\n",
       "</style>\n",
       "<table border=\"1\" class=\"dataframe\">\n",
       "  <thead>\n",
       "    <tr style=\"text-align: right;\">\n",
       "      <th></th>\n",
       "      <th>DataSet</th>\n",
       "      <th>Model</th>\n",
       "      <th>AUC</th>\n",
       "      <th>ACC</th>\n",
       "      <th>Precision</th>\n",
       "      <th>Precision_avg</th>\n",
       "      <th>recall</th>\n",
       "      <th>recall_avg</th>\n",
       "      <th>f1</th>\n",
       "      <th>f1_avg</th>\n",
       "      <th>Time (s)</th>\n",
       "    </tr>\n",
       "  </thead>\n",
       "  <tbody>\n",
       "    <tr>\n",
       "      <th>0</th>\n",
       "      <td>Train</td>\n",
       "      <td>DT</td>\n",
       "      <td>0.999982</td>\n",
       "      <td>0.999982</td>\n",
       "      <td>0.999971</td>\n",
       "      <td>0.999982</td>\n",
       "      <td>0.999993</td>\n",
       "      <td>0.999982</td>\n",
       "      <td>0.999982</td>\n",
       "      <td>0.999982</td>\n",
       "      <td>0.721232</td>\n",
       "    </tr>\n",
       "    <tr>\n",
       "      <th>1</th>\n",
       "      <td>Test</td>\n",
       "      <td>DT</td>\n",
       "      <td>0.999933</td>\n",
       "      <td>0.999933</td>\n",
       "      <td>0.999867</td>\n",
       "      <td>0.999933</td>\n",
       "      <td>1.000000</td>\n",
       "      <td>0.999933</td>\n",
       "      <td>0.999933</td>\n",
       "      <td>0.999933</td>\n",
       "      <td>0.026427</td>\n",
       "    </tr>\n",
       "  </tbody>\n",
       "</table>\n",
       "</div>"
      ],
      "text/plain": [
       "  DataSet Model       AUC       ACC  Precision  Precision_avg    recall  \\\n",
       "0   Train    DT  0.999982  0.999982   0.999971       0.999982  0.999993   \n",
       "1    Test    DT  0.999933  0.999933   0.999867       0.999933  1.000000   \n",
       "\n",
       "   recall_avg        f1    f1_avg  Time (s)  \n",
       "0    0.999982  0.999982  0.999982  0.721232  \n",
       "1    0.999933  0.999933  0.999933  0.026427  "
      ]
     },
     "execution_count": 18,
     "metadata": {},
     "output_type": "execute_result"
    }
   ],
   "source": [
    "df_metrics = metrics_train_test(y_train, y_train_pred, y_test, y_test_pred,end_train-start,end_predict-end_train,'DT')\n",
    "df_metrics"
   ]
  },
  {
   "cell_type": "code",
   "execution_count": 19,
   "metadata": {},
   "outputs": [],
   "source": [
    "df_metrics.to_csv('./df_metrics.csv',index = False)"
   ]
  },
  {
   "cell_type": "markdown",
   "metadata": {},
   "source": [
    "<h1> Bosques Aleatorios </h1>"
   ]
  },
  {
   "cell_type": "code",
   "execution_count": 20,
   "metadata": {},
   "outputs": [
    {
     "name": "stdout",
     "output_type": "stream",
     "text": [
      "Fitting 3 folds for each of 9 candidates, totalling 27 fits\n",
      "[CV 1/3] END max_depth=20, n_estimators=100; acc: (train=1.000, test=1.000) auc: (train=1.000, test=1.000) f1: (train=1.000, test=1.000) precision: (train=1.000, test=1.000) recall: (train=1.000, test=1.000) total time=  17.5s\n",
      "[CV 2/3] END max_depth=20, n_estimators=100; acc: (train=1.000, test=1.000) auc: (train=1.000, test=1.000) f1: (train=1.000, test=1.000) precision: (train=1.000, test=1.000) recall: (train=1.000, test=1.000) total time=  16.7s\n",
      "[CV 3/3] END max_depth=20, n_estimators=100; acc: (train=1.000, test=1.000) auc: (train=1.000, test=1.000) f1: (train=1.000, test=1.000) precision: (train=1.000, test=1.000) recall: (train=1.000, test=1.000) total time=  17.4s\n",
      "[CV 1/3] END max_depth=20, n_estimators=200; acc: (train=1.000, test=1.000) auc: (train=1.000, test=1.000) f1: (train=1.000, test=1.000) precision: (train=1.000, test=1.000) recall: (train=1.000, test=1.000) total time=  32.1s\n",
      "[CV 2/3] END max_depth=20, n_estimators=200; acc: (train=1.000, test=1.000) auc: (train=1.000, test=1.000) f1: (train=1.000, test=1.000) precision: (train=1.000, test=1.000) recall: (train=1.000, test=1.000) total time=  32.6s\n",
      "[CV 3/3] END max_depth=20, n_estimators=200; acc: (train=1.000, test=1.000) auc: (train=1.000, test=1.000) f1: (train=1.000, test=1.000) precision: (train=1.000, test=1.000) recall: (train=1.000, test=1.000) total time=  33.3s\n",
      "[CV 1/3] END max_depth=20, n_estimators=300; acc: (train=1.000, test=1.000) auc: (train=1.000, test=1.000) f1: (train=1.000, test=1.000) precision: (train=1.000, test=1.000) recall: (train=1.000, test=1.000) total time=  47.9s\n",
      "[CV 2/3] END max_depth=20, n_estimators=300; acc: (train=1.000, test=1.000) auc: (train=1.000, test=1.000) f1: (train=1.000, test=1.000) precision: (train=1.000, test=1.000) recall: (train=1.000, test=1.000) total time=  48.2s\n",
      "[CV 3/3] END max_depth=20, n_estimators=300; acc: (train=1.000, test=1.000) auc: (train=1.000, test=1.000) f1: (train=1.000, test=1.000) precision: (train=1.000, test=1.000) recall: (train=1.000, test=1.000) total time=  49.4s\n",
      "[CV 1/3] END max_depth=22, n_estimators=100; acc: (train=1.000, test=1.000) auc: (train=1.000, test=1.000) f1: (train=1.000, test=1.000) precision: (train=1.000, test=1.000) recall: (train=1.000, test=1.000) total time=  16.4s\n",
      "[CV 2/3] END max_depth=22, n_estimators=100; acc: (train=1.000, test=1.000) auc: (train=1.000, test=1.000) f1: (train=1.000, test=1.000) precision: (train=1.000, test=1.000) recall: (train=1.000, test=1.000) total time=  16.4s\n",
      "[CV 3/3] END max_depth=22, n_estimators=100; acc: (train=1.000, test=1.000) auc: (train=1.000, test=1.000) f1: (train=1.000, test=1.000) precision: (train=1.000, test=1.000) recall: (train=1.000, test=1.000) total time=  16.7s\n",
      "[CV 1/3] END max_depth=22, n_estimators=200; acc: (train=1.000, test=1.000) auc: (train=1.000, test=1.000) f1: (train=1.000, test=1.000) precision: (train=1.000, test=1.000) recall: (train=1.000, test=1.000) total time=  31.6s\n",
      "[CV 2/3] END max_depth=22, n_estimators=200; acc: (train=1.000, test=1.000) auc: (train=1.000, test=1.000) f1: (train=1.000, test=1.000) precision: (train=1.000, test=1.000) recall: (train=1.000, test=1.000) total time=  32.5s\n",
      "[CV 3/3] END max_depth=22, n_estimators=200; acc: (train=1.000, test=1.000) auc: (train=1.000, test=1.000) f1: (train=1.000, test=1.000) precision: (train=1.000, test=1.000) recall: (train=1.000, test=1.000) total time=  32.4s\n",
      "[CV 1/3] END max_depth=22, n_estimators=300; acc: (train=1.000, test=1.000) auc: (train=1.000, test=1.000) f1: (train=1.000, test=1.000) precision: (train=1.000, test=1.000) recall: (train=1.000, test=1.000) total time=  46.7s\n",
      "[CV 2/3] END max_depth=22, n_estimators=300; acc: (train=1.000, test=1.000) auc: (train=1.000, test=1.000) f1: (train=1.000, test=1.000) precision: (train=1.000, test=1.000) recall: (train=1.000, test=1.000) total time=  48.1s\n",
      "[CV 3/3] END max_depth=22, n_estimators=300; acc: (train=1.000, test=1.000) auc: (train=1.000, test=1.000) f1: (train=1.000, test=1.000) precision: (train=1.000, test=1.000) recall: (train=1.000, test=1.000) total time=  47.5s\n",
      "[CV 1/3] END max_depth=24, n_estimators=100; acc: (train=1.000, test=1.000) auc: (train=1.000, test=1.000) f1: (train=1.000, test=1.000) precision: (train=1.000, test=1.000) recall: (train=1.000, test=1.000) total time=  15.9s\n",
      "[CV 2/3] END max_depth=24, n_estimators=100; acc: (train=1.000, test=1.000) auc: (train=1.000, test=1.000) f1: (train=1.000, test=1.000) precision: (train=1.000, test=1.000) recall: (train=1.000, test=1.000) total time=  16.0s\n",
      "[CV 3/3] END max_depth=24, n_estimators=100; acc: (train=1.000, test=1.000) auc: (train=1.000, test=1.000) f1: (train=1.000, test=1.000) precision: (train=1.000, test=1.000) recall: (train=1.000, test=1.000) total time=  16.5s\n",
      "[CV 1/3] END max_depth=24, n_estimators=200; acc: (train=1.000, test=1.000) auc: (train=1.000, test=1.000) f1: (train=1.000, test=1.000) precision: (train=1.000, test=1.000) recall: (train=1.000, test=1.000) total time=  31.4s\n",
      "[CV 2/3] END max_depth=24, n_estimators=200; acc: (train=1.000, test=1.000) auc: (train=1.000, test=1.000) f1: (train=1.000, test=1.000) precision: (train=1.000, test=1.000) recall: (train=1.000, test=1.000) total time=  31.7s\n",
      "[CV 3/3] END max_depth=24, n_estimators=200; acc: (train=1.000, test=1.000) auc: (train=1.000, test=1.000) f1: (train=1.000, test=1.000) precision: (train=1.000, test=1.000) recall: (train=1.000, test=1.000) total time=  32.3s\n",
      "[CV 1/3] END max_depth=24, n_estimators=300; acc: (train=1.000, test=1.000) auc: (train=1.000, test=1.000) f1: (train=1.000, test=1.000) precision: (train=1.000, test=1.000) recall: (train=1.000, test=1.000) total time=  47.2s\n",
      "[CV 2/3] END max_depth=24, n_estimators=300; acc: (train=1.000, test=1.000) auc: (train=1.000, test=1.000) f1: (train=1.000, test=1.000) precision: (train=1.000, test=1.000) recall: (train=1.000, test=1.000) total time=  46.9s\n",
      "[CV 3/3] END max_depth=24, n_estimators=300; acc: (train=1.000, test=1.000) auc: (train=1.000, test=1.000) f1: (train=1.000, test=1.000) precision: (train=1.000, test=1.000) recall: (train=1.000, test=1.000) total time=  47.5s\n"
     ]
    }
   ],
   "source": [
    "clf = RandomForestClassifier(random_state=0)\n",
    "param = {'n_estimators':[100, 200, 300],\n",
    "         'max_depth':[20, 22, 24]}\n",
    "\n",
    "# initialization\n",
    "scoring = {'auc':'roc_auc',\n",
    "        'acc' : 'accuracy',\n",
    "        'precision' : 'precision',\n",
    "        'recall' : 'recall',\n",
    "        'f1':'f1'}\n",
    "\n",
    "tuning_clf = GridSearchCV(clf, param, scoring=scoring, refit='acc', cv=3, verbose=3, return_train_score=True)\n",
    "hyperparam_tuning = tuning_clf.fit(x_train,y_train)"
   ]
  },
  {
   "cell_type": "code",
   "execution_count": 21,
   "metadata": {},
   "outputs": [
    {
     "name": "stdout",
     "output_type": "stream",
     "text": [
      "Mejor estimador:  RandomForestClassifier(max_depth=20, random_state=0)\n",
      "Mejores parámetros:  {'max_depth': 20, 'n_estimators': 100}\n",
      "Mejor puntuación (accuracy): 0.9999535714540805\n"
     ]
    }
   ],
   "source": [
    "print('Mejor estimador: ', hyperparam_tuning.best_estimator_)\n",
    "print('Mejores parámetros: ', hyperparam_tuning.best_params_)\n",
    "print('Mejor puntuación (accuracy):', hyperparam_tuning.best_score_)"
   ]
  },
  {
   "cell_type": "code",
   "execution_count": 22,
   "metadata": {},
   "outputs": [],
   "source": [
    "# Entrenamiento del modelo\n",
    "start = time.time()\n",
    "model = RandomForestClassifier(random_state=0, n_estimators = 100,  max_depth = 20).fit(x_train,y_train)\n",
    "end_train = time.time()\n",
    "y_test_pred = model.predict(x_test)\n",
    "end_predict = time.time()\n",
    "y_train_pred = model.predict(x_train)"
   ]
  },
  {
   "cell_type": "code",
   "execution_count": 23,
   "metadata": {},
   "outputs": [
    {
     "data": {
      "text/plain": [
       "{'bootstrap': True,\n",
       " 'ccp_alpha': 0.0,\n",
       " 'class_weight': None,\n",
       " 'criterion': 'gini',\n",
       " 'max_depth': 20,\n",
       " 'max_features': 'sqrt',\n",
       " 'max_leaf_nodes': None,\n",
       " 'max_samples': None,\n",
       " 'min_impurity_decrease': 0.0,\n",
       " 'min_samples_leaf': 1,\n",
       " 'min_samples_split': 2,\n",
       " 'min_weight_fraction_leaf': 0.0,\n",
       " 'n_estimators': 100,\n",
       " 'n_jobs': None,\n",
       " 'oob_score': False,\n",
       " 'random_state': 0,\n",
       " 'verbose': 0,\n",
       " 'warm_start': False}"
      ]
     },
     "execution_count": 23,
     "metadata": {},
     "output_type": "execute_result"
    }
   ],
   "source": [
    "# Saving the Model to disk\n",
    "pickle.dump(model, open('model_clf_RF.pkl', 'wb'))\n",
    "model.get_params()"
   ]
  },
  {
   "cell_type": "code",
   "execution_count": 24,
   "metadata": {},
   "outputs": [
    {
     "data": {
      "image/png": "[encoded data removed]",
      "text/plain": [
       "<Figure size 1152x360 with 2 Axes>"
      ]
     },
     "metadata": {
      "needs_background": "light"
     },
     "output_type": "display_data"
    },
    {
     "data": {
      "image/png": "[encoded data removed]",
      "text/plain": [
       "<Figure size 1152x360 with 2 Axes>"
      ]
     },
     "metadata": {
      "needs_background": "light"
     },
     "output_type": "display_data"
    }
   ],
   "source": [
    "confusion_matrix_graf(y_train, y_train_pred, 'Train')\n",
    "confusion_matrix_graf(y_test, y_test_pred, 'Test')"
   ]
  },
  {
   "cell_type": "code",
   "execution_count": 25,
   "metadata": {},
   "outputs": [
    {
     "data": {
      "image/png": "[encoded data removed]",
      "text/plain": [
       "<Figure size 432x288 with 1 Axes>"
      ]
     },
     "metadata": {
      "needs_background": "light"
     },
     "output_type": "display_data"
    },
    {
     "data": {
      "text/html": [
       "<div>\n",
       "<style scoped>\n",
       "    .dataframe tbody tr th:only-of-type {\n",
       "        vertical-align: middle;\n",
       "    }\n",
       "\n",
       "    .dataframe tbody tr th {\n",
       "        vertical-align: top;\n",
       "    }\n",
       "\n",
       "    .dataframe thead th {\n",
       "        text-align: right;\n",
       "    }\n",
       "</style>\n",
       "<table border=\"1\" class=\"dataframe\">\n",
       "  <thead>\n",
       "    <tr style=\"text-align: right;\">\n",
       "      <th></th>\n",
       "      <th>DataSet</th>\n",
       "      <th>Model</th>\n",
       "      <th>AUC</th>\n",
       "      <th>ACC</th>\n",
       "      <th>Precision</th>\n",
       "      <th>Precision_avg</th>\n",
       "      <th>recall</th>\n",
       "      <th>recall_avg</th>\n",
       "      <th>f1</th>\n",
       "      <th>f1_avg</th>\n",
       "      <th>Time (s)</th>\n",
       "    </tr>\n",
       "  </thead>\n",
       "  <tbody>\n",
       "    <tr>\n",
       "      <th>0</th>\n",
       "      <td>Train</td>\n",
       "      <td>DT</td>\n",
       "      <td>0.999982</td>\n",
       "      <td>0.999982</td>\n",
       "      <td>0.999971</td>\n",
       "      <td>0.999982</td>\n",
       "      <td>0.999993</td>\n",
       "      <td>0.999982</td>\n",
       "      <td>0.999982</td>\n",
       "      <td>0.999982</td>\n",
       "      <td>0.721232</td>\n",
       "    </tr>\n",
       "    <tr>\n",
       "      <th>1</th>\n",
       "      <td>Test</td>\n",
       "      <td>DT</td>\n",
       "      <td>0.999933</td>\n",
       "      <td>0.999933</td>\n",
       "      <td>0.999867</td>\n",
       "      <td>0.999933</td>\n",
       "      <td>1.000000</td>\n",
       "      <td>0.999933</td>\n",
       "      <td>0.999933</td>\n",
       "      <td>0.999933</td>\n",
       "      <td>0.026427</td>\n",
       "    </tr>\n",
       "    <tr>\n",
       "      <th>2</th>\n",
       "      <td>Train</td>\n",
       "      <td>RF</td>\n",
       "      <td>0.999996</td>\n",
       "      <td>0.999996</td>\n",
       "      <td>0.999993</td>\n",
       "      <td>0.999996</td>\n",
       "      <td>1.000000</td>\n",
       "      <td>0.999996</td>\n",
       "      <td>0.999996</td>\n",
       "      <td>0.999996</td>\n",
       "      <td>23.559973</td>\n",
       "    </tr>\n",
       "    <tr>\n",
       "      <th>3</th>\n",
       "      <td>Test</td>\n",
       "      <td>RF</td>\n",
       "      <td>0.999975</td>\n",
       "      <td>0.999975</td>\n",
       "      <td>0.999967</td>\n",
       "      <td>0.999975</td>\n",
       "      <td>0.999983</td>\n",
       "      <td>0.999975</td>\n",
       "      <td>0.999975</td>\n",
       "      <td>0.999975</td>\n",
       "      <td>1.080390</td>\n",
       "    </tr>\n",
       "  </tbody>\n",
       "</table>\n",
       "</div>"
      ],
      "text/plain": [
       "  DataSet Model       AUC       ACC  Precision  Precision_avg    recall  \\\n",
       "0   Train    DT  0.999982  0.999982   0.999971       0.999982  0.999993   \n",
       "1    Test    DT  0.999933  0.999933   0.999867       0.999933  1.000000   \n",
       "2   Train    RF  0.999996  0.999996   0.999993       0.999996  1.000000   \n",
       "3    Test    RF  0.999975  0.999975   0.999967       0.999975  0.999983   \n",
       "\n",
       "   recall_avg        f1    f1_avg   Time (s)  \n",
       "0    0.999982  0.999982  0.999982   0.721232  \n",
       "1    0.999933  0.999933  0.999933   0.026427  \n",
       "2    0.999996  0.999996  0.999996  23.559973  \n",
       "3    0.999975  0.999975  0.999975   1.080390  "
      ]
     },
     "execution_count": 25,
     "metadata": {},
     "output_type": "execute_result"
    }
   ],
   "source": [
    "df_metrics = pd.read_csv('df_metrics.csv')\n",
    "df_metrics = pd.concat([df_metrics,metrics_train_test(y_train, y_train_pred, y_test, y_test_pred,end_train-start,end_predict-end_train,'RF')],ignore_index = True)\n",
    "df_metrics"
   ]
  },
  {
   "cell_type": "code",
   "execution_count": 26,
   "metadata": {},
   "outputs": [],
   "source": [
    "df_metrics.to_csv('./df_metrics.csv',index = False)"
   ]
  },
  {
   "cell_type": "markdown",
   "metadata": {},
   "source": [
    "<h1> Vectores de soporte C </h1>"
   ]
  },
  {
   "cell_type": "code",
   "execution_count": 6,
   "metadata": {},
   "outputs": [
    {
     "name": "stdout",
     "output_type": "stream",
     "text": [
      "Fitting 3 folds for each of 8 candidates, totalling 24 fits\n"
     ]
    }
   ],
   "source": [
    "clf = SVC(random_state=123)\n",
    "param = {'kernel':['linear', 'poly', 'sigmoid', 'rbf'],\n",
    "         'C':[100, 10, 1, 0.1]}\n",
    "\n",
    "# initialization\n",
    "scoring = {'auc':'roc_auc',\n",
    "        'acc' : 'accuracy',\n",
    "        'precision' : 'precision',\n",
    "        'recall' : 'recall',\n",
    "        'f1':'f1'}\n",
    "\n",
    "tuning_clf = GridSearchCV(clf, param, scoring=scoring, refit='acc', cv=3, verbose=3)\n",
    "hyperparam_tuning = tuning_clf.fit(x_train,y_train)"
   ]
  },
  {
   "cell_type": "code",
   "execution_count": 31,
   "metadata": {},
   "outputs": [
    {
     "name": "stdout",
     "output_type": "stream",
     "text": [
      "Mejor estimador:  SVC(C=10, kernel='poly', random_state=123)\n",
      "Mejores parámetros:  {'C': 10, 'kernel': 'poly'}\n",
      "Mejor puntuación (accuracy): 0.9999535714923455\n"
     ]
    }
   ],
   "source": [
    "print('Mejor estimador: ', hyperparam_tuning.best_estimator_)\n",
    "print('Mejores parámetros: ', hyperparam_tuning.best_params_)\n",
    "print('Mejor puntuación (accuracy):', hyperparam_tuning.best_score_)"
   ]
  },
  {
   "cell_type": "code",
   "execution_count": 6,
   "metadata": {},
   "outputs": [],
   "source": [
    "# Entrenamiento del modelo\n",
    "start = time.time()\n",
    "model = SVC(random_state=123, kernel = 'poly', C = 10).fit(x_train,y_train)\n",
    "end_train = time.time()\n",
    "y_test_pred = model.predict(x_test)\n",
    "end_predict = time.time()\n",
    "y_train_pred = model.predict(x_train)\n"
   ]
  },
  {
   "cell_type": "code",
   "execution_count": 7,
   "metadata": {},
   "outputs": [
    {
     "data": {
      "text/plain": [
       "{'C': 10,\n",
       " 'break_ties': False,\n",
       " 'cache_size': 200,\n",
       " 'class_weight': None,\n",
       " 'coef0': 0.0,\n",
       " 'decision_function_shape': 'ovr',\n",
       " 'degree': 3,\n",
       " 'gamma': 'scale',\n",
       " 'kernel': 'poly',\n",
       " 'max_iter': -1,\n",
       " 'probability': False,\n",
       " 'random_state': 123,\n",
       " 'shrinking': True,\n",
       " 'tol': 0.001,\n",
       " 'verbose': False}"
      ]
     },
     "execution_count": 7,
     "metadata": {},
     "output_type": "execute_result"
    }
   ],
   "source": [
    "# Saving the Model to disk\n",
    "pickle.dump(model, open('model_clf_SVM.pkl', 'wb'))\n",
    "model.get_params()"
   ]
  },
  {
   "cell_type": "code",
   "execution_count": 8,
   "metadata": {},
   "outputs": [
    {
     "data": {
      "image/png": "[encoded data removed]",
      "text/plain": [
       "<Figure size 1152x360 with 2 Axes>"
      ]
     },
     "metadata": {
      "needs_background": "light"
     },
     "output_type": "display_data"
    },
    {
     "data": {
      "image/png": "[encoded data removed]",
      "text/plain": [
       "<Figure size 1152x360 with 2 Axes>"
      ]
     },
     "metadata": {
      "needs_background": "light"
     },
     "output_type": "display_data"
    }
   ],
   "source": [
    "confusion_matrix_graf(y_train, y_train_pred, 'Train')\n",
    "confusion_matrix_graf(y_test, y_test_pred, 'Test')"
   ]
  },
  {
   "cell_type": "code",
   "execution_count": 9,
   "metadata": {},
   "outputs": [
    {
     "data": {
      "image/png": "[encoded data removed]",
      "text/plain": [
       "<Figure size 432x288 with 1 Axes>"
      ]
     },
     "metadata": {
      "needs_background": "light"
     },
     "output_type": "display_data"
    },
    {
     "data": {
      "text/html": [
       "<div>\n",
       "<style scoped>\n",
       "    .dataframe tbody tr th:only-of-type {\n",
       "        vertical-align: middle;\n",
       "    }\n",
       "\n",
       "    .dataframe tbody tr th {\n",
       "        vertical-align: top;\n",
       "    }\n",
       "\n",
       "    .dataframe thead th {\n",
       "        text-align: right;\n",
       "    }\n",
       "</style>\n",
       "<table border=\"1\" class=\"dataframe\">\n",
       "  <thead>\n",
       "    <tr style=\"text-align: right;\">\n",
       "      <th></th>\n",
       "      <th>DataSet</th>\n",
       "      <th>Model</th>\n",
       "      <th>AUC</th>\n",
       "      <th>ACC</th>\n",
       "      <th>Precision</th>\n",
       "      <th>Precision_avg</th>\n",
       "      <th>recall</th>\n",
       "      <th>recall_avg</th>\n",
       "      <th>f1</th>\n",
       "      <th>f1_avg</th>\n",
       "      <th>Time (s)</th>\n",
       "    </tr>\n",
       "  </thead>\n",
       "  <tbody>\n",
       "    <tr>\n",
       "      <th>0</th>\n",
       "      <td>Train</td>\n",
       "      <td>DT</td>\n",
       "      <td>0.999982</td>\n",
       "      <td>0.999982</td>\n",
       "      <td>0.999971</td>\n",
       "      <td>0.999982</td>\n",
       "      <td>0.999993</td>\n",
       "      <td>0.999982</td>\n",
       "      <td>0.999982</td>\n",
       "      <td>0.999982</td>\n",
       "      <td>0.721232</td>\n",
       "    </tr>\n",
       "    <tr>\n",
       "      <th>1</th>\n",
       "      <td>Test</td>\n",
       "      <td>DT</td>\n",
       "      <td>0.999933</td>\n",
       "      <td>0.999933</td>\n",
       "      <td>0.999867</td>\n",
       "      <td>0.999933</td>\n",
       "      <td>1.000000</td>\n",
       "      <td>0.999933</td>\n",
       "      <td>0.999933</td>\n",
       "      <td>0.999933</td>\n",
       "      <td>0.026427</td>\n",
       "    </tr>\n",
       "    <tr>\n",
       "      <th>2</th>\n",
       "      <td>Train</td>\n",
       "      <td>RF</td>\n",
       "      <td>0.999996</td>\n",
       "      <td>0.999996</td>\n",
       "      <td>0.999993</td>\n",
       "      <td>0.999996</td>\n",
       "      <td>1.000000</td>\n",
       "      <td>0.999996</td>\n",
       "      <td>0.999996</td>\n",
       "      <td>0.999996</td>\n",
       "      <td>23.559973</td>\n",
       "    </tr>\n",
       "    <tr>\n",
       "      <th>3</th>\n",
       "      <td>Test</td>\n",
       "      <td>RF</td>\n",
       "      <td>0.999975</td>\n",
       "      <td>0.999975</td>\n",
       "      <td>0.999967</td>\n",
       "      <td>0.999975</td>\n",
       "      <td>0.999983</td>\n",
       "      <td>0.999975</td>\n",
       "      <td>0.999975</td>\n",
       "      <td>0.999975</td>\n",
       "      <td>1.080390</td>\n",
       "    </tr>\n",
       "    <tr>\n",
       "      <th>4</th>\n",
       "      <td>Train</td>\n",
       "      <td>SVM</td>\n",
       "      <td>0.999586</td>\n",
       "      <td>0.999586</td>\n",
       "      <td>0.999179</td>\n",
       "      <td>0.999586</td>\n",
       "      <td>0.999993</td>\n",
       "      <td>0.999586</td>\n",
       "      <td>0.999586</td>\n",
       "      <td>0.999586</td>\n",
       "      <td>13.021335</td>\n",
       "    </tr>\n",
       "    <tr>\n",
       "      <th>5</th>\n",
       "      <td>Test</td>\n",
       "      <td>SVM</td>\n",
       "      <td>0.999641</td>\n",
       "      <td>0.999642</td>\n",
       "      <td>0.999284</td>\n",
       "      <td>0.999642</td>\n",
       "      <td>1.000000</td>\n",
       "      <td>0.999641</td>\n",
       "      <td>0.999642</td>\n",
       "      <td>0.999642</td>\n",
       "      <td>1.945580</td>\n",
       "    </tr>\n",
       "  </tbody>\n",
       "</table>\n",
       "</div>"
      ],
      "text/plain": [
       "  DataSet Model       AUC       ACC  Precision  Precision_avg    recall  \\\n",
       "0   Train    DT  0.999982  0.999982   0.999971       0.999982  0.999993   \n",
       "1    Test    DT  0.999933  0.999933   0.999867       0.999933  1.000000   \n",
       "2   Train    RF  0.999996  0.999996   0.999993       0.999996  1.000000   \n",
       "3    Test    RF  0.999975  0.999975   0.999967       0.999975  0.999983   \n",
       "4   Train   SVM  0.999586  0.999586   0.999179       0.999586  0.999993   \n",
       "5    Test   SVM  0.999641  0.999642   0.999284       0.999642  1.000000   \n",
       "\n",
       "   recall_avg        f1    f1_avg   Time (s)  \n",
       "0    0.999982  0.999982  0.999982   0.721232  \n",
       "1    0.999933  0.999933  0.999933   0.026427  \n",
       "2    0.999996  0.999996  0.999996  23.559973  \n",
       "3    0.999975  0.999975  0.999975   1.080390  \n",
       "4    0.999586  0.999586  0.999586  13.021335  \n",
       "5    0.999641  0.999642  0.999642   1.945580  "
      ]
     },
     "execution_count": 9,
     "metadata": {},
     "output_type": "execute_result"
    }
   ],
   "source": [
    "df_metrics = pd.read_csv('df_metrics.csv')\n",
    "df_metrics = pd.concat([df_metrics,metrics_train_test(y_train, y_train_pred, y_test, y_test_pred,end_train-start,end_predict-end_train,'SVM')],ignore_index = True)\n",
    "df_metrics"
   ]
  },
  {
   "cell_type": "code",
   "execution_count": 10,
   "metadata": {},
   "outputs": [],
   "source": [
    "df_metrics.to_csv('./df_metrics.csv',index = False)"
   ]
  },
  {
   "cell_type": "markdown",
   "metadata": {},
   "source": [
    "<h1> Regresión logística </h1>"
   ]
  },
  {
   "cell_type": "code",
   "execution_count": 11,
   "metadata": {},
   "outputs": [
    {
     "name": "stdout",
     "output_type": "stream",
     "text": [
      "Fitting 3 folds for each of 16 candidates, totalling 48 fits\n",
      "[CV 1/3] END alpha=1e-06, penalty=l2; acc: (train=1.000, test=1.000) auc: (train=1.000, test=1.000) f1: (train=1.000, test=1.000) precision: (train=0.999, test=0.999) recall: (train=1.000, test=1.000) total time=   1.6s\n",
      "[CV 2/3] END alpha=1e-06, penalty=l2; acc: (train=1.000, test=0.999) auc: (train=1.000, test=1.000) f1: (train=1.000, test=0.999) precision: (train=0.999, test=0.999) recall: (train=1.000, test=1.000) total time=   1.2s\n",
      "[CV 3/3] END alpha=1e-06, penalty=l2; acc: (train=1.000, test=1.000) auc: (train=1.000, test=1.000) f1: (train=1.000, test=1.000) precision: (train=1.000, test=1.000) recall: (train=1.000, test=1.000) total time=   1.1s\n",
      "[CV 1/3] END alpha=1e-06, penalty=l1; acc: (train=0.998, test=0.998) auc: (train=1.000, test=1.000) f1: (train=0.998, test=0.998) precision: (train=0.998, test=0.998) recall: (train=0.998, test=0.999) total time=   2.1s\n",
      "[CV 2/3] END alpha=1e-06, penalty=l1; acc: (train=0.999, test=0.999) auc: (train=1.000, test=1.000) f1: (train=0.999, test=0.999) precision: (train=0.998, test=0.998) recall: (train=1.000, test=1.000) total time=   2.0s\n",
      "[CV 3/3] END alpha=1e-06, penalty=l1; acc: (train=0.999, test=0.999) auc: (train=1.000, test=1.000) f1: (train=0.999, test=0.999) precision: (train=0.999, test=0.999) recall: (train=0.999, test=0.998) total time=   3.0s\n",
      "[CV 1/3] END alpha=1e-05, penalty=l2; acc: (train=0.999, test=0.999) auc: (train=1.000, test=1.000) f1: (train=0.999, test=0.999) precision: (train=0.998, test=0.998) recall: (train=1.000, test=1.000) total time=   0.9s\n",
      "[CV 2/3] END alpha=1e-05, penalty=l2; acc: (train=0.999, test=0.999) auc: (train=1.000, test=1.000) f1: (train=0.999, test=0.999) precision: (train=0.998, test=0.998) recall: (train=1.000, test=1.000) total time=   0.9s\n",
      "[CV 3/3] END alpha=1e-05, penalty=l2; acc: (train=1.000, test=1.000) auc: (train=1.000, test=1.000) f1: (train=1.000, test=1.000) precision: (train=0.999, test=0.999) recall: (train=1.000, test=1.000) total time=   0.8s\n",
      "[CV 1/3] END alpha=1e-05, penalty=l1; acc: (train=0.998, test=0.998) auc: (train=0.999, test=0.999) f1: (train=0.998, test=0.998) precision: (train=0.997, test=0.998) recall: (train=0.998, test=0.999) total time=   1.3s\n",
      "[CV 2/3] END alpha=1e-05, penalty=l1; acc: (train=1.000, test=0.999) auc: (train=1.000, test=1.000) f1: (train=1.000, test=0.999) precision: (train=0.999, test=0.999) recall: (train=1.000, test=1.000) total time=   1.0s\n",
      "[CV 3/3] END alpha=1e-05, penalty=l1; acc: (train=1.000, test=1.000) auc: (train=1.000, test=1.000) f1: (train=1.000, test=1.000) precision: (train=0.999, test=0.999) recall: (train=1.000, test=1.000) total time=   1.5s\n",
      "[CV 1/3] END alpha=0.0001, penalty=l2; acc: (train=0.999, test=0.999) auc: (train=1.000, test=1.000) f1: (train=0.999, test=0.999) precision: (train=0.998, test=0.998) recall: (train=1.000, test=1.000) total time=   0.6s\n",
      "[CV 2/3] END alpha=0.0001, penalty=l2; acc: (train=0.999, test=0.999) auc: (train=1.000, test=1.000) f1: (train=0.999, test=0.999) precision: (train=0.997, test=0.997) recall: (train=1.000, test=1.000) total time=   0.6s\n",
      "[CV 3/3] END alpha=0.0001, penalty=l2; acc: (train=0.999, test=0.999) auc: (train=1.000, test=1.000) f1: (train=0.999, test=0.999) precision: (train=0.998, test=0.998) recall: (train=1.000, test=1.000) total time=   0.6s\n",
      "[CV 1/3] END alpha=0.0001, penalty=l1; acc: (train=0.998, test=0.998) auc: (train=0.999, test=0.999) f1: (train=0.998, test=0.998) precision: (train=0.997, test=0.997) recall: (train=0.998, test=0.999) total time=   2.2s\n",
      "[CV 2/3] END alpha=0.0001, penalty=l1; acc: (train=0.999, test=0.999) auc: (train=1.000, test=1.000) f1: (train=0.999, test=0.999) precision: (train=0.999, test=0.998) recall: (train=1.000, test=1.000) total time=   2.1s\n",
      "[CV 3/3] END alpha=0.0001, penalty=l1; acc: (train=0.999, test=0.999) auc: (train=0.999, test=0.999) f1: (train=0.999, test=0.999) precision: (train=0.998, test=0.998) recall: (train=1.000, test=1.000) total time=   8.4s\n",
      "[CV 1/3] END alpha=0.001, penalty=l2; acc: (train=0.999, test=0.999) auc: (train=1.000, test=1.000) f1: (train=0.999, test=0.999) precision: (train=0.997, test=0.997) recall: (train=1.000, test=1.000) total time=   0.6s\n",
      "[CV 2/3] END alpha=0.001, penalty=l2; acc: (train=0.999, test=0.999) auc: (train=1.000, test=1.000) f1: (train=0.999, test=0.999) precision: (train=0.997, test=0.997) recall: (train=1.000, test=1.000) total time=   0.6s\n",
      "[CV 3/3] END alpha=0.001, penalty=l2; acc: (train=0.999, test=0.999) auc: (train=1.000, test=1.000) f1: (train=0.999, test=0.999) precision: (train=0.997, test=0.997) recall: (train=1.000, test=1.000) total time=   0.6s\n",
      "[CV 1/3] END alpha=0.001, penalty=l1; acc: (train=0.998, test=0.999) auc: (train=0.998, test=0.999) f1: (train=0.998, test=0.999) precision: (train=0.997, test=0.997) recall: (train=1.000, test=1.000) total time=   2.7s\n",
      "[CV 2/3] END alpha=0.001, penalty=l1; acc: (train=0.998, test=0.998) auc: (train=0.998, test=0.998) f1: (train=0.998, test=0.998) precision: (train=0.996, test=0.996) recall: (train=1.000, test=1.000) total time=   2.4s\n",
      "[CV 3/3] END alpha=0.001, penalty=l1; acc: (train=0.998, test=0.998) auc: (train=0.998, test=0.998) f1: (train=0.998, test=0.998) precision: (train=0.996, test=0.996) recall: (train=1.000, test=0.999) total time=   1.9s\n",
      "[CV 1/3] END alpha=0.01, penalty=l2; acc: (train=0.998, test=0.998) auc: (train=1.000, test=1.000) f1: (train=0.998, test=0.998) precision: (train=0.997, test=0.997) recall: (train=1.000, test=1.000) total time=   0.5s\n",
      "[CV 2/3] END alpha=0.01, penalty=l2; acc: (train=0.998, test=0.998) auc: (train=1.000, test=1.000) f1: (train=0.998, test=0.998) precision: (train=0.997, test=0.997) recall: (train=1.000, test=1.000) total time=   0.6s\n",
      "[CV 3/3] END alpha=0.01, penalty=l2; acc: (train=0.999, test=0.998) auc: (train=1.000, test=1.000) f1: (train=0.999, test=0.998) precision: (train=0.997, test=0.997) recall: (train=1.000, test=1.000) total time=   0.7s\n",
      "[CV 1/3] END alpha=0.01, penalty=l1; acc: (train=0.998, test=0.998) auc: (train=1.000, test=1.000) f1: (train=0.998, test=0.998) precision: (train=0.997, test=0.997) recall: (train=1.000, test=1.000) total time=   0.6s\n",
      "[CV 2/3] END alpha=0.01, penalty=l1; acc: (train=0.995, test=0.996) auc: (train=0.997, test=0.997) f1: (train=0.995, test=0.996) precision: (train=0.996, test=0.996) recall: (train=0.994, test=0.995) total time=   1.3s\n",
      "[CV 3/3] END alpha=0.01, penalty=l1; acc: (train=0.995, test=0.995) auc: (train=0.996, test=0.995) f1: (train=0.995, test=0.995) precision: (train=0.996, test=0.996) recall: (train=0.995, test=0.994) total time=   1.2s\n",
      "[CV 1/3] END alpha=0.1, penalty=l2; acc: (train=0.998, test=0.998) auc: (train=0.999, test=0.999) f1: (train=0.998, test=0.998) precision: (train=0.997, test=0.997) recall: (train=1.000, test=1.000) total time=   0.5s\n",
      "[CV 2/3] END alpha=0.1, penalty=l2; acc: (train=0.998, test=0.998) auc: (train=0.999, test=0.999) f1: (train=0.998, test=0.998) precision: (train=0.997, test=0.997) recall: (train=1.000, test=1.000) total time=   0.6s\n",
      "[CV 3/3] END alpha=0.1, penalty=l2; acc: (train=0.998, test=0.998) auc: (train=0.999, test=0.999) f1: (train=0.998, test=0.998) precision: (train=0.997, test=0.996) recall: (train=1.000, test=1.000) total time=   0.5s\n",
      "[CV 1/3] END alpha=0.1, penalty=l1; acc: (train=0.998, test=0.998) auc: (train=1.000, test=1.000) f1: (train=0.998, test=0.998) precision: (train=0.997, test=0.997) recall: (train=1.000, test=1.000) total time=   0.6s\n",
      "[CV 2/3] END alpha=0.1, penalty=l1; acc: (train=0.998, test=0.998) auc: (train=1.000, test=1.000) f1: (train=0.998, test=0.998) precision: (train=0.997, test=0.997) recall: (train=1.000, test=1.000) total time=   0.6s\n",
      "[CV 3/3] END alpha=0.1, penalty=l1; acc: (train=0.998, test=0.998) auc: (train=1.000, test=1.000) f1: (train=0.998, test=0.998) precision: (train=0.997, test=0.996) recall: (train=1.000, test=1.000) total time=   0.6s\n",
      "[CV 1/3] END alpha=1.0, penalty=l2; acc: (train=0.998, test=0.998) auc: (train=0.999, test=0.999) f1: (train=0.998, test=0.998) precision: (train=0.997, test=0.997) recall: (train=1.000, test=1.000) total time=   0.5s\n",
      "[CV 2/3] END alpha=1.0, penalty=l2; acc: (train=0.998, test=0.998) auc: (train=0.999, test=0.999) f1: (train=0.998, test=0.998) precision: (train=0.997, test=0.997) recall: (train=1.000, test=1.000) total time=   0.5s\n",
      "[CV 3/3] END alpha=1.0, penalty=l2; acc: (train=0.998, test=0.998) auc: (train=0.999, test=0.999) f1: (train=0.998, test=0.998) precision: (train=0.997, test=0.996) recall: (train=1.000, test=1.000) total time=   0.5s\n"
     ]
    },
    {
     "name": "stderr",
     "output_type": "stream",
     "text": [
      "c:\\Users\\kapla\\AppData\\Local\\Programs\\Python\\Python310\\lib\\site-packages\\sklearn\\metrics\\_classification.py:1327: UndefinedMetricWarning: Precision is ill-defined and being set to 0.0 due to no predicted samples. Use `zero_division` parameter to control this behavior.\n",
      "  _warn_prf(average, modifier, msg_start, len(result))\n",
      "c:\\Users\\kapla\\AppData\\Local\\Programs\\Python\\Python310\\lib\\site-packages\\sklearn\\metrics\\_classification.py:1327: UndefinedMetricWarning: Precision is ill-defined and being set to 0.0 due to no predicted samples. Use `zero_division` parameter to control this behavior.\n",
      "  _warn_prf(average, modifier, msg_start, len(result))\n"
     ]
    },
    {
     "name": "stdout",
     "output_type": "stream",
     "text": [
      "[CV 1/3] END alpha=1.0, penalty=l1; acc: (train=0.500, test=0.500) auc: (train=0.500, test=0.500) f1: (train=0.000, test=0.000) precision: (train=0.000, test=0.000) recall: (train=0.000, test=0.000) total time=   0.6s\n"
     ]
    },
    {
     "name": "stderr",
     "output_type": "stream",
     "text": [
      "c:\\Users\\kapla\\AppData\\Local\\Programs\\Python\\Python310\\lib\\site-packages\\sklearn\\metrics\\_classification.py:1327: UndefinedMetricWarning: Precision is ill-defined and being set to 0.0 due to no predicted samples. Use `zero_division` parameter to control this behavior.\n",
      "  _warn_prf(average, modifier, msg_start, len(result))\n",
      "c:\\Users\\kapla\\AppData\\Local\\Programs\\Python\\Python310\\lib\\site-packages\\sklearn\\metrics\\_classification.py:1327: UndefinedMetricWarning: Precision is ill-defined and being set to 0.0 due to no predicted samples. Use `zero_division` parameter to control this behavior.\n",
      "  _warn_prf(average, modifier, msg_start, len(result))\n"
     ]
    },
    {
     "name": "stdout",
     "output_type": "stream",
     "text": [
      "[CV 2/3] END alpha=1.0, penalty=l1; acc: (train=0.500, test=0.500) auc: (train=0.500, test=0.500) f1: (train=0.000, test=0.000) precision: (train=0.000, test=0.000) recall: (train=0.000, test=0.000) total time=   0.6s\n"
     ]
    },
    {
     "name": "stderr",
     "output_type": "stream",
     "text": [
      "c:\\Users\\kapla\\AppData\\Local\\Programs\\Python\\Python310\\lib\\site-packages\\sklearn\\metrics\\_classification.py:1327: UndefinedMetricWarning: Precision is ill-defined and being set to 0.0 due to no predicted samples. Use `zero_division` parameter to control this behavior.\n",
      "  _warn_prf(average, modifier, msg_start, len(result))\n",
      "c:\\Users\\kapla\\AppData\\Local\\Programs\\Python\\Python310\\lib\\site-packages\\sklearn\\metrics\\_classification.py:1327: UndefinedMetricWarning: Precision is ill-defined and being set to 0.0 due to no predicted samples. Use `zero_division` parameter to control this behavior.\n",
      "  _warn_prf(average, modifier, msg_start, len(result))\n"
     ]
    },
    {
     "name": "stdout",
     "output_type": "stream",
     "text": [
      "[CV 3/3] END alpha=1.0, penalty=l1; acc: (train=0.500, test=0.500) auc: (train=0.500, test=0.500) f1: (train=0.000, test=0.000) precision: (train=0.000, test=0.000) recall: (train=0.000, test=0.000) total time=   0.6s\n",
      "[CV 1/3] END alpha=10.0, penalty=l2; acc: (train=0.500, test=0.500) auc: (train=0.999, test=0.999) f1: (train=0.001, test=0.001) precision: (train=0.412, test=0.391) recall: (train=0.000, test=0.000) total time=   0.5s\n",
      "[CV 2/3] END alpha=10.0, penalty=l2; acc: (train=0.500, test=0.500) auc: (train=0.999, test=0.999) f1: (train=0.001, test=0.001) precision: (train=0.412, test=0.390) recall: (train=0.000, test=0.000) total time=   0.6s\n",
      "[CV 3/3] END alpha=10.0, penalty=l2; acc: (train=0.500, test=0.500) auc: (train=0.999, test=0.999) f1: (train=0.001, test=0.001) precision: (train=0.361, test=0.434) recall: (train=0.000, test=0.000) total time=   0.5s\n"
     ]
    },
    {
     "name": "stderr",
     "output_type": "stream",
     "text": [
      "c:\\Users\\kapla\\AppData\\Local\\Programs\\Python\\Python310\\lib\\site-packages\\sklearn\\metrics\\_classification.py:1327: UndefinedMetricWarning: Precision is ill-defined and being set to 0.0 due to no predicted samples. Use `zero_division` parameter to control this behavior.\n",
      "  _warn_prf(average, modifier, msg_start, len(result))\n",
      "c:\\Users\\kapla\\AppData\\Local\\Programs\\Python\\Python310\\lib\\site-packages\\sklearn\\metrics\\_classification.py:1327: UndefinedMetricWarning: Precision is ill-defined and being set to 0.0 due to no predicted samples. Use `zero_division` parameter to control this behavior.\n",
      "  _warn_prf(average, modifier, msg_start, len(result))\n"
     ]
    },
    {
     "name": "stdout",
     "output_type": "stream",
     "text": [
      "[CV 1/3] END alpha=10.0, penalty=l1; acc: (train=0.500, test=0.500) auc: (train=0.500, test=0.500) f1: (train=0.000, test=0.000) precision: (train=0.000, test=0.000) recall: (train=0.000, test=0.000) total time=   0.6s\n"
     ]
    },
    {
     "name": "stderr",
     "output_type": "stream",
     "text": [
      "c:\\Users\\kapla\\AppData\\Local\\Programs\\Python\\Python310\\lib\\site-packages\\sklearn\\metrics\\_classification.py:1327: UndefinedMetricWarning: Precision is ill-defined and being set to 0.0 due to no predicted samples. Use `zero_division` parameter to control this behavior.\n",
      "  _warn_prf(average, modifier, msg_start, len(result))\n",
      "c:\\Users\\kapla\\AppData\\Local\\Programs\\Python\\Python310\\lib\\site-packages\\sklearn\\metrics\\_classification.py:1327: UndefinedMetricWarning: Precision is ill-defined and being set to 0.0 due to no predicted samples. Use `zero_division` parameter to control this behavior.\n",
      "  _warn_prf(average, modifier, msg_start, len(result))\n"
     ]
    },
    {
     "name": "stdout",
     "output_type": "stream",
     "text": [
      "[CV 2/3] END alpha=10.0, penalty=l1; acc: (train=0.500, test=0.500) auc: (train=0.500, test=0.500) f1: (train=0.000, test=0.000) precision: (train=0.000, test=0.000) recall: (train=0.000, test=0.000) total time=   0.6s\n"
     ]
    },
    {
     "name": "stderr",
     "output_type": "stream",
     "text": [
      "c:\\Users\\kapla\\AppData\\Local\\Programs\\Python\\Python310\\lib\\site-packages\\sklearn\\metrics\\_classification.py:1327: UndefinedMetricWarning: Precision is ill-defined and being set to 0.0 due to no predicted samples. Use `zero_division` parameter to control this behavior.\n",
      "  _warn_prf(average, modifier, msg_start, len(result))\n",
      "c:\\Users\\kapla\\AppData\\Local\\Programs\\Python\\Python310\\lib\\site-packages\\sklearn\\metrics\\_classification.py:1327: UndefinedMetricWarning: Precision is ill-defined and being set to 0.0 due to no predicted samples. Use `zero_division` parameter to control this behavior.\n",
      "  _warn_prf(average, modifier, msg_start, len(result))\n"
     ]
    },
    {
     "name": "stdout",
     "output_type": "stream",
     "text": [
      "[CV 3/3] END alpha=10.0, penalty=l1; acc: (train=0.500, test=0.500) auc: (train=0.500, test=0.500) f1: (train=0.000, test=0.000) precision: (train=0.000, test=0.000) recall: (train=0.000, test=0.000) total time=   0.6s\n"
     ]
    }
   ],
   "source": [
    "clf = SGDClassifier(loss='log_loss', random_state=0)\n",
    "param = {'alpha':np.logspace(-6, 1, 8),\n",
    "         'penalty': ['l2','l1']}\n",
    "\n",
    "# initialization\n",
    "scoring = {'auc':'roc_auc',\n",
    "        'acc' : 'accuracy',\n",
    "        'precision' : 'precision',\n",
    "        'recall' : 'recall',\n",
    "        'f1':'f1'}\n",
    "\n",
    "tuning_clf = GridSearchCV(clf, param, scoring=scoring, refit='acc', cv=3, verbose=3, return_train_score=True)\n",
    "hyperparam_tuning = tuning_clf.fit(x_train,y_train)"
   ]
  },
  {
   "cell_type": "code",
   "execution_count": 12,
   "metadata": {},
   "outputs": [
    {
     "name": "stdout",
     "output_type": "stream",
     "text": [
      "Mejor estimador:  SGDClassifier(alpha=1e-06, loss='log_loss', random_state=0)\n",
      "Mejores parámetros:  {'alpha': 1e-06, 'penalty': 'l2'}\n",
      "Mejor puntuación (accuracy): 0.9996178570025419\n"
     ]
    }
   ],
   "source": [
    "print('Mejor estimador: ', hyperparam_tuning.best_estimator_)\n",
    "print('Mejores parámetros: ', hyperparam_tuning.best_params_)\n",
    "print('Mejor puntuación (accuracy):', hyperparam_tuning.best_score_)"
   ]
  },
  {
   "cell_type": "code",
   "execution_count": 13,
   "metadata": {},
   "outputs": [],
   "source": [
    "# Entrenamiento del modelo\n",
    "start = time.time()\n",
    "model = SGDClassifier(loss='log_loss', random_state=0, alpha = 1e-06, penalty = 'l2').fit(x_train,y_train)\n",
    "end_train = time.time()\n",
    "y_test_pred = model.predict(x_test)\n",
    "end_predict = time.time()\n",
    "y_train_pred = model.predict(x_train)\n"
   ]
  },
  {
   "cell_type": "code",
   "execution_count": 14,
   "metadata": {},
   "outputs": [
    {
     "data": {
      "text/plain": [
       "{'alpha': 1e-06,\n",
       " 'average': False,\n",
       " 'class_weight': None,\n",
       " 'early_stopping': False,\n",
       " 'epsilon': 0.1,\n",
       " 'eta0': 0.0,\n",
       " 'fit_intercept': True,\n",
       " 'l1_ratio': 0.15,\n",
       " 'learning_rate': 'optimal',\n",
       " 'loss': 'log_loss',\n",
       " 'max_iter': 1000,\n",
       " 'n_iter_no_change': 5,\n",
       " 'n_jobs': None,\n",
       " 'penalty': 'l2',\n",
       " 'power_t': 0.5,\n",
       " 'random_state': 0,\n",
       " 'shuffle': True,\n",
       " 'tol': 0.001,\n",
       " 'validation_fraction': 0.1,\n",
       " 'verbose': 0,\n",
       " 'warm_start': False}"
      ]
     },
     "execution_count": 14,
     "metadata": {},
     "output_type": "execute_result"
    }
   ],
   "source": [
    "# Saving the Model to disk\n",
    "pickle.dump(model, open('model_clf_LR.pkl', 'wb'))\n",
    "model.get_params()"
   ]
  },
  {
   "cell_type": "code",
   "execution_count": 15,
   "metadata": {},
   "outputs": [
    {
     "data": {
      "image/png": "[encoded data removed]",
      "text/plain": [
       "<Figure size 1152x360 with 2 Axes>"
      ]
     },
     "metadata": {
      "needs_background": "light"
     },
     "output_type": "display_data"
    },
    {
     "data": {
      "image/png": "[encoded data removed]",
      "text/plain": [
       "<Figure size 1152x360 with 2 Axes>"
      ]
     },
     "metadata": {
      "needs_background": "light"
     },
     "output_type": "display_data"
    }
   ],
   "source": [
    "confusion_matrix_graf(y_train, y_train_pred, 'Train')\n",
    "confusion_matrix_graf(y_test, y_test_pred, 'Test')"
   ]
  },
  {
   "cell_type": "code",
   "execution_count": 16,
   "metadata": {},
   "outputs": [
    {
     "data": {
      "image/png": "[encoded data removed]",
      "text/plain": [
       "<Figure size 432x288 with 1 Axes>"
      ]
     },
     "metadata": {
      "needs_background": "light"
     },
     "output_type": "display_data"
    },
    {
     "data": {
      "text/html": [
       "<div>\n",
       "<style scoped>\n",
       "    .dataframe tbody tr th:only-of-type {\n",
       "        vertical-align: middle;\n",
       "    }\n",
       "\n",
       "    .dataframe tbody tr th {\n",
       "        vertical-align: top;\n",
       "    }\n",
       "\n",
       "    .dataframe thead th {\n",
       "        text-align: right;\n",
       "    }\n",
       "</style>\n",
       "<table border=\"1\" class=\"dataframe\">\n",
       "  <thead>\n",
       "    <tr style=\"text-align: right;\">\n",
       "      <th></th>\n",
       "      <th>DataSet</th>\n",
       "      <th>Model</th>\n",
       "      <th>AUC</th>\n",
       "      <th>ACC</th>\n",
       "      <th>Precision</th>\n",
       "      <th>Precision_avg</th>\n",
       "      <th>recall</th>\n",
       "      <th>recall_avg</th>\n",
       "      <th>f1</th>\n",
       "      <th>f1_avg</th>\n",
       "      <th>Time (s)</th>\n",
       "    </tr>\n",
       "  </thead>\n",
       "  <tbody>\n",
       "    <tr>\n",
       "      <th>0</th>\n",
       "      <td>Train</td>\n",
       "      <td>DT</td>\n",
       "      <td>0.999982</td>\n",
       "      <td>0.999982</td>\n",
       "      <td>0.999971</td>\n",
       "      <td>0.999982</td>\n",
       "      <td>0.999993</td>\n",
       "      <td>0.999982</td>\n",
       "      <td>0.999982</td>\n",
       "      <td>0.999982</td>\n",
       "      <td>0.721232</td>\n",
       "    </tr>\n",
       "    <tr>\n",
       "      <th>1</th>\n",
       "      <td>Test</td>\n",
       "      <td>DT</td>\n",
       "      <td>0.999933</td>\n",
       "      <td>0.999933</td>\n",
       "      <td>0.999867</td>\n",
       "      <td>0.999933</td>\n",
       "      <td>1.000000</td>\n",
       "      <td>0.999933</td>\n",
       "      <td>0.999933</td>\n",
       "      <td>0.999933</td>\n",
       "      <td>0.026427</td>\n",
       "    </tr>\n",
       "    <tr>\n",
       "      <th>2</th>\n",
       "      <td>Train</td>\n",
       "      <td>RF</td>\n",
       "      <td>0.999996</td>\n",
       "      <td>0.999996</td>\n",
       "      <td>0.999993</td>\n",
       "      <td>0.999996</td>\n",
       "      <td>1.000000</td>\n",
       "      <td>0.999996</td>\n",
       "      <td>0.999996</td>\n",
       "      <td>0.999996</td>\n",
       "      <td>23.559973</td>\n",
       "    </tr>\n",
       "    <tr>\n",
       "      <th>3</th>\n",
       "      <td>Test</td>\n",
       "      <td>RF</td>\n",
       "      <td>0.999975</td>\n",
       "      <td>0.999975</td>\n",
       "      <td>0.999967</td>\n",
       "      <td>0.999975</td>\n",
       "      <td>0.999983</td>\n",
       "      <td>0.999975</td>\n",
       "      <td>0.999975</td>\n",
       "      <td>0.999975</td>\n",
       "      <td>1.080390</td>\n",
       "    </tr>\n",
       "    <tr>\n",
       "      <th>4</th>\n",
       "      <td>Train</td>\n",
       "      <td>SVM</td>\n",
       "      <td>0.999586</td>\n",
       "      <td>0.999586</td>\n",
       "      <td>0.999179</td>\n",
       "      <td>0.999586</td>\n",
       "      <td>0.999993</td>\n",
       "      <td>0.999586</td>\n",
       "      <td>0.999586</td>\n",
       "      <td>0.999586</td>\n",
       "      <td>13.021335</td>\n",
       "    </tr>\n",
       "    <tr>\n",
       "      <th>5</th>\n",
       "      <td>Test</td>\n",
       "      <td>SVM</td>\n",
       "      <td>0.999641</td>\n",
       "      <td>0.999642</td>\n",
       "      <td>0.999284</td>\n",
       "      <td>0.999642</td>\n",
       "      <td>1.000000</td>\n",
       "      <td>0.999641</td>\n",
       "      <td>0.999642</td>\n",
       "      <td>0.999642</td>\n",
       "      <td>1.945580</td>\n",
       "    </tr>\n",
       "    <tr>\n",
       "      <th>6</th>\n",
       "      <td>Train</td>\n",
       "      <td>LR</td>\n",
       "      <td>0.999575</td>\n",
       "      <td>0.999575</td>\n",
       "      <td>0.999186</td>\n",
       "      <td>0.999575</td>\n",
       "      <td>0.999964</td>\n",
       "      <td>0.999575</td>\n",
       "      <td>0.999575</td>\n",
       "      <td>0.999575</td>\n",
       "      <td>1.639983</td>\n",
       "    </tr>\n",
       "    <tr>\n",
       "      <th>7</th>\n",
       "      <td>Test</td>\n",
       "      <td>LR</td>\n",
       "      <td>0.999600</td>\n",
       "      <td>0.999600</td>\n",
       "      <td>0.999251</td>\n",
       "      <td>0.999601</td>\n",
       "      <td>0.999950</td>\n",
       "      <td>0.999600</td>\n",
       "      <td>0.999600</td>\n",
       "      <td>0.999600</td>\n",
       "      <td>0.006982</td>\n",
       "    </tr>\n",
       "  </tbody>\n",
       "</table>\n",
       "</div>"
      ],
      "text/plain": [
       "  DataSet Model       AUC       ACC  Precision  Precision_avg    recall  \\\n",
       "0   Train    DT  0.999982  0.999982   0.999971       0.999982  0.999993   \n",
       "1    Test    DT  0.999933  0.999933   0.999867       0.999933  1.000000   \n",
       "2   Train    RF  0.999996  0.999996   0.999993       0.999996  1.000000   \n",
       "3    Test    RF  0.999975  0.999975   0.999967       0.999975  0.999983   \n",
       "4   Train   SVM  0.999586  0.999586   0.999179       0.999586  0.999993   \n",
       "5    Test   SVM  0.999641  0.999642   0.999284       0.999642  1.000000   \n",
       "6   Train    LR  0.999575  0.999575   0.999186       0.999575  0.999964   \n",
       "7    Test    LR  0.999600  0.999600   0.999251       0.999601  0.999950   \n",
       "\n",
       "   recall_avg        f1    f1_avg   Time (s)  \n",
       "0    0.999982  0.999982  0.999982   0.721232  \n",
       "1    0.999933  0.999933  0.999933   0.026427  \n",
       "2    0.999996  0.999996  0.999996  23.559973  \n",
       "3    0.999975  0.999975  0.999975   1.080390  \n",
       "4    0.999586  0.999586  0.999586  13.021335  \n",
       "5    0.999641  0.999642  0.999642   1.945580  \n",
       "6    0.999575  0.999575  0.999575   1.639983  \n",
       "7    0.999600  0.999600  0.999600   0.006982  "
      ]
     },
     "execution_count": 16,
     "metadata": {},
     "output_type": "execute_result"
    }
   ],
   "source": [
    "df_metrics = pd.read_csv('df_metrics.csv')\n",
    "df_metrics = pd.concat([df_metrics,metrics_train_test(y_train, y_train_pred, y_test, y_test_pred,end_train-start,end_predict-end_train,'LR')],ignore_index = True)\n",
    "df_metrics"
   ]
  },
  {
   "cell_type": "code",
   "execution_count": 17,
   "metadata": {},
   "outputs": [],
   "source": [
    "df_metrics.to_csv('./df_metrics.csv',index = False)"
   ]
  },
  {
   "cell_type": "markdown",
   "metadata": {},
   "source": [
    "<h1> Máquina vectorial de soporte lineal </h1>"
   ]
  },
  {
   "cell_type": "code",
   "execution_count": 18,
   "metadata": {},
   "outputs": [
    {
     "name": "stdout",
     "output_type": "stream",
     "text": [
      "Fitting 3 folds for each of 16 candidates, totalling 48 fits\n",
      "[CV 1/3] END alpha=1e-05, penalty=l2; acc: (train=1.000, test=1.000) auc: (train=1.000, test=1.000) f1: (train=1.000, test=1.000) precision: (train=0.999, test=0.999) recall: (train=1.000, test=1.000) total time=   0.7s\n",
      "[CV 2/3] END alpha=1e-05, penalty=l2; acc: (train=1.000, test=1.000) auc: (train=1.000, test=1.000) f1: (train=1.000, test=1.000) precision: (train=0.999, test=0.999) recall: (train=1.000, test=1.000) total time=   0.6s\n",
      "[CV 3/3] END alpha=1e-05, penalty=l2; acc: (train=1.000, test=1.000) auc: (train=1.000, test=1.000) f1: (train=1.000, test=1.000) precision: (train=0.999, test=0.999) recall: (train=1.000, test=1.000) total time=   0.6s\n",
      "[CV 1/3] END alpha=1e-05, penalty=l1; acc: (train=0.998, test=0.998) auc: (train=0.999, test=0.999) f1: (train=0.998, test=0.998) precision: (train=0.997, test=0.998) recall: (train=0.998, test=0.999) total time=   1.1s\n",
      "[CV 2/3] END alpha=1e-05, penalty=l1; acc: (train=1.000, test=0.999) auc: (train=1.000, test=1.000) f1: (train=1.000, test=0.999) precision: (train=0.999, test=0.999) recall: (train=1.000, test=1.000) total time=   0.8s\n",
      "[CV 3/3] END alpha=1e-05, penalty=l1; acc: (train=1.000, test=1.000) auc: (train=1.000, test=1.000) f1: (train=1.000, test=1.000) precision: (train=0.999, test=0.999) recall: (train=1.000, test=1.000) total time=   1.1s\n",
      "[CV 1/3] END alpha=0.0001, penalty=l2; acc: (train=0.999, test=0.999) auc: (train=1.000, test=1.000) f1: (train=0.999, test=0.999) precision: (train=0.998, test=0.998) recall: (train=1.000, test=1.000) total time=   0.5s\n",
      "[CV 2/3] END alpha=0.0001, penalty=l2; acc: (train=0.999, test=0.999) auc: (train=1.000, test=1.000) f1: (train=0.999, test=0.999) precision: (train=0.998, test=0.998) recall: (train=1.000, test=1.000) total time=   0.5s\n",
      "[CV 3/3] END alpha=0.0001, penalty=l2; acc: (train=0.999, test=0.999) auc: (train=1.000, test=1.000) f1: (train=0.999, test=0.999) precision: (train=0.998, test=0.998) recall: (train=1.000, test=1.000) total time=   0.5s\n",
      "[CV 1/3] END alpha=0.0001, penalty=l1; acc: (train=0.999, test=0.999) auc: (train=0.999, test=0.999) f1: (train=0.999, test=0.999) precision: (train=0.997, test=0.997) recall: (train=1.000, test=1.000) total time=   2.0s\n",
      "[CV 2/3] END alpha=0.0001, penalty=l1; acc: (train=0.999, test=0.999) auc: (train=1.000, test=1.000) f1: (train=0.999, test=0.999) precision: (train=0.999, test=0.999) recall: (train=1.000, test=1.000) total time=   1.3s\n",
      "[CV 3/3] END alpha=0.0001, penalty=l1; acc: (train=0.999, test=0.999) auc: (train=0.999, test=0.999) f1: (train=0.999, test=0.999) precision: (train=0.998, test=0.998) recall: (train=1.000, test=1.000) total time=   5.9s\n",
      "[CV 1/3] END alpha=0.001, penalty=l2; acc: (train=0.999, test=0.999) auc: (train=1.000, test=1.000) f1: (train=0.999, test=0.999) precision: (train=0.997, test=0.998) recall: (train=1.000, test=1.000) total time=   0.5s\n",
      "[CV 2/3] END alpha=0.001, penalty=l2; acc: (train=0.999, test=0.999) auc: (train=1.000, test=1.000) f1: (train=0.999, test=0.999) precision: (train=0.997, test=0.997) recall: (train=1.000, test=1.000) total time=   0.5s\n",
      "[CV 3/3] END alpha=0.001, penalty=l2; acc: (train=0.999, test=0.999) auc: (train=1.000, test=1.000) f1: (train=0.999, test=0.999) precision: (train=0.997, test=0.997) recall: (train=1.000, test=1.000) total time=   0.4s\n",
      "[CV 1/3] END alpha=0.001, penalty=l1; acc: (train=0.998, test=0.999) auc: (train=0.998, test=0.999) f1: (train=0.998, test=0.999) precision: (train=0.997, test=0.997) recall: (train=1.000, test=1.000) total time=   1.7s\n",
      "[CV 2/3] END alpha=0.001, penalty=l1; acc: (train=0.998, test=0.998) auc: (train=0.998, test=0.998) f1: (train=0.998, test=0.998) precision: (train=0.996, test=0.996) recall: (train=1.000, test=1.000) total time=   1.8s\n",
      "[CV 3/3] END alpha=0.001, penalty=l1; acc: (train=0.998, test=0.998) auc: (train=0.998, test=0.998) f1: (train=0.998, test=0.998) precision: (train=0.996, test=0.996) recall: (train=1.000, test=0.999) total time=   1.5s\n",
      "[CV 1/3] END alpha=0.01, penalty=l2; acc: (train=0.999, test=0.999) auc: (train=1.000, test=1.000) f1: (train=0.999, test=0.999) precision: (train=0.997, test=0.997) recall: (train=1.000, test=1.000) total time=   0.4s\n",
      "[CV 2/3] END alpha=0.01, penalty=l2; acc: (train=0.999, test=0.999) auc: (train=1.000, test=1.000) f1: (train=0.999, test=0.999) precision: (train=0.997, test=0.997) recall: (train=1.000, test=1.000) total time=   0.6s\n",
      "[CV 3/3] END alpha=0.01, penalty=l2; acc: (train=0.999, test=0.999) auc: (train=1.000, test=1.000) f1: (train=0.999, test=0.999) precision: (train=0.997, test=0.997) recall: (train=1.000, test=1.000) total time=   0.4s\n",
      "[CV 1/3] END alpha=0.01, penalty=l1; acc: (train=0.998, test=0.998) auc: (train=1.000, test=1.000) f1: (train=0.998, test=0.998) precision: (train=0.997, test=0.997) recall: (train=1.000, test=1.000) total time=   0.6s\n",
      "[CV 2/3] END alpha=0.01, penalty=l1; acc: (train=0.995, test=0.996) auc: (train=0.998, test=0.998) f1: (train=0.995, test=0.996) precision: (train=0.996, test=0.996) recall: (train=0.994, test=0.995) total time=   1.2s\n",
      "[CV 3/3] END alpha=0.01, penalty=l1; acc: (train=0.995, test=0.995) auc: (train=0.996, test=0.996) f1: (train=0.995, test=0.995) precision: (train=0.996, test=0.996) recall: (train=0.995, test=0.994) total time=   1.5s\n",
      "[CV 1/3] END alpha=0.1, penalty=l2; acc: (train=0.998, test=0.998) auc: (train=1.000, test=1.000) f1: (train=0.998, test=0.998) precision: (train=0.997, test=0.997) recall: (train=1.000, test=1.000) total time=   0.7s\n",
      "[CV 2/3] END alpha=0.1, penalty=l2; acc: (train=0.998, test=0.998) auc: (train=1.000, test=1.000) f1: (train=0.998, test=0.998) precision: (train=0.997, test=0.997) recall: (train=1.000, test=1.000) total time=   0.5s\n",
      "[CV 3/3] END alpha=0.1, penalty=l2; acc: (train=0.998, test=0.998) auc: (train=1.000, test=1.000) f1: (train=0.998, test=0.998) precision: (train=0.997, test=0.997) recall: (train=1.000, test=1.000) total time=   0.4s\n",
      "[CV 1/3] END alpha=0.1, penalty=l1; acc: (train=0.998, test=0.998) auc: (train=1.000, test=1.000) f1: (train=0.998, test=0.998) precision: (train=0.997, test=0.997) recall: (train=1.000, test=1.000) total time=   0.4s\n",
      "[CV 2/3] END alpha=0.1, penalty=l1; acc: (train=0.998, test=0.998) auc: (train=1.000, test=1.000) f1: (train=0.998, test=0.998) precision: (train=0.997, test=0.997) recall: (train=1.000, test=1.000) total time=   0.5s\n",
      "[CV 3/3] END alpha=0.1, penalty=l1; acc: (train=0.998, test=0.998) auc: (train=1.000, test=1.000) f1: (train=0.998, test=0.998) precision: (train=0.997, test=0.996) recall: (train=1.000, test=1.000) total time=   0.5s\n",
      "[CV 1/3] END alpha=1, penalty=l2; acc: (train=0.998, test=0.998) auc: (train=0.999, test=0.999) f1: (train=0.998, test=0.998) precision: (train=0.997, test=0.997) recall: (train=1.000, test=1.000) total time=   0.5s\n",
      "[CV 2/3] END alpha=1, penalty=l2; acc: (train=0.998, test=0.998) auc: (train=0.999, test=0.999) f1: (train=0.998, test=0.998) precision: (train=0.997, test=0.997) recall: (train=1.000, test=1.000) total time=   0.4s\n",
      "[CV 3/3] END alpha=1, penalty=l2; acc: (train=0.998, test=0.998) auc: (train=0.999, test=0.999) f1: (train=0.998, test=0.998) precision: (train=0.997, test=0.996) recall: (train=1.000, test=1.000) total time=   0.4s\n"
     ]
    },
    {
     "name": "stderr",
     "output_type": "stream",
     "text": [
      "c:\\Users\\kapla\\AppData\\Local\\Programs\\Python\\Python310\\lib\\site-packages\\sklearn\\metrics\\_classification.py:1327: UndefinedMetricWarning: Precision is ill-defined and being set to 0.0 due to no predicted samples. Use `zero_division` parameter to control this behavior.\n",
      "  _warn_prf(average, modifier, msg_start, len(result))\n",
      "c:\\Users\\kapla\\AppData\\Local\\Programs\\Python\\Python310\\lib\\site-packages\\sklearn\\metrics\\_classification.py:1327: UndefinedMetricWarning: Precision is ill-defined and being set to 0.0 due to no predicted samples. Use `zero_division` parameter to control this behavior.\n",
      "  _warn_prf(average, modifier, msg_start, len(result))\n"
     ]
    },
    {
     "name": "stdout",
     "output_type": "stream",
     "text": [
      "[CV 1/3] END alpha=1, penalty=l1; acc: (train=0.500, test=0.500) auc: (train=0.500, test=0.500) f1: (train=0.000, test=0.000) precision: (train=0.000, test=0.000) recall: (train=0.000, test=0.000) total time=   0.5s\n"
     ]
    },
    {
     "name": "stderr",
     "output_type": "stream",
     "text": [
      "c:\\Users\\kapla\\AppData\\Local\\Programs\\Python\\Python310\\lib\\site-packages\\sklearn\\metrics\\_classification.py:1327: UndefinedMetricWarning: Precision is ill-defined and being set to 0.0 due to no predicted samples. Use `zero_division` parameter to control this behavior.\n",
      "  _warn_prf(average, modifier, msg_start, len(result))\n",
      "c:\\Users\\kapla\\AppData\\Local\\Programs\\Python\\Python310\\lib\\site-packages\\sklearn\\metrics\\_classification.py:1327: UndefinedMetricWarning: Precision is ill-defined and being set to 0.0 due to no predicted samples. Use `zero_division` parameter to control this behavior.\n",
      "  _warn_prf(average, modifier, msg_start, len(result))\n"
     ]
    },
    {
     "name": "stdout",
     "output_type": "stream",
     "text": [
      "[CV 2/3] END alpha=1, penalty=l1; acc: (train=0.500, test=0.500) auc: (train=0.500, test=0.500) f1: (train=0.000, test=0.000) precision: (train=0.000, test=0.000) recall: (train=0.000, test=0.000) total time=   0.5s\n"
     ]
    },
    {
     "name": "stderr",
     "output_type": "stream",
     "text": [
      "c:\\Users\\kapla\\AppData\\Local\\Programs\\Python\\Python310\\lib\\site-packages\\sklearn\\metrics\\_classification.py:1327: UndefinedMetricWarning: Precision is ill-defined and being set to 0.0 due to no predicted samples. Use `zero_division` parameter to control this behavior.\n",
      "  _warn_prf(average, modifier, msg_start, len(result))\n",
      "c:\\Users\\kapla\\AppData\\Local\\Programs\\Python\\Python310\\lib\\site-packages\\sklearn\\metrics\\_classification.py:1327: UndefinedMetricWarning: Precision is ill-defined and being set to 0.0 due to no predicted samples. Use `zero_division` parameter to control this behavior.\n",
      "  _warn_prf(average, modifier, msg_start, len(result))\n"
     ]
    },
    {
     "name": "stdout",
     "output_type": "stream",
     "text": [
      "[CV 3/3] END alpha=1, penalty=l1; acc: (train=0.500, test=0.500) auc: (train=0.500, test=0.500) f1: (train=0.000, test=0.000) precision: (train=0.000, test=0.000) recall: (train=0.000, test=0.000) total time=   0.5s\n",
      "[CV 1/3] END alpha=10, penalty=l2; acc: (train=0.500, test=0.500) auc: (train=0.999, test=0.999) f1: (train=0.001, test=0.001) precision: (train=0.406, test=0.364) recall: (train=0.000, test=0.000) total time=   0.5s\n",
      "[CV 2/3] END alpha=10, penalty=l2; acc: (train=0.500, test=0.500) auc: (train=0.999, test=0.999) f1: (train=0.001, test=0.001) precision: (train=0.398, test=0.381) recall: (train=0.000, test=0.000) total time=   0.4s\n",
      "[CV 3/3] END alpha=10, penalty=l2; acc: (train=0.500, test=0.500) auc: (train=0.999, test=0.999) f1: (train=0.001, test=0.001) precision: (train=0.342, test=0.404) recall: (train=0.000, test=0.000) total time=   0.5s\n"
     ]
    },
    {
     "name": "stderr",
     "output_type": "stream",
     "text": [
      "c:\\Users\\kapla\\AppData\\Local\\Programs\\Python\\Python310\\lib\\site-packages\\sklearn\\metrics\\_classification.py:1327: UndefinedMetricWarning: Precision is ill-defined and being set to 0.0 due to no predicted samples. Use `zero_division` parameter to control this behavior.\n",
      "  _warn_prf(average, modifier, msg_start, len(result))\n",
      "c:\\Users\\kapla\\AppData\\Local\\Programs\\Python\\Python310\\lib\\site-packages\\sklearn\\metrics\\_classification.py:1327: UndefinedMetricWarning: Precision is ill-defined and being set to 0.0 due to no predicted samples. Use `zero_division` parameter to control this behavior.\n",
      "  _warn_prf(average, modifier, msg_start, len(result))\n"
     ]
    },
    {
     "name": "stdout",
     "output_type": "stream",
     "text": [
      "[CV 1/3] END alpha=10, penalty=l1; acc: (train=0.500, test=0.500) auc: (train=0.500, test=0.500) f1: (train=0.000, test=0.000) precision: (train=0.000, test=0.000) recall: (train=0.000, test=0.000) total time=   0.5s\n"
     ]
    },
    {
     "name": "stderr",
     "output_type": "stream",
     "text": [
      "c:\\Users\\kapla\\AppData\\Local\\Programs\\Python\\Python310\\lib\\site-packages\\sklearn\\metrics\\_classification.py:1327: UndefinedMetricWarning: Precision is ill-defined and being set to 0.0 due to no predicted samples. Use `zero_division` parameter to control this behavior.\n",
      "  _warn_prf(average, modifier, msg_start, len(result))\n",
      "c:\\Users\\kapla\\AppData\\Local\\Programs\\Python\\Python310\\lib\\site-packages\\sklearn\\metrics\\_classification.py:1327: UndefinedMetricWarning: Precision is ill-defined and being set to 0.0 due to no predicted samples. Use `zero_division` parameter to control this behavior.\n",
      "  _warn_prf(average, modifier, msg_start, len(result))\n"
     ]
    },
    {
     "name": "stdout",
     "output_type": "stream",
     "text": [
      "[CV 2/3] END alpha=10, penalty=l1; acc: (train=0.500, test=0.500) auc: (train=0.500, test=0.500) f1: (train=0.000, test=0.000) precision: (train=0.000, test=0.000) recall: (train=0.000, test=0.000) total time=   0.6s\n"
     ]
    },
    {
     "name": "stderr",
     "output_type": "stream",
     "text": [
      "c:\\Users\\kapla\\AppData\\Local\\Programs\\Python\\Python310\\lib\\site-packages\\sklearn\\metrics\\_classification.py:1327: UndefinedMetricWarning: Precision is ill-defined and being set to 0.0 due to no predicted samples. Use `zero_division` parameter to control this behavior.\n",
      "  _warn_prf(average, modifier, msg_start, len(result))\n",
      "c:\\Users\\kapla\\AppData\\Local\\Programs\\Python\\Python310\\lib\\site-packages\\sklearn\\metrics\\_classification.py:1327: UndefinedMetricWarning: Precision is ill-defined and being set to 0.0 due to no predicted samples. Use `zero_division` parameter to control this behavior.\n",
      "  _warn_prf(average, modifier, msg_start, len(result))\n"
     ]
    },
    {
     "name": "stdout",
     "output_type": "stream",
     "text": [
      "[CV 3/3] END alpha=10, penalty=l1; acc: (train=0.500, test=0.500) auc: (train=0.500, test=0.500) f1: (train=0.000, test=0.000) precision: (train=0.000, test=0.000) recall: (train=0.000, test=0.000) total time=   0.5s\n"
     ]
    },
    {
     "name": "stderr",
     "output_type": "stream",
     "text": [
      "c:\\Users\\kapla\\AppData\\Local\\Programs\\Python\\Python310\\lib\\site-packages\\sklearn\\metrics\\_classification.py:1327: UndefinedMetricWarning: Precision is ill-defined and being set to 0.0 due to no predicted samples. Use `zero_division` parameter to control this behavior.\n",
      "  _warn_prf(average, modifier, msg_start, len(result))\n",
      "c:\\Users\\kapla\\AppData\\Local\\Programs\\Python\\Python310\\lib\\site-packages\\sklearn\\metrics\\_classification.py:1327: UndefinedMetricWarning: Precision is ill-defined and being set to 0.0 due to no predicted samples. Use `zero_division` parameter to control this behavior.\n",
      "  _warn_prf(average, modifier, msg_start, len(result))\n"
     ]
    },
    {
     "name": "stdout",
     "output_type": "stream",
     "text": [
      "[CV 1/3] END alpha=100, penalty=l2; acc: (train=0.500, test=0.500) auc: (train=0.999, test=0.999) f1: (train=0.000, test=0.000) precision: (train=0.000, test=0.000) recall: (train=0.000, test=0.000) total time=   0.5s\n"
     ]
    },
    {
     "name": "stderr",
     "output_type": "stream",
     "text": [
      "c:\\Users\\kapla\\AppData\\Local\\Programs\\Python\\Python310\\lib\\site-packages\\sklearn\\metrics\\_classification.py:1327: UndefinedMetricWarning: Precision is ill-defined and being set to 0.0 due to no predicted samples. Use `zero_division` parameter to control this behavior.\n",
      "  _warn_prf(average, modifier, msg_start, len(result))\n",
      "c:\\Users\\kapla\\AppData\\Local\\Programs\\Python\\Python310\\lib\\site-packages\\sklearn\\metrics\\_classification.py:1327: UndefinedMetricWarning: Precision is ill-defined and being set to 0.0 due to no predicted samples. Use `zero_division` parameter to control this behavior.\n",
      "  _warn_prf(average, modifier, msg_start, len(result))\n"
     ]
    },
    {
     "name": "stdout",
     "output_type": "stream",
     "text": [
      "[CV 2/3] END alpha=100, penalty=l2; acc: (train=0.500, test=0.500) auc: (train=0.999, test=0.999) f1: (train=0.000, test=0.000) precision: (train=0.000, test=0.000) recall: (train=0.000, test=0.000) total time=   0.5s\n"
     ]
    },
    {
     "name": "stderr",
     "output_type": "stream",
     "text": [
      "c:\\Users\\kapla\\AppData\\Local\\Programs\\Python\\Python310\\lib\\site-packages\\sklearn\\metrics\\_classification.py:1327: UndefinedMetricWarning: Precision is ill-defined and being set to 0.0 due to no predicted samples. Use `zero_division` parameter to control this behavior.\n",
      "  _warn_prf(average, modifier, msg_start, len(result))\n",
      "c:\\Users\\kapla\\AppData\\Local\\Programs\\Python\\Python310\\lib\\site-packages\\sklearn\\metrics\\_classification.py:1327: UndefinedMetricWarning: Precision is ill-defined and being set to 0.0 due to no predicted samples. Use `zero_division` parameter to control this behavior.\n",
      "  _warn_prf(average, modifier, msg_start, len(result))\n"
     ]
    },
    {
     "name": "stdout",
     "output_type": "stream",
     "text": [
      "[CV 3/3] END alpha=100, penalty=l2; acc: (train=0.500, test=0.500) auc: (train=0.999, test=0.999) f1: (train=0.000, test=0.000) precision: (train=0.000, test=0.000) recall: (train=0.000, test=0.000) total time=   0.5s\n"
     ]
    },
    {
     "name": "stderr",
     "output_type": "stream",
     "text": [
      "c:\\Users\\kapla\\AppData\\Local\\Programs\\Python\\Python310\\lib\\site-packages\\sklearn\\metrics\\_classification.py:1327: UndefinedMetricWarning: Precision is ill-defined and being set to 0.0 due to no predicted samples. Use `zero_division` parameter to control this behavior.\n",
      "  _warn_prf(average, modifier, msg_start, len(result))\n",
      "c:\\Users\\kapla\\AppData\\Local\\Programs\\Python\\Python310\\lib\\site-packages\\sklearn\\metrics\\_classification.py:1327: UndefinedMetricWarning: Precision is ill-defined and being set to 0.0 due to no predicted samples. Use `zero_division` parameter to control this behavior.\n",
      "  _warn_prf(average, modifier, msg_start, len(result))\n"
     ]
    },
    {
     "name": "stdout",
     "output_type": "stream",
     "text": [
      "[CV 1/3] END alpha=100, penalty=l1; acc: (train=0.500, test=0.500) auc: (train=0.500, test=0.500) f1: (train=0.000, test=0.000) precision: (train=0.000, test=0.000) recall: (train=0.000, test=0.000) total time=   0.6s\n"
     ]
    },
    {
     "name": "stderr",
     "output_type": "stream",
     "text": [
      "c:\\Users\\kapla\\AppData\\Local\\Programs\\Python\\Python310\\lib\\site-packages\\sklearn\\metrics\\_classification.py:1327: UndefinedMetricWarning: Precision is ill-defined and being set to 0.0 due to no predicted samples. Use `zero_division` parameter to control this behavior.\n",
      "  _warn_prf(average, modifier, msg_start, len(result))\n",
      "c:\\Users\\kapla\\AppData\\Local\\Programs\\Python\\Python310\\lib\\site-packages\\sklearn\\metrics\\_classification.py:1327: UndefinedMetricWarning: Precision is ill-defined and being set to 0.0 due to no predicted samples. Use `zero_division` parameter to control this behavior.\n",
      "  _warn_prf(average, modifier, msg_start, len(result))\n"
     ]
    },
    {
     "name": "stdout",
     "output_type": "stream",
     "text": [
      "[CV 2/3] END alpha=100, penalty=l1; acc: (train=0.500, test=0.500) auc: (train=0.500, test=0.500) f1: (train=0.000, test=0.000) precision: (train=0.000, test=0.000) recall: (train=0.000, test=0.000) total time=   0.6s\n"
     ]
    },
    {
     "name": "stderr",
     "output_type": "stream",
     "text": [
      "c:\\Users\\kapla\\AppData\\Local\\Programs\\Python\\Python310\\lib\\site-packages\\sklearn\\metrics\\_classification.py:1327: UndefinedMetricWarning: Precision is ill-defined and being set to 0.0 due to no predicted samples. Use `zero_division` parameter to control this behavior.\n",
      "  _warn_prf(average, modifier, msg_start, len(result))\n",
      "c:\\Users\\kapla\\AppData\\Local\\Programs\\Python\\Python310\\lib\\site-packages\\sklearn\\metrics\\_classification.py:1327: UndefinedMetricWarning: Precision is ill-defined and being set to 0.0 due to no predicted samples. Use `zero_division` parameter to control this behavior.\n",
      "  _warn_prf(average, modifier, msg_start, len(result))\n"
     ]
    },
    {
     "name": "stdout",
     "output_type": "stream",
     "text": [
      "[CV 3/3] END alpha=100, penalty=l1; acc: (train=0.500, test=0.500) auc: (train=0.500, test=0.500) f1: (train=0.000, test=0.000) precision: (train=0.000, test=0.000) recall: (train=0.000, test=0.000) total time=   0.6s\n"
     ]
    }
   ],
   "source": [
    "clf = SGDClassifier(loss='hinge', random_state=0)\n",
    "param = {'alpha':[10**x for x in range(-5,3)],\n",
    "         'penalty': ['l2','l1']}\n",
    "\n",
    "# initialization\n",
    "scoring = {'auc':'roc_auc',\n",
    "        'acc' : 'accuracy',\n",
    "        'precision' : 'precision',\n",
    "        'recall' : 'recall',\n",
    "        'f1':'f1'}\n",
    "\n",
    "tuning_clf = GridSearchCV(clf, param, scoring=scoring, refit='acc', cv=3, verbose=3, return_train_score=True)\n",
    "hyperparam_tuning = tuning_clf.fit(x_train,y_train)"
   ]
  },
  {
   "cell_type": "code",
   "execution_count": 19,
   "metadata": {},
   "outputs": [
    {
     "name": "stdout",
     "output_type": "stream",
     "text": [
      "Mejor estimador:  SGDClassifier(alpha=1e-05, random_state=0)\n",
      "Mejores parámetros:  {'alpha': 1e-05, 'penalty': 'l2'}\n",
      "Mejor puntuación (accuracy): 0.9995571426147855\n"
     ]
    }
   ],
   "source": [
    "print('Mejor estimador: ', hyperparam_tuning.best_estimator_)\n",
    "print('Mejores parámetros: ', hyperparam_tuning.best_params_)\n",
    "print('Mejor puntuación (accuracy):', hyperparam_tuning.best_score_)"
   ]
  },
  {
   "cell_type": "code",
   "execution_count": 20,
   "metadata": {},
   "outputs": [],
   "source": [
    "# Entrenamiento del modelo\n",
    "start = time.time()\n",
    "model = SGDClassifier(loss='hinge', random_state=0, alpha = 1e-05, penalty = 'l2').fit(x_train,y_train)\n",
    "end_train = time.time()\n",
    "y_test_pred = model.predict(x_test)\n",
    "end_predict = time.time()\n",
    "y_train_pred = model.predict(x_train)\n"
   ]
  },
  {
   "cell_type": "code",
   "execution_count": 21,
   "metadata": {},
   "outputs": [
    {
     "data": {
      "text/plain": [
       "{'alpha': 1e-05,\n",
       " 'average': False,\n",
       " 'class_weight': None,\n",
       " 'early_stopping': False,\n",
       " 'epsilon': 0.1,\n",
       " 'eta0': 0.0,\n",
       " 'fit_intercept': True,\n",
       " 'l1_ratio': 0.15,\n",
       " 'learning_rate': 'optimal',\n",
       " 'loss': 'hinge',\n",
       " 'max_iter': 1000,\n",
       " 'n_iter_no_change': 5,\n",
       " 'n_jobs': None,\n",
       " 'penalty': 'l2',\n",
       " 'power_t': 0.5,\n",
       " 'random_state': 0,\n",
       " 'shuffle': True,\n",
       " 'tol': 0.001,\n",
       " 'validation_fraction': 0.1,\n",
       " 'verbose': 0,\n",
       " 'warm_start': False}"
      ]
     },
     "execution_count": 21,
     "metadata": {},
     "output_type": "execute_result"
    }
   ],
   "source": [
    "# Saving the Model to disk\n",
    "pickle.dump(model, open('model_clf_SVM_Linear.pkl', 'wb'))\n",
    "model.get_params()"
   ]
  },
  {
   "cell_type": "code",
   "execution_count": 22,
   "metadata": {},
   "outputs": [
    {
     "data": {
      "image/png": "[encoded data removed]",
      "text/plain": [
       "<Figure size 1152x360 with 2 Axes>"
      ]
     },
     "metadata": {
      "needs_background": "light"
     },
     "output_type": "display_data"
    },
    {
     "data": {
      "image/png": "[encoded data removed]",
      "text/plain": [
       "<Figure size 1152x360 with 2 Axes>"
      ]
     },
     "metadata": {
      "needs_background": "light"
     },
     "output_type": "display_data"
    }
   ],
   "source": [
    "confusion_matrix_graf(y_train, y_train_pred, 'Train')\n",
    "confusion_matrix_graf(y_test, y_test_pred, 'Test')"
   ]
  },
  {
   "cell_type": "code",
   "execution_count": 23,
   "metadata": {},
   "outputs": [
    {
     "data": {
      "image/png": "[encoded data removed]",
      "text/plain": [
       "<Figure size 432x288 with 1 Axes>"
      ]
     },
     "metadata": {
      "needs_background": "light"
     },
     "output_type": "display_data"
    },
    {
     "data": {
      "text/html": [
       "<div>\n",
       "<style scoped>\n",
       "    .dataframe tbody tr th:only-of-type {\n",
       "        vertical-align: middle;\n",
       "    }\n",
       "\n",
       "    .dataframe tbody tr th {\n",
       "        vertical-align: top;\n",
       "    }\n",
       "\n",
       "    .dataframe thead th {\n",
       "        text-align: right;\n",
       "    }\n",
       "</style>\n",
       "<table border=\"1\" class=\"dataframe\">\n",
       "  <thead>\n",
       "    <tr style=\"text-align: right;\">\n",
       "      <th></th>\n",
       "      <th>DataSet</th>\n",
       "      <th>Model</th>\n",
       "      <th>AUC</th>\n",
       "      <th>ACC</th>\n",
       "      <th>Precision</th>\n",
       "      <th>Precision_avg</th>\n",
       "      <th>recall</th>\n",
       "      <th>recall_avg</th>\n",
       "      <th>f1</th>\n",
       "      <th>f1_avg</th>\n",
       "      <th>Time (s)</th>\n",
       "    </tr>\n",
       "  </thead>\n",
       "  <tbody>\n",
       "    <tr>\n",
       "      <th>0</th>\n",
       "      <td>Train</td>\n",
       "      <td>DT</td>\n",
       "      <td>0.999982</td>\n",
       "      <td>0.999982</td>\n",
       "      <td>0.999971</td>\n",
       "      <td>0.999982</td>\n",
       "      <td>0.999993</td>\n",
       "      <td>0.999982</td>\n",
       "      <td>0.999982</td>\n",
       "      <td>0.999982</td>\n",
       "      <td>0.721232</td>\n",
       "    </tr>\n",
       "    <tr>\n",
       "      <th>1</th>\n",
       "      <td>Test</td>\n",
       "      <td>DT</td>\n",
       "      <td>0.999933</td>\n",
       "      <td>0.999933</td>\n",
       "      <td>0.999867</td>\n",
       "      <td>0.999933</td>\n",
       "      <td>1.000000</td>\n",
       "      <td>0.999933</td>\n",
       "      <td>0.999933</td>\n",
       "      <td>0.999933</td>\n",
       "      <td>0.026427</td>\n",
       "    </tr>\n",
       "    <tr>\n",
       "      <th>2</th>\n",
       "      <td>Train</td>\n",
       "      <td>RF</td>\n",
       "      <td>0.999996</td>\n",
       "      <td>0.999996</td>\n",
       "      <td>0.999993</td>\n",
       "      <td>0.999996</td>\n",
       "      <td>1.000000</td>\n",
       "      <td>0.999996</td>\n",
       "      <td>0.999996</td>\n",
       "      <td>0.999996</td>\n",
       "      <td>23.559973</td>\n",
       "    </tr>\n",
       "    <tr>\n",
       "      <th>3</th>\n",
       "      <td>Test</td>\n",
       "      <td>RF</td>\n",
       "      <td>0.999975</td>\n",
       "      <td>0.999975</td>\n",
       "      <td>0.999967</td>\n",
       "      <td>0.999975</td>\n",
       "      <td>0.999983</td>\n",
       "      <td>0.999975</td>\n",
       "      <td>0.999975</td>\n",
       "      <td>0.999975</td>\n",
       "      <td>1.080390</td>\n",
       "    </tr>\n",
       "    <tr>\n",
       "      <th>4</th>\n",
       "      <td>Train</td>\n",
       "      <td>SVM</td>\n",
       "      <td>0.999586</td>\n",
       "      <td>0.999586</td>\n",
       "      <td>0.999179</td>\n",
       "      <td>0.999586</td>\n",
       "      <td>0.999993</td>\n",
       "      <td>0.999586</td>\n",
       "      <td>0.999586</td>\n",
       "      <td>0.999586</td>\n",
       "      <td>13.021335</td>\n",
       "    </tr>\n",
       "    <tr>\n",
       "      <th>5</th>\n",
       "      <td>Test</td>\n",
       "      <td>SVM</td>\n",
       "      <td>0.999641</td>\n",
       "      <td>0.999642</td>\n",
       "      <td>0.999284</td>\n",
       "      <td>0.999642</td>\n",
       "      <td>1.000000</td>\n",
       "      <td>0.999641</td>\n",
       "      <td>0.999642</td>\n",
       "      <td>0.999642</td>\n",
       "      <td>1.945580</td>\n",
       "    </tr>\n",
       "    <tr>\n",
       "      <th>6</th>\n",
       "      <td>Train</td>\n",
       "      <td>LR</td>\n",
       "      <td>0.999575</td>\n",
       "      <td>0.999575</td>\n",
       "      <td>0.999186</td>\n",
       "      <td>0.999575</td>\n",
       "      <td>0.999964</td>\n",
       "      <td>0.999575</td>\n",
       "      <td>0.999575</td>\n",
       "      <td>0.999575</td>\n",
       "      <td>1.639983</td>\n",
       "    </tr>\n",
       "    <tr>\n",
       "      <th>7</th>\n",
       "      <td>Test</td>\n",
       "      <td>LR</td>\n",
       "      <td>0.999600</td>\n",
       "      <td>0.999600</td>\n",
       "      <td>0.999251</td>\n",
       "      <td>0.999601</td>\n",
       "      <td>0.999950</td>\n",
       "      <td>0.999600</td>\n",
       "      <td>0.999600</td>\n",
       "      <td>0.999600</td>\n",
       "      <td>0.006982</td>\n",
       "    </tr>\n",
       "    <tr>\n",
       "      <th>8</th>\n",
       "      <td>Train</td>\n",
       "      <td>SVM_Linear</td>\n",
       "      <td>0.999593</td>\n",
       "      <td>0.999593</td>\n",
       "      <td>0.999222</td>\n",
       "      <td>0.999593</td>\n",
       "      <td>0.999964</td>\n",
       "      <td>0.999593</td>\n",
       "      <td>0.999593</td>\n",
       "      <td>0.999593</td>\n",
       "      <td>0.676241</td>\n",
       "    </tr>\n",
       "    <tr>\n",
       "      <th>9</th>\n",
       "      <td>Test</td>\n",
       "      <td>SVM_Linear</td>\n",
       "      <td>0.999625</td>\n",
       "      <td>0.999625</td>\n",
       "      <td>0.999301</td>\n",
       "      <td>0.999625</td>\n",
       "      <td>0.999950</td>\n",
       "      <td>0.999625</td>\n",
       "      <td>0.999625</td>\n",
       "      <td>0.999625</td>\n",
       "      <td>0.007987</td>\n",
       "    </tr>\n",
       "  </tbody>\n",
       "</table>\n",
       "</div>"
      ],
      "text/plain": [
       "  DataSet       Model       AUC       ACC  Precision  Precision_avg    recall  \\\n",
       "0   Train          DT  0.999982  0.999982   0.999971       0.999982  0.999993   \n",
       "1    Test          DT  0.999933  0.999933   0.999867       0.999933  1.000000   \n",
       "2   Train          RF  0.999996  0.999996   0.999993       0.999996  1.000000   \n",
       "3    Test          RF  0.999975  0.999975   0.999967       0.999975  0.999983   \n",
       "4   Train         SVM  0.999586  0.999586   0.999179       0.999586  0.999993   \n",
       "5    Test         SVM  0.999641  0.999642   0.999284       0.999642  1.000000   \n",
       "6   Train          LR  0.999575  0.999575   0.999186       0.999575  0.999964   \n",
       "7    Test          LR  0.999600  0.999600   0.999251       0.999601  0.999950   \n",
       "8   Train  SVM_Linear  0.999593  0.999593   0.999222       0.999593  0.999964   \n",
       "9    Test  SVM_Linear  0.999625  0.999625   0.999301       0.999625  0.999950   \n",
       "\n",
       "   recall_avg        f1    f1_avg   Time (s)  \n",
       "0    0.999982  0.999982  0.999982   0.721232  \n",
       "1    0.999933  0.999933  0.999933   0.026427  \n",
       "2    0.999996  0.999996  0.999996  23.559973  \n",
       "3    0.999975  0.999975  0.999975   1.080390  \n",
       "4    0.999586  0.999586  0.999586  13.021335  \n",
       "5    0.999641  0.999642  0.999642   1.945580  \n",
       "6    0.999575  0.999575  0.999575   1.639983  \n",
       "7    0.999600  0.999600  0.999600   0.006982  \n",
       "8    0.999593  0.999593  0.999593   0.676241  \n",
       "9    0.999625  0.999625  0.999625   0.007987  "
      ]
     },
     "execution_count": 23,
     "metadata": {},
     "output_type": "execute_result"
    }
   ],
   "source": [
    "df_metrics = pd.read_csv('df_metrics.csv')\n",
    "df_metrics = pd.concat([df_metrics,metrics_train_test(y_train, y_train_pred, y_test, y_test_pred, end_train-start,end_predict-end_train,'SVM_Linear')],ignore_index = True)\n",
    "df_metrics"
   ]
  },
  {
   "cell_type": "code",
   "execution_count": 24,
   "metadata": {},
   "outputs": [],
   "source": [
    "df_metrics.to_csv('./df_metrics.csv',index = False)"
   ]
  },
  {
   "cell_type": "code",
   "execution_count": 11,
   "metadata": {},
   "outputs": [],
   "source": [
    "pickle_model = pickle.load(open('model_clf_DT.pkl','rb'))\n"
   ]
  }
 ],
 "metadata": {
  "kernelspec": {
   "display_name": "Python 3.10.4 64-bit",
   "language": "python",
   "name": "python3"
  },
  "language_info": {
   "codemirror_mode": {
    "name": "ipython",
    "version": 3
   },
   "file_extension": ".py",
   "mimetype": "text/x-python",
   "name": "python",
   "nbconvert_exporter": "python",
   "pygments_lexer": "ipython3",
   "version": "3.10.4"
  },
  "orig_nbformat": 4,
  "vscode": {
   "interpreter": {
    "hash": "b302dde3c6e3e22086ea8eec4a7a605a5a5b758cd449bd57dd386672850e0735"
   }
  }
 },
 "nbformat": 4,
 "nbformat_minor": 2
}
